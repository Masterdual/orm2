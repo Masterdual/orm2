{
  "nbformat": 4,
  "nbformat_minor": 0,
  "metadata": {
    "colab": {
      "provenance": [],
      "authorship_tag": "ABX9TyPjIoEVUy4N1T+lWdAYgFcC",
      "include_colab_link": true
    },
    "kernelspec": {
      "name": "python3",
      "display_name": "Python 3"
    },
    "language_info": {
      "name": "python"
    }
  },
  "cells": [
    {
      "cell_type": "markdown",
      "metadata": {
        "id": "view-in-github",
        "colab_type": "text"
      },
      "source": [
        "<a href=\"https://colab.research.google.com/github/Masterdual/orm2/blob/main/%EA%B3%A0%EC%B0%A8%ED%95%A8%EC%88%98_%EA%B0%84%EB%8B%A8_%EB%AC%B8%EC%A0%9C.ipynb\" target=\"_parent\"><img src=\"https://colab.research.google.com/assets/colab-badge.svg\" alt=\"Open In Colab\"/></a>"
      ]
    },
    {
      "cell_type": "code",
      "execution_count": 1,
      "metadata": {
        "id": "V8eIoXrgdX8E"
      },
      "outputs": [],
      "source": [
        "# def apply_function(lst, func):\n",
        "#     pass\n",
        "\n",
        "# # 예제 사용\n",
        "# result = apply_function([1, 2, 3, 4], lambda x: x * 2)\n",
        "# print(result)  # [2, 4, 6, 8]이 출력되어야 함"
      ]
    },
    {
      "cell_type": "code",
      "source": [
        "def apply_function(lst, func):\n",
        "    return list(map(func,lst))\n",
        "\n",
        "result = apply_function([1, 2, 3, 4], lambda x: x * 2)\n",
        "print(result)"
      ],
      "metadata": {
        "colab": {
          "base_uri": "https://localhost:8080/"
        },
        "id": "D1y9ZQFmdl0y",
        "outputId": "3444f563-62be-495e-8efa-9f5a3bef13d4"
      },
      "execution_count": 3,
      "outputs": [
        {
          "output_type": "stream",
          "name": "stdout",
          "text": [
            "[2, 4, 6, 8]\n"
          ]
        }
      ]
    },
    {
      "cell_type": "code",
      "source": [
        "# def multiply_by_n(n):\n",
        "#     pass\n",
        "\n",
        "# # 예제 사용\n",
        "# multiplier = multiply_by_n(5)\n",
        "# print(multiplier(3))  # 15가 출력되어야 함"
      ],
      "metadata": {
        "id": "pGfCiyicdmGe"
      },
      "execution_count": 2,
      "outputs": []
    },
    {
      "cell_type": "code",
      "source": [
        "def multiply_by_n(n):\n",
        "    return lambda x: x * n\n",
        "\n",
        "multiplier = multiply_by_n(5)\n",
        "print(multiplier(3))"
      ],
      "metadata": {
        "colab": {
          "base_uri": "https://localhost:8080/"
        },
        "id": "g2k3FFvqdng0",
        "outputId": "d3e66a9c-86d6-43e6-ee5a-08e7c0483be7"
      },
      "execution_count": 6,
      "outputs": [
        {
          "output_type": "stream",
          "name": "stdout",
          "text": [
            "15\n"
          ]
        }
      ]
    },
    {
      "cell_type": "code",
      "source": [
        "def apply_function(lst, func):\n",
        "    return list(map(func,lst))\n",
        "\n",
        "result = apply_function([1, 2, 3, 4], lambda x: x * 2)\n",
        "print(result)\n",
        "\n",
        "def multiply_by_n(n):\n",
        "    return lambda x: x * n\n",
        "\n",
        "multiplier = multiply_by_n(5)\n",
        "print(multiplier(3))"
      ],
      "metadata": {
        "id": "19wt1KxsqjQc"
      },
      "execution_count": null,
      "outputs": []
    }
  ]
}