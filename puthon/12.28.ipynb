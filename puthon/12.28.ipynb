{
  "nbformat": 4,
  "nbformat_minor": 0,
  "metadata": {
    "colab": {
      "provenance": []
    },
    "kernelspec": {
      "name": "python3",
      "display_name": "Python 3"
    },
    "language_info": {
      "name": "python"
    }
  },
  "cells": [
    {
      "cell_type": "code",
      "execution_count": 2,
      "metadata": {
        "colab": {
          "base_uri": "https://localhost:8080/"
        },
        "id": "tVq6_IL-O_DF",
        "outputId": "56ddeccf-c59f-441a-968c-767abb9a32df"
      },
      "outputs": [
        {
          "output_type": "stream",
          "name": "stdout",
          "text": [
            "hello mister my yesterday\n"
          ]
        }
      ],
      "source": [
        "print('hello mister my yesterday')"
      ]
    }
  ]
}