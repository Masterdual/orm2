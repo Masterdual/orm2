{
  "nbformat": 4,
  "nbformat_minor": 0,
  "metadata": {
    "colab": {
      "provenance": [],
      "authorship_tag": "ABX9TyOpRLS8EP+MzgKdkJCPo/qX",
      "include_colab_link": true
    },
    "kernelspec": {
      "name": "python3",
      "display_name": "Python 3"
    },
    "language_info": {
      "name": "python"
    }
  },
  "cells": [
    {
      "cell_type": "markdown",
      "metadata": {
        "id": "view-in-github",
        "colab_type": "text"
      },
      "source": [
        "<a href=\"https://colab.research.google.com/github/Masterdual/orm2/blob/main/%EA%B3%BC%EC%A0%9C_%ED%92%80%EC%9D%B4_%ED%81%AC%EB%A1%A4%EB%A7%81.ipynb\" target=\"_parent\"><img src=\"https://colab.research.google.com/assets/colab-badge.svg\" alt=\"Open In Colab\"/></a>"
      ]
    },
    {
      "cell_type": "markdown",
      "source": [
        "오늘 진행한 책 크롤링 코드를 이용하여 다음 요구사항을 만족하는 코드를 작성해주세요.\n",
        "\n",
        "1. 모든 텍스트는 앞, 뒤 공백이 제거된 텍스트여야 합니다.\n",
        "2. 가격은 int 형이어야 합니다.\n",
        "3. 저자는 앞에 '저자: '가 없어야 합니다.\n",
        "4. 가격을 달러로 바꿔주는 메서드를 작성해주세요.\n",
        "5. 할인 메서드를 작성해주세요. 할인율이 들어가면 변경되어야 합니다.\n",
        "5.1 object.discount(10) => 10프로 할인된 가격을 반환합니다.\n",
        "5.2 object.discount(0) => 0프로 할인된 가격을 반환합니다.\n"
      ],
      "metadata": {
        "id": "QmBK4ad-jY-I"
      }
    },
    {
      "cell_type": "code",
      "execution_count": 36,
      "metadata": {
        "colab": {
          "base_uri": "https://localhost:8080/"
        },
        "id": "fvENI93hjVQg",
        "outputId": "9659ded7-1c47-454d-92c4-528ce3116154"
      },
      "outputs": [
        {
          "output_type": "stream",
          "name": "stdout",
          "text": [
            "느티나무 20000  오정희\n",
            "<class 'int'>\n",
            "달러로 환산하면 16 달러가 나옵니다\n",
            "할인 10% 적용하시면 18000원 입니다\n",
            "할인 0% 가격은 20000원 입니다\n"
          ]
        }
      ],
      "source": [
        "class book:\n",
        "    def __init__(self, name, price, author):\n",
        "        self.name = name.strip()\n",
        "        self.price = int(price.strip().replace('가격',''))\n",
        "        self.author = author.strip().replace('저자:','')\n",
        "\n",
        "    def __str__(self):\n",
        "        return self.name\n",
        "\n",
        "    def price(self):\n",
        "        return self.price\n",
        "\n",
        "    def author(self):\n",
        "        return self.author\n",
        "\n",
        "    def change_doller(self):\n",
        "        return self.price // 1200\n",
        "\n",
        "    def discount_price(self, discounted): # 할인 메서드\n",
        "        if 0 <= discounted <= 100:\n",
        "            discounted_price = int(self.price * (1 - discounted / 100))\n",
        "            return discounted_price\n",
        "        else:\n",
        "            print('잘못 입력된 할인율입니다')\n",
        "            return self.price\n",
        "\n",
        "Book = ['   느티나무   ','   가격 20000   ','  저자: 오정희   '] # 예시용 셈플\n",
        "Books = book(*Book)\n",
        "\n",
        "print(Books.name, Books.price, Books.author) # 공백 제거 가격및 저자 제거 (1, 3)\n",
        "\n",
        "print(type(Books.price)) # 가격은 int()으로 출력\n",
        "\n",
        "print(f'달러로 환산하면 {Books.change_doller()} 달러가 나옵니다') # 달러 환산해서 출력하기\n",
        "\n",
        "print(f'할인 10% 적용하시면 {Books.discount_price(10)}원 입니다') # 10% 할인된 가격으로 반환\n",
        "\n",
        "print(f'할인 0% 가격은 {Books.discount_price(0)}원 입니다') # 0% 할인된 가격으로 반환"
      ]
    },
    {
      "cell_type": "code",
      "source": [
        "class Book:\n",
        "    def __init__(self, name, price, author):\n",
        "        self.name = name.strip()\n",
        "        self.price = int(price.strip().replace('가격', ''))\n",
        "        self.author = author.strip().replace('저자:', '')\n",
        "\n",
        "    def __str__(self):\n",
        "        return self.name\n",
        "\n",
        "    def change_dollar(self):\n",
        "        return self.price // 1200\n",
        "\n",
        "    def discount(self, discount_percentage):\n",
        "        if 0 <= discount_percentage <= 100:\n",
        "            discounted_price = self.price * (1 - discount_percentage / 100)\n",
        "            return discounted_price\n",
        "        else:\n",
        "            print('잘못 입력된 할인율입니다')\n",
        "            return self.price  # Return original price if discount percentage is invalid\n",
        "\n",
        "# Example usage:\n",
        "book_info = ['   느티나무   ', '   가격 20000   ', '  저자: 오정희   ']\n",
        "book_instance = Book(*book_info)\n",
        "\n",
        "# Accessing and printing price of the book\n",
        "print(f'Original Price: {book_instance.price}')\n",
        "\n",
        "# Converting the price to dollars\n",
        "dollars = book_instance.change_dollar()\n",
        "print(f'Price in Dollars: {dollars}')\n",
        "\n",
        "# Applying a discount of 10%\n",
        "discounted_price = book_instance.discount(10)\n",
        "print(f'Discounted Price (10%): {discounted_price}')\n",
        "\n",
        "# Applying a discount of 0%\n",
        "zero_discounted_price = book_instance.discount(0)\n",
        "print(f'Discounted Price (0%): {zero_discounted_price}')\n"
      ],
      "metadata": {
        "colab": {
          "base_uri": "https://localhost:8080/"
        },
        "id": "ReQloV7xC7My",
        "outputId": "b294411d-d5a9-4845-e1d4-9bf70dedfaac"
      },
      "execution_count": 1,
      "outputs": [
        {
          "output_type": "stream",
          "name": "stdout",
          "text": [
            "Original Price: 20000\n",
            "Price in Dollars: 16\n",
            "Discounted Price (10%): 18000.0\n",
            "Discounted Price (0%): 20000.0\n"
          ]
        }
      ]
    },
    {
      "cell_type": "code",
      "source": [
        "def change_doller(self):\n",
        "    change_doller1 = price2 // 1200\n",
        "    return change_doller1\n",
        "\n",
        "price = '   200000     '\n",
        "price2 = int(price.strip().replace('가격',''))\n",
        "result = change_doller(price2)\n",
        "\n",
        "print(price2)\n",
        "print(type(price2))\n",
        "print(result)"
      ],
      "metadata": {
        "id": "gvgngPcL40Ry"
      },
      "execution_count": null,
      "outputs": []
    },
    {
      "cell_type": "code",
      "source": [
        "def discount_price(self, discounted):\n",
        "    discounted_price = int(int(price) * (1 - discounted / 100))\n",
        "    return discounted_price\n",
        "\n",
        "result = discount_price(price,10)\n",
        "\n",
        "print(result)"
      ],
      "metadata": {
        "id": "M2aXvgmf5oJo"
      },
      "execution_count": null,
      "outputs": []
    },
    {
      "cell_type": "code",
      "source": [
        "f = '  200000 가격     '\n",
        "print(f.strip().replace('가격',''))"
      ],
      "metadata": {
        "id": "W_gAd7rf7OEg"
      },
      "execution_count": null,
      "outputs": []
    }
  ]
}