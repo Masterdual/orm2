{
  "nbformat": 4,
  "nbformat_minor": 0,
  "metadata": {
    "colab": {
      "provenance": [],
      "authorship_tag": "ABX9TyNCa8CJs0poUUJnIVRZkFtX",
      "include_colab_link": true
    },
    "kernelspec": {
      "name": "python3",
      "display_name": "Python 3"
    },
    "language_info": {
      "name": "python"
    }
  },
  "cells": [
    {
      "cell_type": "markdown",
      "metadata": {
        "id": "view-in-github",
        "colab_type": "text"
      },
      "source": [
        "<a href=\"https://colab.research.google.com/github/Masterdual/orm2/blob/main/%EB%AA%A8%EB%91%90%EC%97%B03%EC%A3%BC%EC%B0%A8%EB%B0%98%EB%B3%B5%EB%AC%B8.ipynb\" target=\"_parent\"><img src=\"https://colab.research.google.com/assets/colab-badge.svg\" alt=\"Open In Colab\"/></a>"
      ]
    },
    {
      "cell_type": "markdown",
      "source": [
        "# 반복문"
      ],
      "metadata": {
        "id": "loBTyxVYExRb"
      }
    },
    {
      "cell_type": "code",
      "source": [
        "# 함수\n",
        "def 함수명():\n",
        "    pass"
      ],
      "metadata": {
        "id": "Z3o0EqCsE1OE"
      },
      "execution_count": 1,
      "outputs": []
    },
    {
      "cell_type": "code",
      "source": [
        "#조건문\n",
        "if 조건:\n",
        "    pass\n"
      ],
      "metadata": {
        "id": "SNEweWy8E6SO"
      },
      "execution_count": null,
      "outputs": []
    },
    {
      "cell_type": "code",
      "source": [
        "#반복문\n",
        "for 변수명 in 순회_가능한_객체:\n",
        "    pass # 수행할_문장"
      ],
      "metadata": {
        "id": "7j3x77aHE-aL"
      },
      "execution_count": null,
      "outputs": []
    },
    {
      "cell_type": "code",
      "source": [
        "#반복문 기초 - 문자열\n",
        "#1. 'hello'를 순서대로 하나씩 단어를 꺼내서\n",
        "#2. x에 하나씩 넣은 다음에\n",
        "#3. 하나씩 for문 아래 코드블럭을 수행한다\n",
        "#4. 그리고 순서가 마쳐지면 -> 다음 시퀀스(순서)로 넘어가서 똑같은 작업을 수행한다\n",
        "\n",
        "for x in 'hello': #순회 가능한 객체가 들어간다 -> 문자열 / 리스트 / 다른 데이터셋 / range(10) / 기타등등\n",
        "    print(f'현재 값은 {x} 입니다')"
      ],
      "metadata": {
        "colab": {
          "base_uri": "https://localhost:8080/"
        },
        "id": "TXYAoHZjFKAt",
        "outputId": "ede5ba13-e9ec-4cc7-8c7c-6c34eba1c079"
      },
      "execution_count": 4,
      "outputs": [
        {
          "output_type": "stream",
          "name": "stdout",
          "text": [
            "현재 값은 h 입니다\n",
            "현재 값은 e 입니다\n",
            "현재 값은 l 입니다\n",
            "현재 값은 l 입니다\n",
            "현재 값은 o 입니다\n"
          ]
        }
      ]
    },
    {
      "cell_type": "code",
      "source": [
        "for x in (1, 2, 3, 4, 5):\n",
        "    print(f'현재 값은 {x} 입니다.')"
      ],
      "metadata": {
        "colab": {
          "base_uri": "https://localhost:8080/"
        },
        "id": "326LNOP4FiTz",
        "outputId": "08e82885-4e9b-42c1-8f13-ee0c4538af4c"
      },
      "execution_count": 5,
      "outputs": [
        {
          "output_type": "stream",
          "name": "stdout",
          "text": [
            "현재 값은 1 입니다.\n",
            "현재 값은 2 입니다.\n",
            "현재 값은 3 입니다.\n",
            "현재 값은 4 입니다.\n",
            "현재 값은 5 입니다.\n"
          ]
        }
      ]
    },
    {
      "cell_type": "code",
      "source": [
        "s = 'hello world'\n",
        "for i in s:\n",
        "    print(i)"
      ],
      "metadata": {
        "colab": {
          "base_uri": "https://localhost:8080/"
        },
        "id": "gr72OLRAG2Vr",
        "outputId": "3c8c5415-932a-455c-855e-06201ee65f72"
      },
      "execution_count": 6,
      "outputs": [
        {
          "output_type": "stream",
          "name": "stdout",
          "text": [
            "h\n",
            "e\n",
            "l\n",
            "l\n",
            "o\n",
            " \n",
            "w\n",
            "o\n",
            "r\n",
            "l\n",
            "d\n"
          ]
        }
      ]
    },
    {
      "cell_type": "code",
      "source": [
        "s = '123'\n",
        "result = 0\n",
        "for i in s:\n",
        "    result += int(i)\n",
        "\n",
        "print(result)"
      ],
      "metadata": {
        "colab": {
          "base_uri": "https://localhost:8080/"
        },
        "id": "JeMNlsDgHZu7",
        "outputId": "5b9a6a1f-f6e6-4150-9678-53a2735a42ba"
      },
      "execution_count": 8,
      "outputs": [
        {
          "output_type": "stream",
          "name": "stdout",
          "text": [
            "6\n"
          ]
        }
      ]
    },
    {
      "cell_type": "code",
      "source": [
        "단어_사전 = {\n",
        "    '하나' : 'one',\n",
        "    '둘' : 'two',\n",
        "    '셋' : 'three',\n",
        "}\n",
        "\n",
        "for i in 단어_사전.items():\n",
        "    print(i)"
      ],
      "metadata": {
        "colab": {
          "base_uri": "https://localhost:8080/"
        },
        "id": "8aJ4eMGSHpdK",
        "outputId": "c570620b-d74f-444c-a88c-9940bc3be4aa"
      },
      "execution_count": 11,
      "outputs": [
        {
          "output_type": "stream",
          "name": "stdout",
          "text": [
            "('하나', 'one')\n",
            "('둘', 'two')\n",
            "('셋', 'three')\n"
          ]
        }
      ]
    },
    {
      "cell_type": "code",
      "source": [
        "# 짝수코드 작성!\n",
        "#리스트라면 비어있는 리스트라도 만들어야한다 result = []\n",
        "# 비어있는 자료형도 자료형이다 none도 자료형이다\n",
        "\n",
        "result = 0\n",
        "for i in range(101): # 0~100까지 시퀸스 자료형 불러온다\n",
        "    if i % 2 == 0:   # 0~100까지 중에서 짝수만 취급\n",
        "        result += i  # 짝수를 가져와서 누적으로 더한다 0, 2, 4, 6, ... 100 까지 더한다.\n",
        "print(result) # 출력한다."
      ],
      "metadata": {
        "colab": {
          "base_uri": "https://localhost:8080/"
        },
        "id": "nd3A0azfHzw7",
        "outputId": "858cc40a-8301-4f96-fc6e-ed02af752b21"
      },
      "execution_count": 12,
      "outputs": [
        {
          "output_type": "execute_result",
          "data": {
            "text/plain": [
              "2550"
            ]
          },
          "metadata": {},
          "execution_count": 12
        }
      ]
    },
    {
      "cell_type": "code",
      "source": [
        "# 홀수 코드 작성!\n",
        "\n",
        "result = 0\n",
        "for i in range(101): # 0~100까지 시퀸스 자료형 불러온다\n",
        "    if i % 2 == 1:   # 0~100까지 중에서 홀수만 취급\n",
        "        result += i  # 짝수를 가져와서 적으로 더한다 1, 3, 5, 7, ... 99 까지 더한다.\n",
        "print(result)"
      ],
      "metadata": {
        "colab": {
          "base_uri": "https://localhost:8080/"
        },
        "id": "ilftWjeqMHg5",
        "outputId": "a3531ae1-fff9-49c7-81e7-1008ad2b6f9c"
      },
      "execution_count": 14,
      "outputs": [
        {
          "output_type": "stream",
          "name": "stdout",
          "text": [
            "2500\n"
          ]
        }
      ]
    },
    {
      "cell_type": "markdown",
      "source": [
        "# 2.중첩 반복문"
      ],
      "metadata": {
        "id": "aNm6p0yrNFSx"
      }
    },
    {
      "cell_type": "code",
      "source": [
        "# code1\n",
        "for i in [[1, 2], [10, 20], [100, 200]]:\n",
        "    print(i)"
      ],
      "metadata": {
        "colab": {
          "base_uri": "https://localhost:8080/"
        },
        "id": "mrTedrluNzp6",
        "outputId": "913210e9-51c7-42d0-82cc-3326c39d11bc"
      },
      "execution_count": 15,
      "outputs": [
        {
          "output_type": "stream",
          "name": "stdout",
          "text": [
            "[1, 2]\n",
            "[10, 20]\n",
            "[100, 200]\n"
          ]
        }
      ]
    },
    {
      "cell_type": "code",
      "source": [
        "# code2\n",
        "for j in [1, 2]:\n",
        "    print(j)"
      ],
      "metadata": {
        "colab": {
          "base_uri": "https://localhost:8080/"
        },
        "id": "JomlmVZ3N1px",
        "outputId": "49af1876-5987-4da0-c246-314b90b52d48"
      },
      "execution_count": 16,
      "outputs": [
        {
          "output_type": "stream",
          "name": "stdout",
          "text": [
            "1\n",
            "2\n"
          ]
        }
      ]
    },
    {
      "cell_type": "code",
      "source": [
        "# 리스트안에 리스트를 나열하는 방법\n",
        "\n",
        "for i in [[1, 2], [10, 20], [100, 200]]:\n",
        "    for l in i:\n",
        "        print(l)"
      ],
      "metadata": {
        "colab": {
          "base_uri": "https://localhost:8080/"
        },
        "id": "Out3aLfZObmx",
        "outputId": "c1d8f305-1843-4464-b607-06f23a503392"
      },
      "execution_count": 25,
      "outputs": [
        {
          "output_type": "stream",
          "name": "stdout",
          "text": [
            "1\n",
            "2\n",
            "10\n",
            "20\n",
            "100\n",
            "200\n"
          ]
        }
      ]
    },
    {
      "cell_type": "code",
      "source": [
        "#1. 방듬처럼 구조를 정한다.\n",
        "#2. 최소한의 반복문만 수행해본다.\n",
        "#3. 각 반복문을 print()해본다."
      ],
      "metadata": {
        "id": "2d3vbRBUOmTZ"
      },
      "execution_count": 26,
      "outputs": []
    },
    {
      "cell_type": "code",
      "source": [
        "#1. i = [1,2]\n",
        "#2. print(i) -> [1,2] -> 원래는 생략이 가능하다"
      ],
      "metadata": {
        "id": "_XbnrZ7DQUQy"
      },
      "execution_count": null,
      "outputs": []
    },
    {
      "cell_type": "code",
      "source": [
        "for i in [[1, 2], [10, 20], [100, 200]]:\n",
        "    print(i)\n",
        "    print(sum(i))\n",
        "    for l in i:\n",
        "        print(l)"
      ],
      "metadata": {
        "colab": {
          "base_uri": "https://localhost:8080/"
        },
        "id": "DjS5nclYPfpo",
        "outputId": "eb984347-c34d-49c7-df8f-f4d1b0b7cd11"
      },
      "execution_count": 39,
      "outputs": [
        {
          "output_type": "stream",
          "name": "stdout",
          "text": [
            "[1, 2]\n",
            "3\n",
            "1\n",
            "2\n",
            "[10, 20]\n",
            "30\n",
            "10\n",
            "20\n",
            "[100, 200]\n",
            "300\n",
            "100\n",
            "200\n"
          ]
        }
      ]
    },
    {
      "cell_type": "code",
      "source": [
        "for l in i:\n",
        "    print(l)"
      ],
      "metadata": {
        "colab": {
          "base_uri": "https://localhost:8080/"
        },
        "id": "LsqvEinlPkOQ",
        "outputId": "5d3ff010-f0d2-44ce-afc0-48924a80706f"
      },
      "execution_count": 37,
      "outputs": [
        {
          "output_type": "stream",
          "name": "stdout",
          "text": [
            "100\n",
            "200\n"
          ]
        }
      ]
    },
    {
      "cell_type": "code",
      "source": [
        "for i in range(2, 10): # 2~9까지 i의 범위에 들어간다\n",
        "    print(f'---{i}단---') # 2단 먼저 실행후 마지막 9단 실행\n",
        "    for j in range(1, 10): # 1~9까지 j의 범위에 들어간다\n",
        "        print(f'{i} X {j} = {i * j}') # 두숫자의 범위내에 순차적으로 반복해서 출력"
      ],
      "metadata": {
        "id": "3c50hbtvPoWB"
      },
      "execution_count": null,
      "outputs": []
    },
    {
      "cell_type": "code",
      "source": [
        "for i in range(2, 20): # 2~19까지 i의 범위에 들어간다\n",
        "    print(f'---{i}단---') # 2단 먼저 실행후 마지막 9단 실행\n",
        "    for j in range(1, 20): # 1~19까지 j의 범위에 들어간다\n",
        "        print(f'{i} X {j} = {i * j}') # 두숫자의 범위내에 순차적으로 반복해서 출력"
      ],
      "metadata": {
        "id": "XG5xw0v7Qpi4"
      },
      "execution_count": null,
      "outputs": []
    },
    {
      "cell_type": "markdown",
      "source": [
        "#2.2 리스트 컴프리핸션"
      ],
      "metadata": {
        "id": "pY7mpAsqRmfh"
      }
    },
    {
      "cell_type": "code",
      "source": [
        "x = []\n",
        "\n",
        "for i in range(1, 10):\n",
        "  x.append(i)\n",
        "\n",
        "print(x)"
      ],
      "metadata": {
        "colab": {
          "base_uri": "https://localhost:8080/"
        },
        "id": "UdXA0LPNSGOJ",
        "outputId": "a02c0a97-e567-42f4-d4e2-400ee45f6840"
      },
      "execution_count": 44,
      "outputs": [
        {
          "output_type": "stream",
          "name": "stdout",
          "text": [
            "[1, 2, 3, 4, 5, 6, 7, 8, 9]\n"
          ]
        }
      ]
    },
    {
      "cell_type": "code",
      "source": [
        "# 리스트 컴프리헨션\n",
        "# step1 list안에 for문을 가져옵니다.\n",
        "for i in range(1, 10): # for문 시작하는 조건을 가져오고 리스트로 묶는다\n",
        "    pass\n",
        "\n",
        "# step2 append 항목을 앞으로 가져옵니다. - 여기서 i -> 자동으로 append\n",
        "a = [i for i in range(1, 10)] # 출력: [1, 2, 3, 4, 5, 6, 7, 8, 9]\n",
        "b = [i*2 for i in range(1, 10)] # 출력: [1, 2, 3, 4, 5, 6, 7, 8, 9]\n",
        "print(a, b)"
      ],
      "metadata": {
        "colab": {
          "base_uri": "https://localhost:8080/"
        },
        "id": "ab0PWFoASLQg",
        "outputId": "d52d3d26-bda2-45b1-ef1d-197a9b2fd01d"
      },
      "execution_count": 54,
      "outputs": [
        {
          "output_type": "stream",
          "name": "stdout",
          "text": [
            "[1, 2, 3, 4, 5, 6, 7, 8, 9] [2, 4, 6, 8, 10, 12, 14, 16, 18]\n"
          ]
        }
      ]
    },
    {
      "cell_type": "code",
      "source": [
        "l = [i for i in range(1, 100) if i % 3 == 0 or i % 5 == 0]\n",
        "print(l)"
      ],
      "metadata": {
        "colab": {
          "base_uri": "https://localhost:8080/"
        },
        "id": "pQm4bleaUhIS",
        "outputId": "5cf82419-0af0-47c7-e439-870cf11a48f1"
      },
      "execution_count": 55,
      "outputs": [
        {
          "output_type": "stream",
          "name": "stdout",
          "text": [
            "[3, 5, 6, 9, 10, 12, 15, 18, 20, 21, 24, 25, 27, 30, 33, 35, 36, 39, 40, 42, 45, 48, 50, 51, 54, 55, 57, 60, 63, 65, 66, 69, 70, 72, 75, 78, 80, 81, 84, 85, 87, 90, 93, 95, 96, 99]\n"
          ]
        }
      ]
    },
    {
      "cell_type": "code",
      "source": [
        "l = []\n",
        "for i in range(1, 100):\n",
        "    if i % 3 == 0 or i % 5 == 0:\n",
        "        l.append(i)\n",
        "print(l)"
      ],
      "metadata": {
        "colab": {
          "base_uri": "https://localhost:8080/"
        },
        "id": "8gAzY8MQSNFJ",
        "outputId": "5aa73d8c-5768-4fe6-92b6-58e0a63ffdb3"
      },
      "execution_count": 56,
      "outputs": [
        {
          "output_type": "stream",
          "name": "stdout",
          "text": [
            "[3, 5, 6, 9, 10, 12, 15, 18, 20, 21, 24, 25, 27, 30, 33, 35, 36, 39, 40, 42, 45, 48, 50, 51, 54, 55, 57, 60, 63, 65, 66, 69, 70, 72, 75, 78, 80, 81, 84, 85, 87, 90, 93, 95, 96, 99]\n"
          ]
        }
      ]
    },
    {
      "cell_type": "code",
      "source": [
        "result = []\n",
        "nums = [1, 2, 3, 4, 5, 6, 7]\n",
        "for x in nums:\n",
        "    if x > 3:\n",
        "        if x % 2 == 0:\n",
        "            result.append(f'{x}는 3보다 큰 짝수')\n",
        "        else:\n",
        "            result.append(f'{x}는 3보다 큰 홀수')\n",
        "print(result)"
      ],
      "metadata": {
        "colab": {
          "base_uri": "https://localhost:8080/"
        },
        "id": "HkJ3tNPBUtF8",
        "outputId": "08baec83-4c23-4153-f48e-af235d454982"
      },
      "execution_count": 58,
      "outputs": [
        {
          "output_type": "stream",
          "name": "stdout",
          "text": [
            "['4는 3보다 큰 짝수', '5는 3보다 큰 홀수', '6는 3보다 큰 짝수', '7는 3보다 큰 홀수']\n"
          ]
        }
      ]
    },
    {
      "cell_type": "code",
      "source": [
        "# step1 list안에 for문을 가져옵니다.\n",
        "for i in range(1, 10):\n",
        "    pass\n",
        "\n",
        "# step2 append 항목을 앞으로 가져옵니다.\n",
        "a = [i for i in range(1, 10)] # 출력: [1, 2, 3, 4, 5, 6, 7, 8, 9]\n",
        "b = [i*2 for i in range(1, 10)] # 출력: [1, 2, 3, 4, 5, 6, 7, 8, 9]\n",
        "print(a, b)"
      ],
      "metadata": {
        "colab": {
          "base_uri": "https://localhost:8080/"
        },
        "id": "qiEkyZEySwnR",
        "outputId": "b13c47f6-cd93-4610-d50b-7ff845ebf72e"
      },
      "execution_count": 65,
      "outputs": [
        {
          "output_type": "stream",
          "name": "stdout",
          "text": [
            "[1, 2, 3, 4, 5, 6, 7, 8, 9] [2, 4, 6, 8, 10, 12, 14, 16, 18]\n"
          ]
        }
      ]
    },
    {
      "cell_type": "code",
      "source": [
        "# 중첩된 리스트 컴프리헨션\n",
        "\n",
        "# 리스트 컴프리헨션: 중첩된 반복문\n",
        "c = [f'{i} × {j} = {i*j}' for i in range(2, 10) for j in range(1, 10)]\n",
        "\n",
        "# 리스트 컴프리헨션: 중첩된 컴프리헨션\n",
        "cc = [[f'{i} × {j} = {i*j}' for j in range(1, 10)] for i in range(2, 10)]\n",
        "\n",
        "# 전통적인 방법\n",
        "c_list = []\n",
        "for i in range(2, 10):\n",
        "    for j in range(1, 10):\n",
        "        c_list.append(f'{i} × {j} = {i*j}')"
      ],
      "metadata": {
        "id": "xL3jFRnYVjK_"
      },
      "execution_count": 66,
      "outputs": []
    },
    {
      "cell_type": "code",
      "source": [
        "print(c)\n",
        "print(cc)"
      ],
      "metadata": {
        "colab": {
          "base_uri": "https://localhost:8080/"
        },
        "id": "SK81cML5n7nq",
        "outputId": "a464cd8b-8e57-4d86-a95d-cbb9535462f6"
      },
      "execution_count": 67,
      "outputs": [
        {
          "output_type": "stream",
          "name": "stdout",
          "text": [
            "['2 × 1 = 2', '2 × 2 = 4', '2 × 3 = 6', '2 × 4 = 8', '2 × 5 = 10', '2 × 6 = 12', '2 × 7 = 14', '2 × 8 = 16', '2 × 9 = 18', '3 × 1 = 3', '3 × 2 = 6', '3 × 3 = 9', '3 × 4 = 12', '3 × 5 = 15', '3 × 6 = 18', '3 × 7 = 21', '3 × 8 = 24', '3 × 9 = 27', '4 × 1 = 4', '4 × 2 = 8', '4 × 3 = 12', '4 × 4 = 16', '4 × 5 = 20', '4 × 6 = 24', '4 × 7 = 28', '4 × 8 = 32', '4 × 9 = 36', '5 × 1 = 5', '5 × 2 = 10', '5 × 3 = 15', '5 × 4 = 20', '5 × 5 = 25', '5 × 6 = 30', '5 × 7 = 35', '5 × 8 = 40', '5 × 9 = 45', '6 × 1 = 6', '6 × 2 = 12', '6 × 3 = 18', '6 × 4 = 24', '6 × 5 = 30', '6 × 6 = 36', '6 × 7 = 42', '6 × 8 = 48', '6 × 9 = 54', '7 × 1 = 7', '7 × 2 = 14', '7 × 3 = 21', '7 × 4 = 28', '7 × 5 = 35', '7 × 6 = 42', '7 × 7 = 49', '7 × 8 = 56', '7 × 9 = 63', '8 × 1 = 8', '8 × 2 = 16', '8 × 3 = 24', '8 × 4 = 32', '8 × 5 = 40', '8 × 6 = 48', '8 × 7 = 56', '8 × 8 = 64', '8 × 9 = 72', '9 × 1 = 9', '9 × 2 = 18', '9 × 3 = 27', '9 × 4 = 36', '9 × 5 = 45', '9 × 6 = 54', '9 × 7 = 63', '9 × 8 = 72', '9 × 9 = 81']\n",
            "[['2 × 1 = 2', '2 × 2 = 4', '2 × 3 = 6', '2 × 4 = 8', '2 × 5 = 10', '2 × 6 = 12', '2 × 7 = 14', '2 × 8 = 16', '2 × 9 = 18'], ['3 × 1 = 3', '3 × 2 = 6', '3 × 3 = 9', '3 × 4 = 12', '3 × 5 = 15', '3 × 6 = 18', '3 × 7 = 21', '3 × 8 = 24', '3 × 9 = 27'], ['4 × 1 = 4', '4 × 2 = 8', '4 × 3 = 12', '4 × 4 = 16', '4 × 5 = 20', '4 × 6 = 24', '4 × 7 = 28', '4 × 8 = 32', '4 × 9 = 36'], ['5 × 1 = 5', '5 × 2 = 10', '5 × 3 = 15', '5 × 4 = 20', '5 × 5 = 25', '5 × 6 = 30', '5 × 7 = 35', '5 × 8 = 40', '5 × 9 = 45'], ['6 × 1 = 6', '6 × 2 = 12', '6 × 3 = 18', '6 × 4 = 24', '6 × 5 = 30', '6 × 6 = 36', '6 × 7 = 42', '6 × 8 = 48', '6 × 9 = 54'], ['7 × 1 = 7', '7 × 2 = 14', '7 × 3 = 21', '7 × 4 = 28', '7 × 5 = 35', '7 × 6 = 42', '7 × 7 = 49', '7 × 8 = 56', '7 × 9 = 63'], ['8 × 1 = 8', '8 × 2 = 16', '8 × 3 = 24', '8 × 4 = 32', '8 × 5 = 40', '8 × 6 = 48', '8 × 7 = 56', '8 × 8 = 64', '8 × 9 = 72'], ['9 × 1 = 9', '9 × 2 = 18', '9 × 3 = 27', '9 × 4 = 36', '9 × 5 = 45', '9 × 6 = 54', '9 × 7 = 63', '9 × 8 = 72', '9 × 9 = 81']]\n"
          ]
        }
      ]
    },
    {
      "cell_type": "code",
      "source": [
        "def sumthingFunction(i):\n",
        "    if i % 100 ==0:\n",
        "        return i\n",
        "    else:\n",
        "        return 0\n",
        "\n",
        "l = [100, 200, 300, 101, 202, 303]\n",
        "l = [sumthingFunction(i) for i in l]\n",
        "l # 출력: [100, 200, 300, 0, 0, 0]"
      ],
      "metadata": {
        "colab": {
          "base_uri": "https://localhost:8080/"
        },
        "id": "nzd0a_vKoKdc",
        "outputId": "cdf2d4f2-eb92-407c-c6f9-b46b28b7db58"
      },
      "execution_count": 68,
      "outputs": [
        {
          "output_type": "execute_result",
          "data": {
            "text/plain": [
              "[100, 200, 300, 0, 0, 0]"
            ]
          },
          "metadata": {},
          "execution_count": 68
        }
      ]
    },
    {
      "cell_type": "code",
      "source": [
        "# 딕셔너리 컴프리핸션\n",
        "\n",
        "# 전통적인 방법\n",
        "d = {}\n",
        "for i in range(5):\n",
        "    d[i] = i**2\n",
        "print(d)\n",
        "\n",
        "# 딕셔너리 컴프리헨션 사용\n",
        "dd = {i: i**2 for i in range(5)}\n",
        "print(dd)"
      ],
      "metadata": {
        "colab": {
          "base_uri": "https://localhost:8080/"
        },
        "id": "JxQfDC5PpNHq",
        "outputId": "72f899bc-d737-457c-bb23-3acef91993b2"
      },
      "execution_count": 70,
      "outputs": [
        {
          "output_type": "stream",
          "name": "stdout",
          "text": [
            "{0: 0, 1: 1, 2: 4, 3: 9, 4: 16}\n",
            "{0: 0, 1: 1, 2: 4, 3: 9, 4: 16}\n"
          ]
        }
      ]
    },
    {
      "cell_type": "code",
      "source": [
        "# 복합 순회형 자료 for문\n",
        "\n",
        "for i, j, k in ['abc', 'def', 'ghi' ]:\n",
        "    print(i,j,k)"
      ],
      "metadata": {
        "colab": {
          "base_uri": "https://localhost:8080/"
        },
        "id": "_ATXLq6VqzDT",
        "outputId": "80d4023b-0dc8-4ca2-997c-7d9a88337085"
      },
      "execution_count": 71,
      "outputs": [
        {
          "output_type": "stream",
          "name": "stdout",
          "text": [
            "a b c\n",
            "d e f\n",
            "g h i\n"
          ]
        }
      ]
    },
    {
      "cell_type": "code",
      "source": [
        "skill = [\n",
        "        ('고기잡이', 100),\n",
        "        ('고기팔기', 120),\n",
        "        ('낚시', 5),\n",
        "        ('통발', 5),\n",
        "        ('큰그물', 5)\n",
        "]\n",
        "\n",
        "for i, j in skill:\n",
        "    print(i, j)"
      ],
      "metadata": {
        "colab": {
          "base_uri": "https://localhost:8080/"
        },
        "id": "HuKQYUgZr4xJ",
        "outputId": "4eacd1cb-40ee-441a-95f6-3aa6a3b99807"
      },
      "execution_count": 72,
      "outputs": [
        {
          "output_type": "stream",
          "name": "stdout",
          "text": [
            "고기잡이 100\n",
            "고기팔기 120\n",
            "낚시 5\n",
            "통발 5\n",
            "큰그물 5\n"
          ]
        }
      ]
    },
    {
      "cell_type": "code",
      "source": [
        "# 하나만 리스트여도 쌓이면 상관없이 잘 돌아감\n",
        "skill = [\n",
        "        ('고기잡이', 100, 'SS'),\n",
        "        ('고기팔기', 120, 'SSS'),\n",
        "        ('낚시', 5, 'C'),\n",
        "        ('통발', 5, 'C'),\n",
        "        ('큰그물', 5, 'C')\n",
        "]\n",
        "\n",
        "for skillName, skillLevel, skillGrade in skill:\n",
        "    print(skillName, skillLevel, skillGrade)"
      ],
      "metadata": {
        "colab": {
          "base_uri": "https://localhost:8080/"
        },
        "id": "BcLh3ne1sOAd",
        "outputId": "b1c31290-8f8b-44bd-a28e-e5307de16376"
      },
      "execution_count": 73,
      "outputs": [
        {
          "output_type": "stream",
          "name": "stdout",
          "text": [
            "고기잡이 100 SS\n",
            "고기팔기 120 SSS\n",
            "낚시 5 C\n",
            "통발 5 C\n",
            "큰그물 5 C\n"
          ]
        }
      ]
    },
    {
      "cell_type": "code",
      "source": [
        "영화누적관객수 = ['레미제라블', '뷰티인사이트', '매트릭스', '인셉션', '어거스트 러쉬']\n",
        "for i in enumerate(영화누적관객수):\n",
        "    print(i)\n",
        "\n",
        "for i, j in enumerate(영화누적관객수, 1):\n",
        "    print(f'누적관객수 {i}위! {j}!')"
      ],
      "metadata": {
        "colab": {
          "base_uri": "https://localhost:8080/"
        },
        "id": "ipYrZoCtssxj",
        "outputId": "5597bd16-02c6-4be1-84f9-9f0fa4b1bac0"
      },
      "execution_count": 74,
      "outputs": [
        {
          "output_type": "stream",
          "name": "stdout",
          "text": [
            "(0, '레미제라블')\n",
            "(1, '뷰티인사이트')\n",
            "(2, '매트릭스')\n",
            "(3, '인셉션')\n",
            "(4, '어거스트 러쉬')\n",
            "누적관객수 1위! 레미제라블!\n",
            "누적관객수 2위! 뷰티인사이트!\n",
            "누적관객수 3위! 매트릭스!\n",
            "누적관객수 4위! 인셉션!\n",
            "누적관객수 5위! 어거스트 러쉬!\n"
          ]
        }
      ]
    },
    {
      "cell_type": "code",
      "source": [
        "영화누적관객수 = ['레미제라블', '뷰티인사이트', '매트릭스', '인셉션', '어거스트 러쉬']\n",
        "for i, j in enumerate(영화누적관객수, 100):\n",
        "    print(f'누적관객수 {i}위! {j}!') # i에는 index값 j에는 영화제목! ,1 -> 1부터 시작!"
      ],
      "metadata": {
        "colab": {
          "base_uri": "https://localhost:8080/"
        },
        "id": "F9I-kCZAthFa",
        "outputId": "e42fc47c-63e0-4818-e108-0e95a54271cd"
      },
      "execution_count": 76,
      "outputs": [
        {
          "output_type": "stream",
          "name": "stdout",
          "text": [
            "누적관객수 100위! 레미제라블!\n",
            "누적관객수 101위! 뷰티인사이트!\n",
            "누적관객수 102위! 매트릭스!\n",
            "누적관객수 103위! 인셉션!\n",
            "누적관객수 104위! 어거스트 러쉬!\n"
          ]
        }
      ]
    },
    {
      "cell_type": "markdown",
      "source": [
        "# 3. while"
      ],
      "metadata": {
        "id": "EYJ5B62xtocZ"
      }
    },
    {
      "cell_type": "code",
      "source": [
        "while 구문:\n",
        "    pass # 수행할 문장"
      ],
      "metadata": {
        "id": "4yKh_b1KwYhx"
      },
      "execution_count": null,
      "outputs": []
    },
    {
      "cell_type": "code",
      "source": [
        "# while문 기초\n",
        "\n",
        "a = 1\n",
        "\n",
        "while a < 10 : # 조건이 만족할때 까지\n",
        "\tprint(a)\n",
        "\ta += 1\n",
        "\n",
        "# for문 기초\n",
        "for i in range(1, 10):\n",
        "    print(i)"
      ],
      "metadata": {
        "colab": {
          "base_uri": "https://localhost:8080/"
        },
        "id": "tR5PncGPwcer",
        "outputId": "9cda2d39-5e6e-456e-a12e-5c681bde05c4"
      },
      "execution_count": 78,
      "outputs": [
        {
          "output_type": "stream",
          "name": "stdout",
          "text": [
            "1\n",
            "2\n",
            "3\n",
            "4\n",
            "5\n",
            "6\n",
            "7\n",
            "8\n",
            "9\n",
            "1\n",
            "2\n",
            "3\n",
            "4\n",
            "5\n",
            "6\n",
            "7\n",
            "8\n",
            "9\n"
          ]
        }
      ]
    },
    {
      "cell_type": "markdown",
      "source": [
        "# 프로그램1.스무고개 만들기"
      ],
      "metadata": {
        "id": "ItwvQF_3whx8"
      }
    },
    {
      "cell_type": "markdown",
      "source": [
        "#1.1 숫자를 입력받기\n",
        "* input을 활용햐서 숫자를 입력 받으세요!\n",
        "* 20번안에 숫자를 맞춰야하는 게임"
      ],
      "metadata": {
        "id": "grnEYQvz0mFr"
      }
    },
    {
      "cell_type": "code",
      "source": [
        "number = int(input('숫자를 입력하세요~ (1~100사이)'))"
      ],
      "metadata": {
        "colab": {
          "base_uri": "https://localhost:8080/"
        },
        "id": "Oei1BKgB08R4",
        "outputId": "f6fd2e0e-ba13-4f75-fea5-34436c6ade33"
      },
      "execution_count": 80,
      "outputs": [
        {
          "name": "stdout",
          "output_type": "stream",
          "text": [
            "숫자를 입력하세요~ (1~100사이)50\n"
          ]
        }
      ]
    },
    {
      "cell_type": "code",
      "source": [
        "print(number)\n",
        "print(type(number))"
      ],
      "metadata": {
        "colab": {
          "base_uri": "https://localhost:8080/"
        },
        "id": "t4QFpYsu0xPp",
        "outputId": "7f7bf6b3-0cab-4f76-8f95-c4c906c1dac3"
      },
      "execution_count": 81,
      "outputs": [
        {
          "output_type": "stream",
          "name": "stdout",
          "text": [
            "50\n",
            "<class 'int'>\n"
          ]
        }
      ]
    },
    {
      "cell_type": "code",
      "source": [
        "# 우리가 맞춰야하는 숫자!\n",
        "import random\n",
        "\n",
        "secret_number = random.randrange(1, 101)"
      ],
      "metadata": {
        "id": "Op5LzMfF036R"
      },
      "execution_count": 82,
      "outputs": []
    },
    {
      "cell_type": "code",
      "source": [
        "# 정답을 위한 step 1\n",
        "# if문을 사용해서 같으면 정답 틀리면 틀렸습니다 라고 출력해보기!\n",
        "\n",
        "if number == secret_number:\n",
        "    print('정답입니다')\n",
        "else:\n",
        "    print('틀렸습니다')"
      ],
      "metadata": {
        "colab": {
          "base_uri": "https://localhost:8080/"
        },
        "id": "gb0ozBmF1gwI",
        "outputId": "829878a5-c8fc-49b6-8407-d5e12bd3cd04"
      },
      "execution_count": 88,
      "outputs": [
        {
          "output_type": "stream",
          "name": "stdout",
          "text": [
            "틀렸습니다\n"
          ]
        }
      ]
    },
    {
      "cell_type": "code",
      "source": [
        "# step 1을 구현했는데\n",
        "# 최대 100번까지 맞춰야한다\n",
        "# input을 계속 입력해야한다.\n",
        "# 힌트가 없다\n",
        "\n",
        "# step 2 -> 20번을 반복하는 기능을 구현! for문"
      ],
      "metadata": {
        "id": "HD3ZjXJD2KRZ"
      },
      "execution_count": 89,
      "outputs": []
    },
    {
      "cell_type": "code",
      "source": [
        "#for문을 추가하면서 재배치!\n",
        "\n",
        "secret_number = random.randrange(1, 101) # 고정값! # Step 3. secret_number은 고정 값\n",
        "\n",
        "for i in range(20): # Step1. 반복할 값을 지정한다.\n",
        "    number = int(input('숫자를 입력하세요~ (1에서 100사이)')) # Step 2. input을 지정한다.\n",
        "    if number == secret_number: # Step 4 : 조건문\n",
        "        print(\"정답\")\n",
        "    else:55\n",
        "        print(\"틀렸습니다.\")\n",
        "\n",
        "# 계속 틀리다가 맞추면 정답! 출력 하긴한다. 20번을 무조건 반복한다."
      ],
      "metadata": {
        "id": "Wo162IqZ5okZ"
      },
      "execution_count": null,
      "outputs": []
    },
    {
      "cell_type": "code",
      "source": [
        "import random\n",
        "\n",
        "secret_number = random.randrange(1, 101)\n",
        "\n",
        "for i in range(20):\n",
        "    guess = guess + 1\n",
        "    guess = int(input('숫자를 입력하세요~(1~100까지)'))\n",
        "    if number == secret_number:\n",
        "        print('정답입니다 {guess}번 만에 맞췄습니다')\n",
        "    elif number > secret_number:\n",
        "        print('숫자가 더 작습니다')\n",
        "        guess = guess + 1\n",
        "    elif number < secret_number:\n",
        "        print('숫자가 더 큽니다')\n",
        "        guess = guess + 1\n",
        "    if guess == 20:\n",
        "        print(f'정답은 {secret_number} 입니다')"
      ],
      "metadata": {
        "colab": {
          "base_uri": "https://localhost:8080/",
          "height": 147
        },
        "id": "DZqyD7AF2zIX",
        "outputId": "3ab3c789-0420-4a62-b8d6-0f9a17eab5ba"
      },
      "execution_count": 133,
      "outputs": [
        {
          "output_type": "error",
          "ename": "SyntaxError",
          "evalue": "invalid syntax (<ipython-input-133-ee23b5bd6683>, line 13)",
          "traceback": [
            "\u001b[0;36m  File \u001b[0;32m\"<ipython-input-133-ee23b5bd6683>\"\u001b[0;36m, line \u001b[0;32m13\u001b[0m\n\u001b[0;31m    else:\u001b[0m\n\u001b[0m    ^\u001b[0m\n\u001b[0;31mSyntaxError\u001b[0m\u001b[0;31m:\u001b[0m invalid syntax\n"
          ]
        }
      ]
    },
    {
      "cell_type": "code",
      "source": [
        "# 숫자 스무고개ㅠㅠ\n",
        "for i in range(20):\n",
        "    i +=1\n",
        "    number = int(input(f'{i}번째 시도입니다. 숫자를 입력하세요~ (1에서 100사이)'))\n",
        "    if number == secret_number:\n",
        "        print(f'정답입니다 {i}번만에 맞추셨습니다')\n",
        "        break\n",
        "    elif number != secret_number:\n",
        "        if i != 3:\n",
        "            print('틀렸습니다.')\n",
        "            if number > secret_number:\n",
        "                print('down!')\n",
        "            elif number < secret_number:\n",
        "                print('up!')\n",
        "        elif i == 3:\n",
        "            print(f'기회를 다 소진하셨습니다. 정답은 {secret_number}입니다.')"
      ],
      "metadata": {
        "id": "1BRv7U5R9ET8"
      },
      "execution_count": null,
      "outputs": []
    },
    {
      "cell_type": "markdown",
      "source": [
        "# 프로그램2 : 가위바위보"
      ],
      "metadata": {
        "id": "qe8WCn2a3tmL"
      }
    },
    {
      "cell_type": "code",
      "source": [
        "# step1 :우리가 낼 가위 ,바위, 보를 입력 받는다.\n",
        "# step2 :컴퓨터다 낼 가위 바위 보를 입력 받는다\n",
        "# step3 : 승패요건\n",
        "# step4 : 가위 바위 보 외에 다른거를 냈을떄 어떻개 해야 하는지? / 종료하고 싶은지 물어보는것도 추가!"
      ],
      "metadata": {
        "id": "b13TA77574dK"
      },
      "execution_count": 116,
      "outputs": []
    },
    {
      "cell_type": "code",
      "source": [
        "f = ['가위','바위','보']\n",
        "computer_choice = random.choice(f)\n",
        "print(computer_choice)"
      ],
      "metadata": {
        "colab": {
          "base_uri": "https://localhost:8080/"
        },
        "id": "1aX4vExm8Q4W",
        "outputId": "de5d14cf-693d-4643-f647-dbb1bb503069"
      },
      "execution_count": 131,
      "outputs": [
        {
          "output_type": "stream",
          "name": "stdout",
          "text": [
            "가위\n"
          ]
        }
      ]
    },
    {
      "cell_type": "code",
      "source": [
        "user_choice = input('가위 바위 보중에 고르세요')\n",
        "\n",
        "if user_choice == computer_choice:\n",
        "    print(\"무승부\")\n",
        "elif (user_choice == 가위, computer_choice == 보) or (user_choice == 보, computer_choice == 바위) or (user_choice == 바위, computer_choice == 가위)\n",
        "    print('승리')\n",
        "\n"
      ],
      "metadata": {
        "id": "iVhzE4A09iTm"
      },
      "execution_count": null,
      "outputs": []
    },
    {
      "cell_type": "code",
      "source": [
        "# 문제 1\n",
        "# 숫자를 하나 입력받아, 그 숫자가 5보다 큰지 확인하는 프로그램을 작성해보세요.\n",
        "\n",
        "# 문제 2\n",
        "# \"안녕하세요!\"를 5번 출력하는 프로그램을 작성해보세요.\n",
        "\n",
        "# 문제3\n",
        "# 1부터 10까지의 숫자 중에서, 짝수만 출력하는 프로그램을 작성해보세요.\n",
        "\n",
        "# 문제4\n",
        "# 1부터 20까지의 숫자 중, 3의 배수만 출력하는 프로그램을 작성하세요.\n",
        "\n",
        "# 문제5\n",
        "# 구구단 2단부터 9단까지 출력하는 프로그램을 작성하세요."
      ],
      "metadata": {
        "id": "eb-I3a-tFWnf"
      },
      "execution_count": null,
      "outputs": []
    }
  ]
}