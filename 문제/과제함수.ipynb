{
  "nbformat": 4,
  "nbformat_minor": 0,
  "metadata": {
    "colab": {
      "provenance": [],
      "authorship_tag": "ABX9TyMXh3yCgKevB9ekTC03l0jx",
      "include_colab_link": true
    },
    "kernelspec": {
      "name": "python3",
      "display_name": "Python 3"
    },
    "language_info": {
      "name": "python"
    }
  },
  "cells": [
    {
      "cell_type": "markdown",
      "metadata": {
        "id": "view-in-github",
        "colab_type": "text"
      },
      "source": [
        "<a href=\"https://colab.research.google.com/github/Masterdual/orm2/blob/main/%EA%B3%BC%EC%A0%9C%ED%95%A8%EC%88%98.ipynb\" target=\"_parent\"><img src=\"https://colab.research.google.com/assets/colab-badge.svg\" alt=\"Open In Colab\"/></a>"
      ]
    },
    {
      "cell_type": "code",
      "execution_count": null,
      "metadata": {
        "id": "BKNBoOA_ZH5h"
      },
      "outputs": [],
      "source": [
        "# 1. 다음 숫자 중 5보다 크고, 20보다 작으면서 짝수인 수를 모두 더하는 코드를 완성 해주세요.\n",
        "# 오늘 배운 filter 사용은 필수 입니다.\n",
        "\n",
        "number = [1, 5, 7, 4, 3, 22, 23, 15, 26, 17, 3]\n",
        "def solution(data)\n",
        "    return\n",
        "\n",
        "solution(number)\n",
        "\n",
        "# 2. 다음에 정보가 담겨져 있는 것을 Class로 만들어주세요.\n",
        "# 메서드로는 '할인' 메서드를 만들어주세요. 예를 들어 아래 책을 10% 할인한다고 하면 4500원이 됩니다.\n",
        "# `책.할인(10) == 4500`의 형태로 만들어주시면 됩니다.\n",
        "{\n",
        "    '책제목': 'hello world python',\n",
        "    '책 내용 요약': 'hello world...',\n",
        "    '저자': '이호준',\n",
        "    '발행일': '2024-01-11',\n",
        "    '가격': 5000\n",
        "}\n",
        "\n",
        "# 3. 다음 문제를 풀고 정답을 제출해주세요.\n",
        "# 3.1 https://100.pyalgo.co.kr/?page=10#\n",
        "# 3.2 https://100.pyalgo.co.kr/?page=18#"
      ]
    },
    {
      "cell_type": "code",
      "source": [
        "# 1. 다음 숫자 중 5보다 크고, 20보다 작으면서 짝수인 수를 모두 더하는 코드를 완성 해주세요.\n",
        "# 오늘 배운 filter 사용은 필수 입니다.\n",
        "\n",
        "number = [1, 5, 7, 4, 3, 22, 23, 15, 26, 17, 3]\n",
        "\n",
        "def solution(data):\n",
        "    return sum(list(filter(lambda x: x % 2 == 0 and 5 < x < 20,data)))\n",
        "\n",
        "print(solution(number))"
      ],
      "metadata": {
        "colab": {
          "base_uri": "https://localhost:8080/"
        },
        "id": "7ePc-PoHZY79",
        "outputId": "83b69818-ca57-4289-8e17-747d6c09dbc5"
      },
      "execution_count": 29,
      "outputs": [
        {
          "output_type": "stream",
          "name": "stdout",
          "text": [
            "0\n"
          ]
        }
      ]
    },
    {
      "cell_type": "code",
      "source": [
        "number = [1, 5, 7, 4, 3, 22, 23, 15, 26, 17, 3]\n",
        "\n",
        "sum(list(filter(lambda x: x % 2 == 0 and x > 5 and x < 20,number)))"
      ],
      "metadata": {
        "colab": {
          "base_uri": "https://localhost:8080/"
        },
        "id": "0WDPQytoaywv",
        "outputId": "0aa48b99-8ab7-4d82-f678-f1f1f044c9c3"
      },
      "execution_count": 28,
      "outputs": [
        {
          "output_type": "execute_result",
          "data": {
            "text/plain": [
              "0"
            ]
          },
          "metadata": {},
          "execution_count": 28
        }
      ]
    },
    {
      "cell_type": "code",
      "source": [
        "# 2. 다음에 정보가 담겨져 있는 것을 Class로 만들어주세요.\n",
        "# 메서드로는 '할인' 메서드를 만들어주세요. 예를 들어 아래 책을 10% 할인한다고 하면 4500원이 됩니다.\n",
        "# `책.할인(10) == 4500`의 형태로 만들어주시면 됩니다.\n",
        "\n",
        "book = {\n",
        "    '책제목': 'hello world python',\n",
        "    '책 내용 요약': 'hello world...',\n",
        "    '저자': '이호준',\n",
        "    '발행일': '2024-01-11',\n",
        "    '가격': 5000\n",
        "}\n",
        "class bookshop():\n",
        "    def __init__(self, book_name, book_story, author, date, price):\n",
        "        self.book_name = book_name\n",
        "        self.book_story = book_story\n",
        "        self.author = author\n",
        "        self.date = date\n",
        "        self.price = price\n",
        "\n",
        "    def 할인(self, x):\n",
        "        return self.price * (1 - x / 100)\n",
        "\n",
        "책 = bookshop(book['책제목'],book['책 내용 요약'],book['저자'],book['발행일'],book['가격'])\n",
        "\n",
        "discounted_price = 책.할인(10)\n",
        "print(int(discounted_price))"
      ],
      "metadata": {
        "colab": {
          "base_uri": "https://localhost:8080/"
        },
        "id": "flUSFdMAi8Wk",
        "outputId": "c97ab4c4-2293-40e2-e1ae-adb69269f4e5"
      },
      "execution_count": 58,
      "outputs": [
        {
          "output_type": "stream",
          "name": "stdout",
          "text": [
            "4500\n"
          ]
        }
      ]
    },
    {
      "cell_type": "code",
      "source": [
        "price = 5000\n",
        "def sale(x):\n",
        "    return price * (1 - x * 0.01)\n",
        "print(int(sale(10)))"
      ],
      "metadata": {
        "colab": {
          "base_uri": "https://localhost:8080/"
        },
        "id": "90sc1zmWmghc",
        "outputId": "4fa284a0-bcc8-4070-f3cb-66ca44b02486"
      },
      "execution_count": 31,
      "outputs": [
        {
          "output_type": "stream",
          "name": "stdout",
          "text": [
            "4500\n"
          ]
        }
      ]
    },
    {
      "cell_type": "code",
      "source": [
        "[['Licat', 98, 92, 85, 97],\n",
        "['Mura', 95, 32, 51, 30],\n",
        "['Binky', 98, 98, 51, 32],\n",
        "['Gray', 98, 92, 85, 97],\n",
        "['Gom', 98, 30, 21, 60],\n",
        "['Allosa', 98, 90, 99, 98]]\n",
        "\n",
        "def power():\n",
        "    sorted"
      ],
      "metadata": {
        "id": "ZJ3gCrqdnHmi"
      },
      "execution_count": 31,
      "outputs": []
    },
    {
      "cell_type": "code",
      "source": [
        "charactor = [['Licat', 98, 92, 85, 97],\n",
        "['Mura', 95, 32, 51, 30],\n",
        "['Binky', 98, 98, 51, 32],\n",
        "['Gray', 98, 92, 85, 97],\n",
        "['Gom', 98, 30, 21, 60],\n",
        "['Allosa', 98, 90, 99, 98]]\n",
        "\n",
        "power = sorted(list(filter(lambda x : sum(x[1:]) > 350, charactor)))"
      ],
      "metadata": {
        "colab": {
          "base_uri": "https://localhost:8080/"
        },
        "id": "lRDNRbXLGDLG",
        "outputId": "e16fd124-10d7-4d2e-b671-a8b7087b2e8f"
      },
      "execution_count": 9,
      "outputs": [
        {
          "output_type": "stream",
          "name": "stdout",
          "text": [
            "[['Allosa', 98, 90, 99, 98], ['Gray', 98, 92, 85, 97], ['Licat', 98, 92, 85, 97]]\n"
          ]
        }
      ]
    },
    {
      "cell_type": "code",
      "source": [
        "# 입력 (기온 데이터)\t출력 (상위 3일의 기온)\n",
        "C = {'2024-01-01': 15,\n",
        "     '2024-01-02': 17,\n",
        "     '2024-01-03': 16,\n",
        "     '2024-01-04': 20,\n",
        "     '2024-01-05': 19,\n",
        "     '2024-01-06': 21,\n",
        "     '2024-01-07': 18}\n",
        "\n",
        "sorted_C = dict(sorted(C.items(), key=lambda x: (-x[1], x[0]))[:3])\n",
        "\n",
        "print(sorted_C)"
      ],
      "metadata": {
        "colab": {
          "base_uri": "https://localhost:8080/"
        },
        "id": "cVI3rLeCHN92",
        "outputId": "33f55b0e-d569-4584-832d-40e380f5789d"
      },
      "execution_count": 11,
      "outputs": [
        {
          "output_type": "stream",
          "name": "stdout",
          "text": [
            "{'2024-01-06': 21, '2024-01-04': 20, '2024-01-05': 19}\n"
          ]
        }
      ]
    }
  ]
}