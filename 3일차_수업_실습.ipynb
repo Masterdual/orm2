{
  "nbformat": 4,
  "nbformat_minor": 0,
  "metadata": {
    "colab": {
      "provenance": [],
      "authorship_tag": "ABX9TyOdXnN/snFYlzl4CKBXKDRI",
      "include_colab_link": true
    },
    "kernelspec": {
      "name": "python3",
      "display_name": "Python 3"
    },
    "language_info": {
      "name": "python"
    }
  },
  "cells": [
    {
      "cell_type": "markdown",
      "metadata": {
        "id": "view-in-github",
        "colab_type": "text"
      },
      "source": [
        "<a href=\"https://colab.research.google.com/github/Masterdual/orm2/blob/main/3%EC%9D%BC%EC%B0%A8_%EC%88%98%EC%97%85_%EC%8B%A4%EC%8A%B5.ipynb\" target=\"_parent\"><img src=\"https://colab.research.google.com/assets/colab-badge.svg\" alt=\"Open In Colab\"/></a>"
      ]
    },
    {
      "cell_type": "markdown",
      "source": [
        "#2.1 두가지 입력값을 산출하는 법"
      ],
      "metadata": {
        "id": "5aqGyZGGyNK8"
      }
    },
    {
      "cell_type": "code",
      "source": [
        "# 1. 2024년 계획 적기\n",
        "\n",
        "'''\n",
        "1. 이번해에 나는 ___열심히 공부 하기로 했다.\n",
        "2. 또한 나는 ___을 목표로 시간을 잘 활용할것이다\n",
        "'''\n",
        "print(\"\")"
      ],
      "metadata": {
        "colab": {
          "base_uri": "https://localhost:8080/"
        },
        "id": "De2JhhLTlhAB",
        "outputId": "8f23cc03-39aa-48fa-d7cd-84fa96e20fe4"
      },
      "execution_count": 40,
      "outputs": [
        {
          "output_type": "stream",
          "name": "stdout",
          "text": [
            "\n"
          ]
        }
      ]
    },
    {
      "cell_type": "code",
      "source": [
        "목적_1 = input(\"이번해에 나는 ___ 열심히 공부 하기로 했다:\")\n",
        "목적_2 = input(\"또한 나는 ___을 목표로 시간을 잘 활용할것이다:\")"
      ],
      "metadata": {
        "colab": {
          "base_uri": "https://localhost:8080/"
        },
        "id": "-L4IJnYRl8FX",
        "outputId": "6493e6cc-d9e6-49b5-acd7-35180210a1ef"
      },
      "execution_count": 37,
      "outputs": [
        {
          "name": "stdout",
          "output_type": "stream",
          "text": [
            "이번해에 나는 ___ 열심히 공부 하기로 했다:파이썬\n",
            "또한 나는 ___을 목표로 시간을 잘 활용할것이다:취업\n"
          ]
        }
      ]
    },
    {
      "cell_type": "code",
      "source": [
        "print(f\"이번해에 나는 {목적_1} 열심히 공부 하기로 했다\")\n",
        "print(f\"또한 나는 {목적_2}을 목표로 시간을 잘 활용할것이다\",end =\"!\")"
      ],
      "metadata": {
        "colab": {
          "base_uri": "https://localhost:8080/"
        },
        "id": "I-xH1GkrmJct",
        "outputId": "39377a49-313a-4489-de19-b6d585079fd4"
      },
      "execution_count": 38,
      "outputs": [
        {
          "output_type": "stream",
          "name": "stdout",
          "text": [
            "이번해에 나는 파이썬 열심히 공부 하기로 했다\n",
            "또한 나는 취업을 목표로 시간을 잘 활용할것이다!"
          ]
        }
      ]
    },
    {
      "cell_type": "code",
      "source": [
        "목표_1 = input(\"올해는 __와\")\n",
        "목표_2 = input(\"___를 집중적으로 할려고 한다\")"
      ],
      "metadata": {
        "colab": {
          "base_uri": "https://localhost:8080/"
        },
        "id": "cPupVlRFtoFU",
        "outputId": "191f3abd-956c-4255-a6a9-0cc212908ad4"
      },
      "execution_count": 44,
      "outputs": [
        {
          "name": "stdout",
          "output_type": "stream",
          "text": [
            "올해는 __와공부\n",
            "___를 집중적으로 할려고 한다취업\n"
          ]
        }
      ]
    },
    {
      "cell_type": "code",
      "source": [
        "print(f\"올해는 {목표_1}와,{목표_2}를 집중적으로 할려고 한다\")"
      ],
      "metadata": {
        "colab": {
          "base_uri": "https://localhost:8080/"
        },
        "id": "6X8_0v45uz7c",
        "outputId": "cee710f1-3947-4d84-d977-864b9a97ffd8"
      },
      "execution_count": 45,
      "outputs": [
        {
          "output_type": "stream",
          "name": "stdout",
          "text": [
            "올해는 공부와,취업를 집중적으로 할려고 한다\n"
          ]
        }
      ]
    },
    {
      "cell_type": "code",
      "source": [
        "print(f\"올해는 {목표_1}와\", end = \" \")\n",
        "print(f\"{목표_2}를 집중적으로 할려고 한다\")"
      ],
      "metadata": {
        "id": "NgYo1F42u_ik"
      },
      "execution_count": null,
      "outputs": []
    },
    {
      "cell_type": "markdown",
      "source": [
        "# 2.2 두가지 단어를 한꺼번에 받기"
      ],
      "metadata": {
        "id": "S1H_pvRYw0Sc"
      }
    },
    {
      "cell_type": "code",
      "source": [
        "sentence_2 = input(\"올해는 ___과 ___에 집중할려고 한다:\")"
      ],
      "metadata": {
        "colab": {
          "base_uri": "https://localhost:8080/"
        },
        "id": "Zpip1P6Xw6ml",
        "outputId": "dd8cc667-5fb5-4406-ebda-df3dff6008ee"
      },
      "execution_count": 52,
      "outputs": [
        {
          "name": "stdout",
          "output_type": "stream",
          "text": [
            "올해는 ___과 ___에 집중할려고 한다:공부 취업\n"
          ]
        }
      ]
    },
    {
      "cell_type": "code",
      "source": [
        "print(sentence_2)"
      ],
      "metadata": {
        "colab": {
          "base_uri": "https://localhost:8080/"
        },
        "id": "hStfSXMvxKJr",
        "outputId": "022a000c-207e-4b88-dd33-07cb46f775ca"
      },
      "execution_count": 55,
      "outputs": [
        {
          "output_type": "stream",
          "name": "stdout",
          "text": [
            "공부 취업\n"
          ]
        }
      ]
    },
    {
      "cell_type": "code",
      "source": [
        "word_1, word_2 = sentence_2.split()"
      ],
      "metadata": {
        "id": "HYR_sYJvxPwb"
      },
      "execution_count": 56,
      "outputs": []
    },
    {
      "cell_type": "code",
      "source": [
        "print(word_1)"
      ],
      "metadata": {
        "colab": {
          "base_uri": "https://localhost:8080/"
        },
        "id": "1mZM1hHKxkEK",
        "outputId": "d3998eff-c75f-4ae6-cff5-086e951b4057"
      },
      "execution_count": 57,
      "outputs": [
        {
          "output_type": "stream",
          "name": "stdout",
          "text": [
            "공부\n"
          ]
        }
      ]
    },
    {
      "cell_type": "code",
      "source": [
        "print(word_2)"
      ],
      "metadata": {
        "colab": {
          "base_uri": "https://localhost:8080/"
        },
        "id": "Lc9JDgy8xmla",
        "outputId": "f0671f93-2b3b-4b3a-a781-fa7abf8f0fe6"
      },
      "execution_count": 58,
      "outputs": [
        {
          "output_type": "stream",
          "name": "stdout",
          "text": [
            "취업\n"
          ]
        }
      ]
    },
    {
      "cell_type": "code",
      "source": [
        "print(f\"올해는 {word_1}과 {word_2}에 집중할려고 한다\")"
      ],
      "metadata": {
        "colab": {
          "base_uri": "https://localhost:8080/"
        },
        "id": "AP5kCOR7xpSr",
        "outputId": "f0071677-b354-437a-c036-2ffe46d2d1fd"
      },
      "execution_count": 61,
      "outputs": [
        {
          "output_type": "stream",
          "name": "stdout",
          "text": [
            "올해는 공부과 취업에 집중할려고 한다\n"
          ]
        }
      ]
    }
  ]
}