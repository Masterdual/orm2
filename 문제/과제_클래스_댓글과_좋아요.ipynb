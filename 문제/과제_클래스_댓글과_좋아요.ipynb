{
  "nbformat": 4,
  "nbformat_minor": 0,
  "metadata": {
    "colab": {
      "provenance": [],
      "authorship_tag": "ABX9TyNWSpTbIt41W0V6O0pw16Xy",
      "include_colab_link": true
    },
    "kernelspec": {
      "name": "python3",
      "display_name": "Python 3"
    },
    "language_info": {
      "name": "python"
    }
  },
  "cells": [
    {
      "cell_type": "markdown",
      "metadata": {
        "id": "view-in-github",
        "colab_type": "text"
      },
      "source": [
        "<a href=\"https://colab.research.google.com/github/Masterdual/orm2/blob/main/%EA%B3%BC%EC%A0%9C_%ED%81%B4%EB%9E%98%EC%8A%A4_%EB%8C%93%EA%B8%80%EA%B3%BC_%EC%A2%8B%EC%95%84%EC%9A%94.ipynb\" target=\"_parent\"><img src=\"https://colab.research.google.com/assets/colab-badge.svg\" alt=\"Open In Colab\"/></a>"
      ]
    },
    {
      "cell_type": "markdown",
      "source": [
        "`class Commnet`를 작성해주세요.\n",
        "\n",
        "요구사항\n",
        "* 각 댓글은 고유한 ID, 작성자 이름, 댓글 내용, 작성 시간을 가져야 합니다.\n",
        "* 댓글은 하나 이상의 대댓글을 가질 수 있어야 합니다.\n",
        "* 대댓글도 Comment 클래스의 인스턴스로 생성되며, 원 댓글에 종속됩니다.\n",
        "* 시간은 '년-월-일 시:분' 형식으로 표시되어야 합니다.\n",
        "* (선택 과제) 댓글 출력 기능 - 계층적 출력을 해보세요.\n",
        "* (선택 과제)댓글에 대한 좋아요 기능을 추가할 수 있습니다."
      ],
      "metadata": {
        "id": "qlUzrh2MvSkM"
      }
    },
    {
      "cell_type": "code",
      "execution_count": 8,
      "metadata": {
        "colab": {
          "base_uri": "https://localhost:8080/"
        },
        "id": "aX6sbFaVvGg1",
        "outputId": "4e7c625b-cca0-4ac8-ae21-f59abf001bc0"
      },
      "outputs": [
        {
          "output_type": "stream",
          "name": "stdout",
          "text": [
            "python_lover 2024-01-24 00:21: 파이썬을 열심히 공부합시다 - 좋아요 1\n",
            "  student 2024-01-24 00:21: 기초부터 열심히 알아가야합니다 - 좋아요 1\n",
            "    python_lover 2024-01-24 00:21: class는 매우 중요합니다 어려워도 포기하지 마세요 - 좋아요 0\n"
          ]
        }
      ],
      "source": [
        "from datetime import datetime\n",
        "\n",
        "class Commnet:\n",
        "    def __init__(self, id, author, content, time):\n",
        "        self.id = id\n",
        "        self.author = author\n",
        "        self.content = content\n",
        "        self.time = time\n",
        "        self.replying = []\n",
        "        self.likes = 0\n",
        "\n",
        "    def add_reply(self, reply):\n",
        "        self.replying.append(reply)\n",
        "\n",
        "    def add_likes(self):\n",
        "        self.likes += 1\n",
        "\n",
        "    def commnet(self, level = 0):\n",
        "        instant = '  ' * level\n",
        "        print(f'{instant}{self.author} {self.time}: {self.content} - 좋아요 {self.likes}')\n",
        "\n",
        "        for reply in self.replying:\n",
        "            reply.commnet(level + 1)\n",
        "\n",
        "if __name__ == '__main__':\n",
        "    comment1 = Commnet(1, 'python_lover','파이썬을 열심히 공부합시다', datetime.now().strftime('%Y-%m-%d %H:%M'))\n",
        "    comment2 = Commnet(2, 'student','기초부터 열심히 알아가야합니다', datetime.now().strftime('%Y-%m-%d %H:%M'))\n",
        "    reply1 = Commnet(3, 'python_lover','class는 매우 중요합니다 어려워도 포기하지 마세요',datetime.now().strftime('%Y-%m-%d %H:%M'))\n",
        "\n",
        "    comment1.add_reply(comment2)\n",
        "    comment2.add_reply(reply1)\n",
        "\n",
        "    comment1.add_likes()\n",
        "    comment2.add_likes()\n",
        "\n",
        "    comment1.commnet()\n"
      ]
    },
    {
      "cell_type": "code",
      "source": [
        "from datetime import datetime\n",
        "\n",
        "class Comment:\n",
        "    def __init__(self, comment_id, author, content, timestamp):\n",
        "        self.comment_id = comment_id\n",
        "        self.author = author\n",
        "        self.content = content\n",
        "        self.timestamp = timestamp\n",
        "        self.replies = []\n",
        "        self.likes = 0\n",
        "\n",
        "    def add_reply(self, reply):\n",
        "        \"\"\"댓글에 대댓글 추가\"\"\"\n",
        "        self.replies.append(reply)\n",
        "\n",
        "    def like_comment(self):\n",
        "        \"\"\"댓글에 좋아요 추가\"\"\"\n",
        "        self.likes += 1\n",
        "\n",
        "    def display_comments(self, level=0):\n",
        "        \"\"\"계층적으로 댓글 출력\"\"\"\n",
        "        indentation = '  ' * level\n",
        "        print(f\"{indentation}{self.author} ({self.timestamp}): {self.content} - Likes: {self.likes}\")\n",
        "\n",
        "        for reply in self.replies:\n",
        "            reply.display_comments(level + 1)\n",
        "\n",
        "# 사용 예시\n",
        "if __name__ == \"__main__\":\n",
        "    # 댓글 및 대댓글 생성\n",
        "    comment1 = Comment(1, \"User1\", \"첫 번째 댓글입니다.\", datetime.now().strftime('%Y-%m-%d %H:%M'))\n",
        "    comment2 = Comment(2, \"User2\", \"댓글에 대한 대댓글입니다.\", datetime.now().strftime('%Y-%m-%d %H:%M'))\n",
        "    reply1 = Comment(3, \"User3\", \"대댓글입니다.\", datetime.now().strftime('%Y-%m-%d %H:%M'))\n",
        "\n",
        "    # 대댓글 추가\n",
        "    comment1.add_reply(comment2)\n",
        "    comment2.add_reply(reply1)\n",
        "\n",
        "    # 댓글에 좋아요 추가\n",
        "    comment1.like_comment()\n",
        "\n",
        "    # 댓글 출력\n",
        "    comment1.display_comments()\n"
      ],
      "metadata": {
        "colab": {
          "base_uri": "https://localhost:8080/"
        },
        "id": "j0hiEG1bVDdM",
        "outputId": "e32b59c1-4561-4638-b057-c0be3494f544"
      },
      "execution_count": 4,
      "outputs": [
        {
          "output_type": "stream",
          "name": "stdout",
          "text": [
            "User1 (2024-01-23 08:23): 첫 번째 댓글입니다. - Likes: 1\n",
            "  User2 (2024-01-23 08:23): 댓글에 대한 대댓글입니다. - Likes: 0\n",
            "    User3 (2024-01-23 08:23): 대댓글입니다. - Likes: 0\n"
          ]
        }
      ]
    },
    {
      "cell_type": "code",
      "source": [
        "print(__name__ == '__main__')"
      ],
      "metadata": {
        "colab": {
          "base_uri": "https://localhost:8080/"
        },
        "id": "jOq6-mTpbjH0",
        "outputId": "4adbae8e-c6c9-4b35-dec8-8868062f64fd"
      },
      "execution_count": 7,
      "outputs": [
        {
          "output_type": "stream",
          "name": "stdout",
          "text": [
            "True\n"
          ]
        }
      ]
    },
    {
      "cell_type": "code",
      "source": [
        "from datetime import datetime\n",
        "\n",
        "class Commnet:\n",
        "    def __init__(self, id, author, content, time):\n",
        "        self.id = id\n",
        "        self.author = author\n",
        "        self.content = content\n",
        "        self.time = time\n",
        "        self.replying = []\n",
        "        self.likes = 0\n",
        "\n",
        "    def add_reply(self, reply):\n",
        "        self.replying.append(reply)\n",
        "\n",
        "    def add_likes(self):\n",
        "        self.likes += 1\n",
        "\n",
        "    def commnet(self, level = 0):\n",
        "        instant = '  ' * level\n",
        "        return print(f'{instant}{self.author} {self.time}: {self.content} - 좋아요 {self.likes}')\n",
        "\n",
        "        for reply in self.replying:\n",
        "            reply.comment(level + 1)\n",
        "\n",
        "if __name__ == '__main__':\n",
        "    comment1 = Commnet(1, 'python_lover','파이썬을 열심히 공부합시다', datetime.now().strftime('%Y-%m-%d %H:%M'))\n",
        "    comment2 = Commnet(2, 'student','기초부터 열심히 알아가야합니다', datetime.now().strftime('%Y-%m-%d %H:%M'))\n",
        "    reply1 = Commnet(3, 'python_lover','class는 매우 중요합니다 어려워도 포기하지 마세요',datetime.now().strftime('%Y-%m-%d %H:%M'))\n",
        "\n",
        "    comment1.add_reply(comment2)\n",
        "    comment2.add_reply(reply1)\n",
        "\n",
        "    comment1.add_likes()\n",
        "    comment2.add_likes()\n",
        "\n",
        "    comment1.commnet()\n"
      ],
      "metadata": {
        "colab": {
          "base_uri": "https://localhost:8080/"
        },
        "id": "ssuH9m0Db-Gg",
        "outputId": "05f31210-092f-44e5-bef4-4978a739ac11"
      },
      "execution_count": 2,
      "outputs": [
        {
          "output_type": "stream",
          "name": "stdout",
          "text": [
            "python_lover 2024-01-24 00:19: 파이썬을 열심히 공부합시다 - 좋아요 1\n"
          ]
        }
      ]
    }
  ]
}