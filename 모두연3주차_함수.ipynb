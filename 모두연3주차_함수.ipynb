{
  "nbformat": 4,
  "nbformat_minor": 0,
  "metadata": {
    "colab": {
      "provenance": [],
      "authorship_tag": "ABX9TyMDED/UUzcoWLspUv5chuDD",
      "include_colab_link": true
    },
    "kernelspec": {
      "name": "python3",
      "display_name": "Python 3"
    },
    "language_info": {
      "name": "python"
    }
  },
  "cells": [
    {
      "cell_type": "markdown",
      "metadata": {
        "id": "view-in-github",
        "colab_type": "text"
      },
      "source": [
        "<a href=\"https://colab.research.google.com/github/Masterdual/orm2/blob/main/%EB%AA%A8%EB%91%90%EC%97%B03%EC%A3%BC%EC%B0%A8_%ED%95%A8%EC%88%98.ipynb\" target=\"_parent\"><img src=\"https://colab.research.google.com/assets/colab-badge.svg\" alt=\"Open In Colab\"/></a>"
      ]
    },
    {
      "cell_type": "markdown",
      "source": [
        "# 1.함수와 인사하기"
      ],
      "metadata": {
        "id": "b9VebqCTqrbb"
      }
    },
    {
      "cell_type": "code",
      "source": [
        "#1. 함수 만들어 보기\n",
        "\n",
        "def parkgyoungmin(): # def -> 이건 함수 parkgyoungmin 함수의 이름()\n",
        "    print('1')\n",
        "    print('2')\n",
        "    print('3')\n",
        "\n",
        "print(parkgyoungmin())\n",
        "parkgyoungmin()"
      ],
      "metadata": {
        "colab": {
          "base_uri": "https://localhost:8080/"
        },
        "id": "r71NOdUQsdTi",
        "outputId": "56a3fcae-f214-48e6-ed7c-98235f59b92c"
      },
      "execution_count": 28,
      "outputs": [
        {
          "output_type": "stream",
          "name": "stdout",
          "text": [
            "1\n",
            "2\n",
            "3\n",
            "None\n",
            "1\n",
            "2\n",
            "3\n"
          ]
        }
      ]
    },
    {
      "cell_type": "code",
      "source": [
        "#2. 들여쓰기\n",
        "def my_function():\n",
        "    print('1') #4칸을 띄우는 것 -> 함수의 본문을 적는 것\n",
        "    print('2')\n",
        "\n",
        "print('3') # 함수 바깥이므로 print()로 따로 출력된다\n",
        "\n",
        "# 함수의 실행\n",
        "my_function() #실행을 할때는 def와 :은 필요없다 -> 함수의 본문이 실행된다"
      ],
      "metadata": {
        "colab": {
          "base_uri": "https://localhost:8080/"
        },
        "id": "SG_YyP9osyZZ",
        "outputId": "dd404a6e-f50e-42ab-ed03-590db0d159ea"
      },
      "execution_count": null,
      "outputs": [
        {
          "output_type": "stream",
          "name": "stdout",
          "text": [
            "3\n",
            "1\n",
            "2\n"
          ]
        }
      ]
    },
    {
      "cell_type": "code",
      "source": [
        "def function(x,y):\n",
        "    z = x + y\n",
        "    return z\n",
        "\n",
        "print(\"function(10,9)=\",function(10,9))"
      ],
      "metadata": {
        "colab": {
          "base_uri": "https://localhost:8080/"
        },
        "id": "bblEEzLQtsrA",
        "outputId": "5938e4ad-2121-4889-800c-7a45f1dacaaf"
      },
      "execution_count": null,
      "outputs": [
        {
          "output_type": "stream",
          "name": "stdout",
          "text": [
            "function(10,9)= 19\n"
          ]
        }
      ]
    },
    {
      "cell_type": "code",
      "source": [
        "def name(): # 함수이름은 일반 변수를 지정해서 정한다\n",
        "    pass # 오류가 발생하거나 임시로 지정할 함수로 필요할 경우에 사용\n",
        "\n",
        "def name_1():\n",
        "    return hi # 한줄을 반드시 사용\n",
        "\n",
        "def name_2(x,y):\n",
        "    return (x + y ) * 3 # 괄호안에는 피라미터로 꼭 필요한 부분이 아니라 생략이 가능하다\n",
        "\n",
        "print(name_1) #print()문을 반드시 사용해야 함수값이 나온다 안쓰면 값이 안나온다\n",
        "print(name_2(3,5)) # return은 값을 반환할뿐 출력을 하지 않기에 print() 써야\n",
        "                   # 하지만 Return을 안쓰면 함수값이 none이 나온다\n"
      ],
      "metadata": {
        "id": "4ofKzvCS2fOW",
        "colab": {
          "base_uri": "https://localhost:8080/"
        },
        "outputId": "6a7a92a9-a310-4e6c-9602-d59e5f1fd028"
      },
      "execution_count": 24,
      "outputs": [
        {
          "output_type": "stream",
          "name": "stdout",
          "text": [
            "<function name_1 at 0x7d01a9872c20>\n",
            "24\n"
          ]
        }
      ]
    },
    {
      "cell_type": "code",
      "source": [
        "#2.1 입력 매개변수가 없고 반환값도 없는 함수\n",
        "def f():\n",
        "    print('hello world')\n",
        "\n",
        "# 함수 호출\n",
        "print(f())"
      ],
      "metadata": {
        "colab": {
          "base_uri": "https://localhost:8080/"
        },
        "id": "63uXM_NU6fZV",
        "outputId": "9220da5a-3ee4-4285-bcdf-c7d6ad380ef9"
      },
      "execution_count": 25,
      "outputs": [
        {
          "output_type": "stream",
          "name": "stdout",
          "text": [
            "hello world\n",
            "None\n"
          ]
        }
      ]
    },
    {
      "cell_type": "code",
      "source": [
        "# 2.2 파라미터가 없고 반환값은 있는 함수\n",
        "def f_1():\n",
        "    return 7\n",
        "\n",
        "result = f_1()\n",
        "print(result)"
      ],
      "metadata": {
        "colab": {
          "base_uri": "https://localhost:8080/"
        },
        "id": "C42YndbW9AUN",
        "outputId": "d8f95006-1289-4111-8849-5c72789d0d92"
      },
      "execution_count": 31,
      "outputs": [
        {
          "output_type": "stream",
          "name": "stdout",
          "text": [
            "7\n"
          ]
        }
      ]
    },
    {
      "cell_type": "code",
      "source": [
        "# 2.3 입력매개변수가 있고, 반환값이 없는것\n",
        "def f_2(name):\n",
        "    print(f'안녕하세요, {name} ')\n",
        "\n",
        "f_2('박경민')\n",
        "print(f_2('경민'))"
      ],
      "metadata": {
        "colab": {
          "base_uri": "https://localhost:8080/"
        },
        "id": "EvriNRVo-Bkd",
        "outputId": "6d90043a-11c5-41d6-bf2c-03185c96d746"
      },
      "execution_count": 40,
      "outputs": [
        {
          "output_type": "stream",
          "name": "stdout",
          "text": [
            "안녕하세요, 박경민 \n",
            "안녕하세요, 경민 \n",
            "None\n"
          ]
        }
      ]
    },
    {
      "cell_type": "code",
      "source": [
        "# 2.4 입력매개변수도 있고, 반환값도 있는것\n",
        "def f_3(x, y):\n",
        "    sum = x + y\n",
        "    return sum\n",
        "\n",
        "# 함수 호출\n",
        "result = f_3(5,3)\n",
        "print(result)"
      ],
      "metadata": {
        "colab": {
          "base_uri": "https://localhost:8080/"
        },
        "id": "Q1_s-6q6CawU",
        "outputId": "42c61543-c66d-4b52-ba3c-9f78fb205166"
      },
      "execution_count": 43,
      "outputs": [
        {
          "output_type": "stream",
          "name": "stdout",
          "text": [
            "8\n"
          ]
        }
      ]
    },
    {
      "cell_type": "code",
      "source": [
        "# 1.3 파라미터의 기본 사용\n",
        "def f(a, b, c):\n",
        "    print(a, b, c)\n",
        "f(100,200,300)\n",
        "f(a = 100, b = 200, c = 300)\n",
        "f(c = 300, a = 100, b = 200)"
      ],
      "metadata": {
        "colab": {
          "base_uri": "https://localhost:8080/"
        },
        "id": "OBAHKLBhFDfK",
        "outputId": "5d701fc2-ee1d-4bfe-94a8-48cf4b54db0b"
      },
      "execution_count": 49,
      "outputs": [
        {
          "output_type": "stream",
          "name": "stdout",
          "text": [
            "100 200 300\n",
            "100 200 300\n",
            "100 200 300\n"
          ]
        }
      ]
    },
    {
      "cell_type": "code",
      "source": [
        "def f(a=10, b=20, c=30):\n",
        "    print(a, b, c)\n",
        "\n",
        "f() # 출력: 10 20 30\n",
        "f(100, 10) # 출력: 100 10 30\n",
        "f(a=100, b=200, c=300) # 출력: 100 200 300\n",
        "f(c=300, a=100, b=200) # 출력: 100 200 300"
      ],
      "metadata": {
        "colab": {
          "base_uri": "https://localhost:8080/"
        },
        "id": "eqibCAZwH0Zp",
        "outputId": "e0a274f5-1e8d-4bc7-e9a7-51ece063ca92"
      },
      "execution_count": 50,
      "outputs": [
        {
          "output_type": "stream",
          "name": "stdout",
          "text": [
            "10 20 30\n",
            "100 10 30\n",
            "100 200 300\n",
            "100 200 300\n"
          ]
        }
      ]
    },
    {
      "cell_type": "code",
      "source": [
        "# 잘못된 예시\n",
        "'''def f(a=10, b=20, c):\n",
        "    print(a, b, c) # error\n",
        "\n",
        "f(10, 20, 30)'''"
      ],
      "metadata": {
        "colab": {
          "base_uri": "https://localhost:8080/",
          "height": 35
        },
        "id": "d1kUliPkIrT6",
        "outputId": "7603b225-de5c-4d6e-d65f-cbdc82d8fcf9"
      },
      "execution_count": 55,
      "outputs": [
        {
          "output_type": "execute_result",
          "data": {
            "text/plain": [
              "'def f(a=10, b=20, c):\\n    print(a, b, c) # error\\n\\nf(10, 20, 30)'"
            ],
            "application/vnd.google.colaboratory.intrinsic+json": {
              "type": "string"
            }
          },
          "metadata": {},
          "execution_count": 55
        }
      ]
    },
    {
      "cell_type": "code",
      "source": [
        "# 올바른 예시\n",
        "def f(a, b=20, c=10):\n",
        "    print(a, b, c)\n",
        "\n",
        "f(100, 10) # 출력: 100 10 10\n",
        "f(a=100, b=200, c=300) # 출력: 100 200 300\n",
        "f(c=300, a=100, b=200) # 출력: 100 200 300"
      ],
      "metadata": {
        "colab": {
          "base_uri": "https://localhost:8080/"
        },
        "id": "837JF1A4JiyS",
        "outputId": "6598aa12-39cc-430f-e34d-ddc34e7da9fe"
      },
      "execution_count": 56,
      "outputs": [
        {
          "output_type": "stream",
          "name": "stdout",
          "text": [
            "100 10 10\n",
            "100 200 300\n",
            "100 200 300\n"
          ]
        }
      ]
    },
    {
      "cell_type": "code",
      "source": [
        "def f(a, b=20, c=30):\n",
        "    print(a, b, c)\n",
        "\n",
        "# print(f()) # error\n",
        "print(f(100, 10)) # 출력 : 100, 10, 30\n",
        "print(f(a=100, b=200, c=300)) # 출력 : 100 200 300\n",
        "print(f(c=300, a=100, b=200)) # 출력 : 100 200 300\n",
        "# print(f(c=300)) # error"
      ],
      "metadata": {
        "colab": {
          "base_uri": "https://localhost:8080/"
        },
        "id": "xhlFwecNKFWB",
        "outputId": "5bef3cd0-1b14-4375-f02b-5c347e54dccb"
      },
      "execution_count": 57,
      "outputs": [
        {
          "output_type": "stream",
          "name": "stdout",
          "text": [
            "100 10 30\n",
            "None\n",
            "100 200 300\n",
            "None\n",
            "100 200 300\n",
            "None\n"
          ]
        }
      ]
    },
    {
      "cell_type": "code",
      "source": [
        "# 1.4.1 컨벤션 자료형을 아규먼트로 넣었을 때\n",
        "def add_element(my_list):\n",
        "    my_list.append(1)\n",
        "\n",
        "a = [2, 3, 4]\n",
        "add_element(a)\n",
        "print(a)  # 출력: [2, 3, 4, 1]"
      ],
      "metadata": {
        "colab": {
          "base_uri": "https://localhost:8080/"
        },
        "id": "-0gmtEEYKFvI",
        "outputId": "1b6dafbe-b177-4d72-d059-48a646537752"
      },
      "execution_count": 58,
      "outputs": [
        {
          "output_type": "stream",
          "name": "stdout",
          "text": [
            "[2, 3, 4, 1]\n"
          ]
        }
      ]
    },
    {
      "cell_type": "code",
      "source": [
        "def add_element(my_list):\n",
        "    my_list.append(1)\n",
        "    print(id(my_list)) # 출력: 135115033605760\n",
        "\n",
        "a = [2, 3, 4]\n",
        "add_element(a)\n",
        "print(id(a)) # 출력: 135115033605760\n",
        "print(a)  # 출력: [2, 3, 4, 1]"
      ],
      "metadata": {
        "colab": {
          "base_uri": "https://localhost:8080/"
        },
        "id": "pxjC7S-TK6O5",
        "outputId": "01523cc9-d182-4318-f46c-39cae10c4856"
      },
      "execution_count": 59,
      "outputs": [
        {
          "output_type": "stream",
          "name": "stdout",
          "text": [
            "137446091156160\n",
            "137446091156160\n",
            "[2, 3, 4, 1]\n"
          ]
        }
      ]
    },
    {
      "cell_type": "code",
      "source": [
        "def add_element(my_list):\n",
        "    my_list = 10\n",
        "    print(id(my_list)) # 출력: 135115442078224\n",
        "\n",
        "a = [2, 3, 4]\n",
        "add_element(a)\n",
        "print(id(a)) # 출력: 135115029248768\n",
        "print(a)  # 출력: [2, 3, 4]"
      ],
      "metadata": {
        "colab": {
          "base_uri": "https://localhost:8080/"
        },
        "id": "HrvbrGCNLcog",
        "outputId": "60da1c87-6af7-4168-c3a0-a06081449350"
      },
      "execution_count": 63,
      "outputs": [
        {
          "output_type": "stream",
          "name": "stdout",
          "text": [
            "137446862422544\n",
            "137446091813312\n",
            "[2, 3, 4]\n"
          ]
        }
      ]
    },
    {
      "cell_type": "code",
      "source": [
        "# 권장하지 않는 방법\n",
        "def append_to_list(value, lst=[]):\n",
        "    lst.append(value)\n",
        "    return lst # 예상치 못한 결과가 발생할 수 있습니다.\n",
        "\n",
        "append_to_list(1) # 출력: lst = [1]"
      ],
      "metadata": {
        "colab": {
          "base_uri": "https://localhost:8080/"
        },
        "id": "nYSehXkbLt2Z",
        "outputId": "79bd99c8-d334-4514-bf20-81ba1541baa5"
      },
      "execution_count": 132,
      "outputs": [
        {
          "output_type": "execute_result",
          "data": {
            "text/plain": [
              "[1]"
            ]
          },
          "metadata": {},
          "execution_count": 132
        }
      ]
    },
    {
      "cell_type": "code",
      "source": [
        "append_to_list(2) # 출력: [1, 2], 그러나 결과가 [2]가 나올것으로 예상할수도 있습니다."
      ],
      "metadata": {
        "colab": {
          "base_uri": "https://localhost:8080/"
        },
        "id": "NtvnTQcie_S0",
        "outputId": "bb610681-8886-4a4f-c1ee-e20fcf835913"
      },
      "execution_count": 136,
      "outputs": [
        {
          "output_type": "execute_result",
          "data": {
            "text/plain": [
              "[1, 3, 4, 5, 2]"
            ]
          },
          "metadata": {},
          "execution_count": 136
        }
      ]
    },
    {
      "cell_type": "code",
      "source": [
        "# 권장 방법\n",
        "def append_to_list(value, lst=None):\n",
        "    if lst is None:\n",
        "        lst = []\n",
        "    lst.append(value)\n",
        "    return lst"
      ],
      "metadata": {
        "id": "GfdhrdfbfsaV"
      },
      "execution_count": 117,
      "outputs": []
    },
    {
      "cell_type": "code",
      "source": [
        "append_to_list(1)"
      ],
      "metadata": {
        "colab": {
          "base_uri": "https://localhost:8080/"
        },
        "id": "DAWGOoC0gMBt",
        "outputId": "668b62f9-2bac-483c-c646-38beff232171"
      },
      "execution_count": 118,
      "outputs": [
        {
          "output_type": "execute_result",
          "data": {
            "text/plain": [
              "[1]"
            ]
          },
          "metadata": {},
          "execution_count": 118
        }
      ]
    },
    {
      "cell_type": "code",
      "source": [
        "append_to_list(2)"
      ],
      "metadata": {
        "colab": {
          "base_uri": "https://localhost:8080/"
        },
        "id": "Oza50fSEgR6k",
        "outputId": "04611031-d75e-4e6c-8d8e-58c057746a03"
      },
      "execution_count": 124,
      "outputs": [
        {
          "output_type": "execute_result",
          "data": {
            "text/plain": [
              "[2]"
            ]
          },
          "metadata": {},
          "execution_count": 124
        }
      ]
    },
    {
      "cell_type": "markdown",
      "source": [
        "# 2. 지역변수와 전역변수"
      ],
      "metadata": {
        "id": "3ViuPSQHgTnl"
      }
    },
    {
      "cell_type": "code",
      "source": [
        "# 지역 변수 사용 예시\n",
        "def f():\n",
        "    a_1 = 1 # 이변수는 f() 내에서만 정의! 절대 바깥에서는 사용할 수 없는것\n",
        "    print(a_1) # 출력: 1\n",
        "\n",
        "f()\n",
        "# print(a_1) # error: a는 f함수 내부에서만 정의된다"
      ],
      "metadata": {
        "colab": {
          "base_uri": "https://localhost:8080/"
        },
        "id": "CbhcTvqchpw_",
        "outputId": "2d9c9a1b-c413-4b82-a898-568619b0aaef"
      },
      "execution_count": 141,
      "outputs": [
        {
          "output_type": "stream",
          "name": "stdout",
          "text": [
            "1\n"
          ]
        }
      ]
    },
    {
      "cell_type": "code",
      "source": [
        "# 지역 변수 사용 예시\n",
        "def f():\n",
        "    a = 1 # 지역변수 함수 내에서만 사용가능\n",
        "    print(locals()) # 출력: {'a': 1}\n",
        "\n",
        "f()"
      ],
      "metadata": {
        "colab": {
          "base_uri": "https://localhost:8080/"
        },
        "id": "4mVQC2V9h3_s",
        "outputId": "665ec9f2-9a3f-437d-a5d8-13c1f84a38db"
      },
      "execution_count": 144,
      "outputs": [
        {
          "output_type": "stream",
          "name": "stdout",
          "text": [
            "{'a': 1}\n"
          ]
        }
      ]
    },
    {
      "cell_type": "code",
      "source": [
        "def f():\n",
        "    a = 1\n",
        "    b = 'hello'\n",
        "    def ff():\n",
        "        pass\n",
        "    print(locals()) # 출력: {'a': 1, 'b': 'hello', 'ff': <function f.<locals>.ff at 0x7a46e99d2c20>}\n",
        "\n",
        "f()"
      ],
      "metadata": {
        "colab": {
          "base_uri": "https://localhost:8080/"
        },
        "id": "-dLx43hjjbH7",
        "outputId": "ff4745e1-aad2-48c3-c2ba-55dc5c3daa8b"
      },
      "execution_count": 145,
      "outputs": [
        {
          "output_type": "stream",
          "name": "stdout",
          "text": [
            "{'a': 1, 'b': 'hello', 'ff': <function f.<locals>.ff at 0x7d018bbda5f0>}\n"
          ]
        }
      ]
    },
    {
      "cell_type": "code",
      "source": [
        "a = 100\n",
        "\n",
        "def f():\n",
        "    global a\n",
        "    a = a + 1\n",
        "    return a\n",
        "\n",
        "print(f())\n",
        "print(a)  # 출력: 101, 함수 f 내에서 전역 변수 a가 수정되었습니다."
      ],
      "metadata": {
        "colab": {
          "base_uri": "https://localhost:8080/"
        },
        "id": "SpEgUd-vkAF7",
        "outputId": "3de5a9b0-c01e-41f6-d903-4aadae3f5412"
      },
      "execution_count": 153,
      "outputs": [
        {
          "output_type": "stream",
          "name": "stdout",
          "text": [
            "101\n",
            "101\n"
          ]
        }
      ]
    },
    {
      "cell_type": "code",
      "source": [
        "a = 100\n",
        "\n",
        "def f():\n",
        "    print(a) # 출력: 100\n",
        "\n",
        "f()\n",
        "\n",
        "def ff():\n",
        "    b = a + 1\n",
        "    print(b) # 출력: 101\n",
        "\n",
        "ff()"
      ],
      "metadata": {
        "colab": {
          "base_uri": "https://localhost:8080/"
        },
        "id": "yjN6SKYolE7a",
        "outputId": "6da60499-ed5d-47fc-cd26-9734d4aeb516"
      },
      "execution_count": 154,
      "outputs": [
        {
          "output_type": "stream",
          "name": "stdout",
          "text": [
            "100\n",
            "101\n"
          ]
        }
      ]
    },
    {
      "cell_type": "code",
      "source": [
        "a = 100\n",
        "\n",
        "def f():\n",
        "    a = 1000\n",
        "    print(a) # 출력: 1000\n",
        "\n",
        "f()"
      ],
      "metadata": {
        "colab": {
          "base_uri": "https://localhost:8080/"
        },
        "id": "_PzXJVx8l1m8",
        "outputId": "effe61c7-0d66-464d-a068-f45966dfc358"
      },
      "execution_count": 155,
      "outputs": [
        {
          "output_type": "stream",
          "name": "stdout",
          "text": [
            "1000\n"
          ]
        }
      ]
    },
    {
      "cell_type": "code",
      "source": [
        "# 함수내외 같아보이는 변수는 사실 서로 다른 변수로 내부에 따로 만들어주거나 global를 사용해야 한다\n",
        "def f():\n",
        "    a = 100\n",
        "    a = a + 1 # error\n",
        "    return a\n",
        "\n",
        "print(f())"
      ],
      "metadata": {
        "colab": {
          "base_uri": "https://localhost:8080/"
        },
        "id": "GLHeOqz3mN2i",
        "outputId": "ecbf5dc8-d4d2-4feb-f7c5-d2d9d9a3204b"
      },
      "execution_count": 163,
      "outputs": [
        {
          "output_type": "stream",
          "name": "stdout",
          "text": [
            "101\n"
          ]
        }
      ]
    },
    {
      "cell_type": "code",
      "source": [
        "a = 10\n",
        "def f():\n",
        "    a = 100\n",
        "    print(a) # 출력: 100\n",
        "    def ff():\n",
        "        a = 1000\n",
        "        print(a) # 출력: 1000\n",
        "        def fff():\n",
        "            a = 10000 # 출력: 10000\n",
        "            print(a)\n",
        "        fff()\n",
        "    ff()\n",
        "f()\n",
        "print(a) # 출력: 10"
      ],
      "metadata": {
        "colab": {
          "base_uri": "https://localhost:8080/"
        },
        "id": "d9TgtkZ_mk88",
        "outputId": "7cd2e099-cd1f-4991-c9b7-fa4a6f33fa52"
      },
      "execution_count": 166,
      "outputs": [
        {
          "output_type": "stream",
          "name": "stdout",
          "text": [
            "100\n",
            "1000\n",
            "10000\n",
            "10\n"
          ]
        }
      ]
    },
    {
      "cell_type": "code",
      "source": [
        "# global을 하면 함수가 얼만큼 중첩되어 있건 최상단에 있는 a를 바라봅니다.\n",
        "a = 10\n",
        "def f():\n",
        "    a = 100\n",
        "    print(a)\n",
        "    def ff():\n",
        "        a = 1000\n",
        "        print(a)\n",
        "        def fff():\n",
        "            global a\n",
        "            print(a)\n",
        "        fff()\n",
        "    ff()\n",
        "f()\n",
        "print(a)"
      ],
      "metadata": {
        "colab": {
          "base_uri": "https://localhost:8080/"
        },
        "id": "77e7Sx9Eneds",
        "outputId": "9a53fefc-2c73-40d8-86b8-6f1745038665"
      },
      "execution_count": 165,
      "outputs": [
        {
          "output_type": "stream",
          "name": "stdout",
          "text": [
            "100\n",
            "1000\n",
            "10\n",
            "10\n"
          ]
        }
      ]
    },
    {
      "cell_type": "markdown",
      "source": [
        "# Built in function"
      ],
      "metadata": {
        "id": "BTTwxyYfqaX4"
      }
    },
    {
      "cell_type": "markdown",
      "source": [
        "# 1. all, any\n",
        "* all() 함수는 iterable(반복 가능한) 객체(예: 리스트, 튜플, 문자열 등)를 인수로 받아, 그 안에 있는 모든 요소가 True로 평가되면 True를 반환하고, 그렇지 않으면 False를 반환합니다."
      ],
      "metadata": {
        "id": "ldNZ7GEUrmH5"
      }
    },
    {
      "cell_type": "code",
      "source": [
        "# 1. all, any\n",
        "\n",
        "# 모두 다 True여야 True 반환 and랑 비슷\n",
        "print(all([True, True, True])) # 출력: Ture\n",
        "print(all([True, True, False])) # 출력: False\n",
        "print(all([1, 1, 1, 0])) # 출력: False\n",
        "print(all([1, 0, 1, 1])) # 출력: False\n",
        "all([1, 100, 10, -1]) # 출력: True"
      ],
      "metadata": {
        "colab": {
          "base_uri": "https://localhost:8080/"
        },
        "id": "mUBhEK86rpDJ",
        "outputId": "45eb2f90-7d63-4898-f206-f7611408733c"
      },
      "execution_count": 170,
      "outputs": [
        {
          "output_type": "stream",
          "name": "stdout",
          "text": [
            "True\n",
            "False\n",
            "False\n",
            "False\n"
          ]
        },
        {
          "output_type": "execute_result",
          "data": {
            "text/plain": [
              "True"
            ]
          },
          "metadata": {},
          "execution_count": 170
        }
      ]
    },
    {
      "cell_type": "code",
      "source": [
        "# 하나라도 True이면 True이다. or과 비슷\n",
        "print(any([True, False, False])) # 출력: True\n",
        "any([False, False, False]) # 출력: False"
      ],
      "metadata": {
        "colab": {
          "base_uri": "https://localhost:8080/"
        },
        "id": "T2yuiMUKsC1a",
        "outputId": "bf0c33aa-73cf-47ac-d05f-30b1d29a7bd2"
      },
      "execution_count": 171,
      "outputs": [
        {
          "output_type": "stream",
          "name": "stdout",
          "text": [
            "True\n"
          ]
        },
        {
          "output_type": "execute_result",
          "data": {
            "text/plain": [
              "False"
            ]
          },
          "metadata": {},
          "execution_count": 171
        }
      ]
    },
    {
      "cell_type": "markdown",
      "source": [
        "#2.3 Map 함수\n",
        "* map() 함수는 기존의 리스트(또는 튜플)의 모든 요소에 특정 함수를 적용한 결과를 map 객체 형태로 반환하는 함수입니다. map 객체는 다시 list()를 이용해 리스트 형태로 변환할 수 있습니다."
      ],
      "metadata": {
        "id": "piOpElvNsEnh"
      }
    },
    {
      "cell_type": "code",
      "source": [
        "# 첫번째 방법\n",
        "def 제곱(x):\n",
        "    return x ** 2\n",
        "list(map(제곱, [1, 2, 3, 4])) # 출력: [1, 4, 9, 16]}"
      ],
      "metadata": {
        "colab": {
          "base_uri": "https://localhost:8080/"
        },
        "id": "vMM_figSshSQ",
        "outputId": "add753ea-575d-4245-e2c6-553fd6e4c2fc"
      },
      "execution_count": 172,
      "outputs": [
        {
          "output_type": "execute_result",
          "data": {
            "text/plain": [
              "[1, 4, 9, 16]"
            ]
          },
          "metadata": {},
          "execution_count": 172
        }
      ]
    },
    {
      "cell_type": "code",
      "source": [
        "# 두번째 방법\n",
        "list(map(lambda x : x ** 2, [1, 2, 3, 4])) # 출력: [1, 4, 9, 16]"
      ],
      "metadata": {
        "colab": {
          "base_uri": "https://localhost:8080/"
        },
        "id": "oFxz61EYsr43",
        "outputId": "5f138003-2683-4ed9-a402-3eb669337e31"
      },
      "execution_count": 173,
      "outputs": [
        {
          "output_type": "execute_result",
          "data": {
            "text/plain": [
              "[1, 4, 9, 16]"
            ]
          },
          "metadata": {},
          "execution_count": 173
        }
      ]
    },
    {
      "cell_type": "markdown",
      "source": [
        "# 2.5 zip\n",
        "* zip() 함수는 여러 개의 순회 할 수 있는 객체의 요소를 묶어서 반환합니다. 다만 메모리의 효율을 위해 형변환이나 직접 순회를 하기 전까지는 메모리 주소로만 반환합니다."
      ],
      "metadata": {
        "id": "JD1183NbstNS"
      }
    },
    {
      "cell_type": "code",
      "source": [
        "# 기본형태 : zip(순회활 수 있는 객체1, 순회할 수 있는 객체2...)\n",
        "\n",
        "list(zip('abc', '123')) # 출력: [('a', '1'), ('b', '2')]"
      ],
      "metadata": {
        "colab": {
          "base_uri": "https://localhost:8080/"
        },
        "id": "kh-CmOEHtvUo",
        "outputId": "4dca5f83-0fbf-4875-aefb-fdb702c36469"
      },
      "execution_count": 177,
      "outputs": [
        {
          "output_type": "execute_result",
          "data": {
            "text/plain": [
              "[('a', '1'), ('b', '2'), ('c', '3')]"
            ]
          },
          "metadata": {},
          "execution_count": 177
        }
      ]
    },
    {
      "cell_type": "code",
      "source": [
        "list(zip('ab', '12', [10, 20])) # 출력: [('a', '1', 10), ('b', '2', 20)]"
      ],
      "metadata": {
        "colab": {
          "base_uri": "https://localhost:8080/"
        },
        "id": "NjDLQ-r-tvzQ",
        "outputId": "2082bc4d-c8da-440d-c03d-d3e9675d5686"
      },
      "execution_count": 178,
      "outputs": [
        {
          "output_type": "execute_result",
          "data": {
            "text/plain": [
              "[('a', '1', 10), ('b', '2', 20)]"
            ]
          },
          "metadata": {},
          "execution_count": 178
        }
      ]
    },
    {
      "cell_type": "code",
      "source": [
        "list(zip('abc', '1234567', [10, 20, 30]))\n",
        "# 출력 : [('a', '1', 10), ('b', '2', 20), ('c', '3', 30)]"
      ],
      "metadata": {
        "colab": {
          "base_uri": "https://localhost:8080/"
        },
        "id": "dvqaWNgMudHb",
        "outputId": "584c0bc7-5584-4e01-c56c-35b1bb54cbcd"
      },
      "execution_count": 179,
      "outputs": [
        {
          "output_type": "execute_result",
          "data": {
            "text/plain": [
              "[('a', '1', 10), ('b', '2', 20), ('c', '3', 30)]"
            ]
          },
          "metadata": {},
          "execution_count": 179
        }
      ]
    },
    {
      "cell_type": "code",
      "source": [
        "x = [1, 2, 3]\n",
        "y = [1, 4, 9]\n",
        "list(zip(x,  y)) # 출력: [(1, 1), (2, 4), (3, 9)]"
      ],
      "metadata": {
        "colab": {
          "base_uri": "https://localhost:8080/"
        },
        "id": "WNFWnk28uuZI",
        "outputId": "16170ca9-1f49-4f9a-d15e-592bdc103dda"
      },
      "execution_count": 184,
      "outputs": [
        {
          "output_type": "execute_result",
          "data": {
            "text/plain": [
              "[(1, 1), (2, 4), (3, 9)]"
            ]
          },
          "metadata": {},
          "execution_count": 184
        }
      ]
    },
    {
      "cell_type": "code",
      "source": [
        "x = {1,3,5,6}\n",
        "y = [1,3,4,5]\n",
        "z = (1,5,7,9)\n",
        "list(zip(x, y, z))"
      ],
      "metadata": {
        "colab": {
          "base_uri": "https://localhost:8080/"
        },
        "id": "AIUAPRE8uvyo",
        "outputId": "d5510c06-208e-4ed0-c4cc-65a8590d9098"
      },
      "execution_count": 186,
      "outputs": [
        {
          "output_type": "execute_result",
          "data": {
            "text/plain": [
              "[(1, 1, 1), (3, 3, 5), (5, 4, 7), (6, 5, 9)]"
            ]
          },
          "metadata": {},
          "execution_count": 186
        }
      ]
    },
    {
      "cell_type": "code",
      "source": [
        "# 2.10.3 enumerate\n",
        "\n",
        "values = ['A', 'B', 'C', 'D']\n",
        "print(list(enumerate(values)))\n",
        "print(list(enumerate(values, 1)))\n",
        "print(list(enumerate(values, 100)))"
      ],
      "metadata": {
        "colab": {
          "base_uri": "https://localhost:8080/"
        },
        "id": "lJknj8pmvGXs",
        "outputId": "3bd3652c-ac53-469f-904c-bc050fa4fe31"
      },
      "execution_count": 189,
      "outputs": [
        {
          "output_type": "stream",
          "name": "stdout",
          "text": [
            "[(0, 'A'), (1, 'B'), (2, 'C'), (3, 'D')]\n",
            "[(1, 'A'), (2, 'B'), (3, 'C'), (4, 'D')]\n",
            "[(100, 'A'), (101, 'B'), (102, 'C'), (103, 'D')]\n"
          ]
        }
      ]
    },
    {
      "cell_type": "code",
      "source": [
        "a = 'pithon'\n",
        "\n",
        "def 함수1():\n",
        "    def 함수2():\n",
        "        print('love')\n",
        "\n",
        "    print('I')\n",
        "    함수2()\n",
        "    return \"python\"\n",
        "\n",
        "\n",
        "a = 함수1()\n",
        "print(a)"
      ],
      "metadata": {
        "colab": {
          "base_uri": "https://localhost:8080/"
        },
        "id": "CUBaEr1RwPpA",
        "outputId": "e2917314-edab-471e-f075-138fbffdf6df"
      },
      "execution_count": 190,
      "outputs": [
        {
          "output_type": "stream",
          "name": "stdout",
          "text": [
            "I\n",
            "love\n",
            "python\n"
          ]
        }
      ]
    },
    {
      "cell_type": "code",
      "source": [
        "def plus(num1, num2):\n",
        "    result = num1 + num2\n",
        "    return result\n",
        "\n",
        "def minus(num1, num2):\n",
        "    result_1 = num1 - num2\n",
        "    return result_1\n",
        "\n",
        "def multiply(num1, num2):\n",
        "    result_2 = num1 * num2\n",
        "    return result_2\n",
        "\n",
        "def divide(num1, num2):\n",
        "    result_3 = num1 / num2\n",
        "    return result_3\n",
        "\n",
        "print(f'plus : {plus(10, 5)}')\n",
        "print(f'minus : {minus(10, 5)}')\n",
        "print(f'multiply : {multiply(10, 5)}')\n",
        "print(f'divide : {divide(10, 5)}')"
      ],
      "metadata": {
        "colab": {
          "base_uri": "https://localhost:8080/"
        },
        "id": "1w3Ebzobyb5H",
        "outputId": "0e3f4428-a33f-429e-db5d-2051ab2c6ede"
      },
      "execution_count": 191,
      "outputs": [
        {
          "output_type": "stream",
          "name": "stdout",
          "text": [
            "plus : 15\n",
            "minus : 5\n",
            "multiply : 50\n",
            "divide : 2.0\n"
          ]
        }
      ]
    },
    {
      "cell_type": "code",
      "source": [],
      "metadata": {
        "id": "ghXSDCLH0VWH"
      },
      "execution_count": null,
      "outputs": []
    }
  ]
}