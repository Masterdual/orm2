{
  "nbformat": 4,
  "nbformat_minor": 0,
  "metadata": {
    "colab": {
      "provenance": [],
      "authorship_tag": "ABX9TyNZjsX9ywM3q5ceJFu6PAlS",
      "include_colab_link": true
    },
    "kernelspec": {
      "name": "python3",
      "display_name": "Python 3"
    },
    "language_info": {
      "name": "python"
    }
  },
  "cells": [
    {
      "cell_type": "markdown",
      "metadata": {
        "id": "view-in-github",
        "colab_type": "text"
      },
      "source": [
        "<a href=\"https://colab.research.google.com/github/Masterdual/orm2/blob/main/%EA%B3%BC%EC%A0%9C_%EB%AC%B8%EC%A0%9C%ED%92%80%EC%9D%B4.ipynb\" target=\"_parent\"><img src=\"https://colab.research.google.com/assets/colab-badge.svg\" alt=\"Open In Colab\"/></a>"
      ]
    },
    {
      "cell_type": "code",
      "execution_count": 2,
      "metadata": {
        "colab": {
          "base_uri": "https://localhost:8080/"
        },
        "id": "ubiKQMmKFMgo",
        "outputId": "b8bc4f48-f7c8-4b71-bdc7-53d0d2893a03"
      },
      "outputs": [
        {
          "output_type": "stream",
          "name": "stdout",
          "text": [
            "1\n",
            "10\n"
          ]
        }
      ],
      "source": [
        "print('hello' and 1) # and 둘다 참이면 뒤에꺼 출력\n",
        "print(10 or 'hello world') # or 함수는 둘중 하나만 참이면 앞에꺼 출력"
      ]
    },
    {
      "cell_type": "code",
      "source": [
        "d = {'one': 1, 'two': 2}\n",
        "dind = d.setdefault('three', 3)\n",
        "print(dind)\n",
        "print(d)"
      ],
      "metadata": {
        "colab": {
          "base_uri": "https://localhost:8080/"
        },
        "id": "77GjClDgFf4a",
        "outputId": "8c763c44-c6cc-4fe7-822f-69d22fd08a66"
      },
      "execution_count": 9,
      "outputs": [
        {
          "output_type": "stream",
          "name": "stdout",
          "text": [
            "3\n",
            "{'one': 1, 'two': 2, 'three': 3}\n"
          ]
        }
      ]
    },
    {
      "cell_type": "code",
      "source": [
        "l = [1, [10, 20], [3, [100, 200], 5]]\n",
        "\n",
        "print(l[2][1][0])"
      ],
      "metadata": {
        "colab": {
          "base_uri": "https://localhost:8080/"
        },
        "id": "VMT-pgU7fY4N",
        "outputId": "cd6f1a03-e984-41b6-bcea-cf6997834475"
      },
      "execution_count": 11,
      "outputs": [
        {
          "output_type": "stream",
          "name": "stdout",
          "text": [
            "100\n"
          ]
        }
      ]
    },
    {
      "cell_type": "code",
      "source": [
        "l = [[1, 2], [3, 4]]\n",
        "\n",
        "sum(sum(l,[]))"
      ],
      "metadata": {
        "colab": {
          "base_uri": "https://localhost:8080/"
        },
        "id": "1w50h8guh2FW",
        "outputId": "f0de3213-b77a-4af4-b1cd-2483f57d0522"
      },
      "execution_count": 22,
      "outputs": [
        {
          "output_type": "execute_result",
          "data": {
            "text/plain": [
              "10"
            ]
          },
          "metadata": {},
          "execution_count": 22
        }
      ]
    },
    {
      "cell_type": "code",
      "source": [
        "l = [1, 2, 3, 4, 5, 6, 7, 8, 9, 10]\n",
        "making = list(filter(lambda x: x % 2 == 0, l))\n",
        "sum(making)"
      ],
      "metadata": {
        "colab": {
          "base_uri": "https://localhost:8080/"
        },
        "id": "7hp6o1m6iKSM",
        "outputId": "70d727d6-42cd-4a5c-a784-39d725258b23"
      },
      "execution_count": 46,
      "outputs": [
        {
          "output_type": "execute_result",
          "data": {
            "text/plain": [
              "30"
            ]
          },
          "metadata": {},
          "execution_count": 46
        }
      ]
    },
    {
      "cell_type": "code",
      "source": [],
      "metadata": {
        "colab": {
          "base_uri": "https://localhost:8080/"
        },
        "id": "nit-ip7Nldxz",
        "outputId": "ef2c629c-8a7b-4abf-ad30-8d663169c2a9"
      },
      "execution_count": 33,
      "outputs": [
        {
          "output_type": "stream",
          "name": "stdout",
          "text": [
            "[1, 3, 1, 1, 1]\n",
            "7\n"
          ]
        }
      ]
    },
    {
      "cell_type": "code",
      "source": [
        "# 문제 1\n",
        "print('hello' and 1) # and 둘다 참이면 뒤에꺼 출력\n",
        "print(10 or 'hello world') # or 함수는 둘중 하나만 참이면 앞에꺼 출력\n",
        "\n",
        "# 문제 2\n",
        "d = {'one': 1, 'two': 2}\n",
        "dind = d.setdefault('three', 3)\n",
        "print(dind)\n",
        "print(d)\n",
        "\n",
        "#문제 3\n",
        "l = [1, [10, 20], [3, [100, 200], 5]]\n",
        "\n",
        "print(l[2][1][0])\n",
        "\n",
        "#문제 4\n",
        "l = [[1, 2], [3, 4]]\n",
        "\n",
        "print(sum(sum(l,[])))\n",
        "\n",
        "#문제 5\n",
        "l = [1, 2, 3, 4, 5, 6, 7, 8, 9, 10]\n",
        "making = list(filter(lambda x: x % 2 == 0, l))\n",
        "print(sum(making))"
      ],
      "metadata": {
        "colab": {
          "base_uri": "https://localhost:8080/"
        },
        "id": "r9uH3DmRmNsb",
        "outputId": "7dafbdc3-9402-4f16-c5fb-7687360e865f"
      },
      "execution_count": 47,
      "outputs": [
        {
          "output_type": "stream",
          "name": "stdout",
          "text": [
            "1\n",
            "10\n",
            "3\n",
            "{'one': 1, 'two': 2, 'three': 3}\n",
            "100\n",
            "10\n",
            "30\n"
          ]
        }
      ]
    },
    {
      "cell_type": "code",
      "source": [],
      "metadata": {
        "id": "GqwT7aEBpL9k"
      },
      "execution_count": null,
      "outputs": []
    }
  ]
}