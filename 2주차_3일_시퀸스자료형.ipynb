{
  "nbformat": 4,
  "nbformat_minor": 0,
  "metadata": {
    "colab": {
      "provenance": [],
      "authorship_tag": "ABX9TyOxo0nwCWMv+X3PQZEb8Vtp",
      "include_colab_link": true
    },
    "kernelspec": {
      "name": "python3",
      "display_name": "Python 3"
    },
    "language_info": {
      "name": "python"
    }
  },
  "cells": [
    {
      "cell_type": "markdown",
      "metadata": {
        "id": "view-in-github",
        "colab_type": "text"
      },
      "source": [
        "<a href=\"https://colab.research.google.com/github/Masterdual/orm2/blob/main/2%EC%A3%BC%EC%B0%A8_3%EC%9D%BC_%EC%8B%9C%ED%80%B8%EC%8A%A4%EC%9E%90%EB%A3%8C%ED%98%95.ipynb\" target=\"_parent\"><img src=\"https://colab.research.google.com/assets/colab-badge.svg\" alt=\"Open In Colab\"/></a>"
      ]
    },
    {
      "cell_type": "markdown",
      "source": [
        "# 1. 시퀸스 자료형"
      ],
      "metadata": {
        "id": "nX-pOncY36KY"
      }
    },
    {
      "cell_type": "code",
      "source": [
        "#1.1 인덱싱\n",
        "        # 0 1 2 3 4\n",
        "        #-5-4-3-2-1\n",
        "example = 'abcde'\n",
        "print(example[0]) # 출력: a\n",
        "print(example[2]) # 출력: c\n",
        "print(example[-1]) # 출력 : e"
      ],
      "metadata": {
        "colab": {
          "base_uri": "https://localhost:8080/"
        },
        "id": "Q8JAyE0x7O5R",
        "outputId": "a18d2f08-f261-4634-d615-bb91ddcf5281"
      },
      "execution_count": 2,
      "outputs": [
        {
          "output_type": "stream",
          "name": "stdout",
          "text": [
            "a\n",
            "c\n",
            "e\n"
          ]
        }
      ]
    },
    {
      "cell_type": "code",
      "source": [
        "# 1.2 슬라이싱\n",
        "          #54321 (-)\n",
        "          #12345\n",
        "example = 'abcde'\n",
        "print(example[1:3]) # 출력: bc\n",
        "print(range(10)[3]) # 출력: 3\n",
        "range(100)[::5] # 출력: range(0, 100, 5)"
      ],
      "metadata": {
        "colab": {
          "base_uri": "https://localhost:8080/"
        },
        "id": "0ezNg1R17SIh",
        "outputId": "695b8942-35a9-4ec2-c4e5-a2e087d08d09"
      },
      "execution_count": 4,
      "outputs": [
        {
          "output_type": "stream",
          "name": "stdout",
          "text": [
            "bc\n",
            "3\n"
          ]
        },
        {
          "output_type": "execute_result",
          "data": {
            "text/plain": [
              "range(0, 100, 5)"
            ]
          },
          "metadata": {},
          "execution_count": 4
        }
      ]
    },
    {
      "cell_type": "code",
      "source": [
        "# 1.3 특장항목 포함 여부\n",
        "example = 'abcde'\n",
        "print('a' in example) # 출력: True\n",
        "print('z' in example) # 출력: False"
      ],
      "metadata": {
        "colab": {
          "base_uri": "https://localhost:8080/"
        },
        "id": "MUkjS61P8Ax5",
        "outputId": "fa58e566-de83-4811-b24b-b3bb6093f793"
      },
      "execution_count": 9,
      "outputs": [
        {
          "output_type": "stream",
          "name": "stdout",
          "text": [
            "True\n",
            "False\n"
          ]
        }
      ]
    },
    {
      "cell_type": "code",
      "source": [
        "#1.4 연결 & 반복\n",
        "example1 = 'abcde'\n",
        "example2 = 'f'\n",
        "print(example1 + example2) # 출력: abcdef\n",
        "print(example2 * 3)        # 출력: fff"
      ],
      "metadata": {
        "colab": {
          "base_uri": "https://localhost:8080/"
        },
        "id": "CDZ50qIC8PFC",
        "outputId": "ba609dd5-036f-42e6-8178-66f768380c41"
      },
      "execution_count": 10,
      "outputs": [
        {
          "output_type": "stream",
          "name": "stdout",
          "text": [
            "abcdef\n",
            "fff\n"
          ]
        }
      ]
    },
    {
      "cell_type": "code",
      "source": [
        "# 내장함수를 사용!\n",
        "example = 'abcde'\n",
        "print(len(example))  # 출력: 5\n",
        "print(min(example))  # 출력: a\n",
        "print(max(example))  # 출력: e"
      ],
      "metadata": {
        "colab": {
          "base_uri": "https://localhost:8080/"
        },
        "id": "nYm-ybl69MAY",
        "outputId": "50ff5974-3086-47aa-b0b3-bd4efbdd69e4"
      },
      "execution_count": 11,
      "outputs": [
        {
          "output_type": "stream",
          "name": "stdout",
          "text": [
            "5\n",
            "a\n",
            "e\n"
          ]
        }
      ]
    },
    {
      "cell_type": "markdown",
      "source": [
        "#2. 시퀸스 자료형의 패킹과 언패킹"
      ],
      "metadata": {
        "id": "gtgxcwDR98hp"
      }
    },
    {
      "cell_type": "code",
      "source": [
        "#2.1 튜플 패킹\n",
        "\n",
        "# 튜플 패킹\n",
        "packed_tuple = 1, 2, 3, 4\n",
        "print(packed_tuple)  # 출력: (1, 2, 3, 4)\n",
        "type(packed_tuple)"
      ],
      "metadata": {
        "colab": {
          "base_uri": "https://localhost:8080/"
        },
        "id": "WflubLs89ZII",
        "outputId": "2e20592f-8c41-4292-9a1d-931ac0d187e5"
      },
      "execution_count": 13,
      "outputs": [
        {
          "output_type": "stream",
          "name": "stdout",
          "text": [
            "(1, 2, 3, 4)\n"
          ]
        },
        {
          "output_type": "execute_result",
          "data": {
            "text/plain": [
              "tuple"
            ]
          },
          "metadata": {},
          "execution_count": 13
        }
      ]
    },
    {
      "cell_type": "code",
      "source": [
        "tuple_example = 1\n",
        "print(tuple_example)\n",
        "type(tuple_example)"
      ],
      "metadata": {
        "colab": {
          "base_uri": "https://localhost:8080/"
        },
        "id": "JU7ETYHn94fI",
        "outputId": "0ed4ac59-3b29-4842-fbe1-e68f03442017"
      },
      "execution_count": 14,
      "outputs": [
        {
          "output_type": "stream",
          "name": "stdout",
          "text": [
            "1\n"
          ]
        },
        {
          "output_type": "execute_result",
          "data": {
            "text/plain": [
              "int"
            ]
          },
          "metadata": {},
          "execution_count": 14
        }
      ]
    },
    {
      "cell_type": "code",
      "source": [
        "#2.2 언패킹\n",
        "\n",
        "# 튜플 패킹\n",
        "packed_tuple = 1, 2, 3, 4\n",
        "print(packed_tuple)\n",
        "\n",
        "# 튜플 언패킹\n",
        "a, b, c, d = packed_tuple\n",
        "print(a)  # 출력: 1\n",
        "print(b)  # 출력: 2\n",
        "print(c)  # 출력: 3\n",
        "print(d)  # 출력: 4"
      ],
      "metadata": {
        "colab": {
          "base_uri": "https://localhost:8080/"
        },
        "id": "W4q4yLiE-fXo",
        "outputId": "1dddcbc1-2dcf-4acd-d9d5-84070db7da6a"
      },
      "execution_count": 23,
      "outputs": [
        {
          "output_type": "stream",
          "name": "stdout",
          "text": [
            "(1, 2, 3, 4)\n",
            "1\n",
            "2\n",
            "3\n",
            "4\n"
          ]
        }
      ]
    },
    {
      "cell_type": "code",
      "source": [
        "# 다양한 패킹/언패킹\n",
        "# range는 0부터 n-1까지 숫자를 생성하는 함수\n",
        "a,b,c = range(3) #0,1,2\n",
        "print(range(3))\n",
        "print(a,b,c)"
      ],
      "metadata": {
        "colab": {
          "base_uri": "https://localhost:8080/"
        },
        "id": "zrFIHaDX-r_o",
        "outputId": "176d5583-fb46-4ae7-80ce-0a0e84fe3d84"
      },
      "execution_count": 27,
      "outputs": [
        {
          "output_type": "stream",
          "name": "stdout",
          "text": [
            "range(0, 3)\n",
            "0 1 2\n"
          ]
        }
      ]
    },
    {
      "cell_type": "code",
      "source": [
        "a, b, c, d, e = 'hello'\n",
        "print(a)\n",
        "print(b)\n",
        "print(c)\n",
        "print(d)\n",
        "print(e)"
      ],
      "metadata": {
        "colab": {
          "base_uri": "https://localhost:8080/"
        },
        "id": "YzdG1nHt-3p3",
        "outputId": "bac7512a-3cbd-471b-9013-c8301cab32e0"
      },
      "execution_count": 28,
      "outputs": [
        {
          "output_type": "stream",
          "name": "stdout",
          "text": [
            "h\n",
            "e\n",
            "l\n",
            "l\n",
            "o\n"
          ]
        }
      ]
    },
    {
      "cell_type": "code",
      "source": [
        "for i, j in [[10, 20], [100, 200],[300, 500]]:\n",
        "    print(i, j)"
      ],
      "metadata": {
        "colab": {
          "base_uri": "https://localhost:8080/"
        },
        "id": "uw5dLzYp_3aw",
        "outputId": "e6cff178-9b40-4c16-84a8-67934e37619f"
      },
      "execution_count": 31,
      "outputs": [
        {
          "output_type": "stream",
          "name": "stdout",
          "text": [
            "10 20\n",
            "100 200\n",
            "300 500\n"
          ]
        }
      ]
    },
    {
      "cell_type": "code",
      "source": [
        "# 별포를 이용한 언패킹\n",
        "first, *middle, last = [1, 2, 3, 4, 5,]\n",
        "print(first)    # 출력: 1\n",
        "print(middle)   # 출력: [2, 3, 4]\n",
        "print(last)     # 출력: 5"
      ],
      "metadata": {
        "colab": {
          "base_uri": "https://localhost:8080/"
        },
        "id": "RxSfRwBJAvpv",
        "outputId": "8527a9ab-888e-42db-fb80-a59bfffa97fa"
      },
      "execution_count": 36,
      "outputs": [
        {
          "output_type": "stream",
          "name": "stdout",
          "text": [
            "1\n",
            "[2, 3, 4]\n",
            "5\n"
          ]
        }
      ]
    },
    {
      "cell_type": "code",
      "source": [
        "first, *middle = [1, 2, 3, 4, 5]\n",
        "print(first)    # 출력: 1\n",
        "print(middle)   # 출력: [2, 3, 4, 5]"
      ],
      "metadata": {
        "colab": {
          "base_uri": "https://localhost:8080/"
        },
        "id": "4wfLkciBA15K",
        "outputId": "96d71b3b-edc5-4d25-8b6b-07814e9e38a6"
      },
      "execution_count": 38,
      "outputs": [
        {
          "output_type": "stream",
          "name": "stdout",
          "text": [
            "1\n",
            "[2, 3, 4, 5]\n"
          ]
        }
      ]
    },
    {
      "cell_type": "code",
      "source": [
        "*middle, first = [1, 2, 3, 4, 5]\n",
        "print(first)    # 출력: 5\n",
        "print(middle)   # 출력: [1, 2, 3, 4]"
      ],
      "metadata": {
        "colab": {
          "base_uri": "https://localhost:8080/"
        },
        "id": "qq5lX1_1BBq4",
        "outputId": "6207a7eb-392c-4fd6-bbf2-d9d5acd4673e"
      },
      "execution_count": 41,
      "outputs": [
        {
          "output_type": "stream",
          "name": "stdout",
          "text": [
            "5\n",
            "[1, 2, 3, 4]\n"
          ]
        }
      ]
    },
    {
      "cell_type": "code",
      "source": [
        "#리스트의 장점 : 여러가지 자료형을 넣을수 있다\n",
        "z = [1, 'apple', 2.5, ['a', 'b'], (1, 2)]\n",
        "print(z[0])\n",
        "print(z[1])\n",
        "print(z[2])\n",
        "print(z[3])\n",
        "print(z[4])"
      ],
      "metadata": {
        "colab": {
          "base_uri": "https://localhost:8080/"
        },
        "id": "ogdzR5pbBPA3",
        "outputId": "292b70c0-ae54-4afb-d3de-a3b2cff71e2c"
      },
      "execution_count": 46,
      "outputs": [
        {
          "output_type": "stream",
          "name": "stdout",
          "text": [
            "1\n",
            "apple\n",
            "2.5\n",
            "['a', 'b']\n",
            "(1, 2)\n"
          ]
        }
      ]
    },
    {
      "cell_type": "code",
      "source": [
        "z = [\n",
        "\t\t1,\n",
        "\t\t'apple',\n",
        "\t\t2.5,\n",
        "\t\t['a', 'b'],\n",
        "\t\t(1, 2)\n",
        "]\n",
        "print(z[0])\n",
        "print(z[1])\n",
        "print(z[2])\n",
        "print(z[3])\n",
        "print(z[4])"
      ],
      "metadata": {
        "colab": {
          "base_uri": "https://localhost:8080/"
        },
        "id": "w_zrwco8Fu02",
        "outputId": "8dbc2ce6-d7ff-4bcd-94f2-cf9745ed4777"
      },
      "execution_count": 47,
      "outputs": [
        {
          "output_type": "stream",
          "name": "stdout",
          "text": [
            "1\n",
            "apple\n",
            "2.5\n",
            "['a', 'b']\n",
            "(1, 2)\n"
          ]
        }
      ]
    },
    {
      "cell_type": "code",
      "source": [
        "# 2.2 리스트 값 수정\n",
        "\n",
        "a = [1, 2, 3, 4, 5]\n",
        "a[0] = 10000\n",
        "print(a)"
      ],
      "metadata": {
        "colab": {
          "base_uri": "https://localhost:8080/"
        },
        "id": "wMcSEnA1F0ut",
        "outputId": "7cdf9ac4-1097-4f6b-af37-0f14bfdca9ce"
      },
      "execution_count": 49,
      "outputs": [
        {
          "output_type": "stream",
          "name": "stdout",
          "text": [
            "[10000, 2, 3, 4, 5]\n"
          ]
        }
      ]
    },
    {
      "cell_type": "code",
      "source": [
        "# 문자열은 변경할수 없다\n",
        "s = 'licat'\n",
        "print(s[0])\n",
        "s.replace('l','k')\n",
        "print(s)"
      ],
      "metadata": {
        "colab": {
          "base_uri": "https://localhost:8080/"
        },
        "id": "wvsSxRBQHTvw",
        "outputId": "4a691d2c-4d11-4412-9ea4-89d7e32ee12b"
      },
      "execution_count": 56,
      "outputs": [
        {
          "output_type": "stream",
          "name": "stdout",
          "text": [
            "l\n",
            "licat\n"
          ]
        }
      ]
    },
    {
      "cell_type": "code",
      "source": [
        "b = [[10, 20, 30], [1, 2, 3]]\n",
        "print(b[1][2]) # 출력: 3"
      ],
      "metadata": {
        "colab": {
          "base_uri": "https://localhost:8080/"
        },
        "id": "hBUDw5I3HZRl",
        "outputId": "825caf60-3cc5-42c7-9d3c-0576deefebdd"
      },
      "execution_count": 57,
      "outputs": [
        {
          "output_type": "stream",
          "name": "stdout",
          "text": [
            "3\n"
          ]
        }
      ]
    },
    {
      "cell_type": "code",
      "source": [
        "print(b)\n",
        "print(b[1])\n",
        "print(b[0])\n",
        "print(b[0][0])"
      ],
      "metadata": {
        "colab": {
          "base_uri": "https://localhost:8080/"
        },
        "id": "bmGe2msuH6Jt",
        "outputId": "dd87c0fc-34f6-4dc5-fa69-00b5481ca09b"
      },
      "execution_count": 64,
      "outputs": [
        {
          "output_type": "stream",
          "name": "stdout",
          "text": [
            "[[10, 20, 30], [1, 2, 3]]\n",
            "[1, 2, 3]\n",
            "[10, 20, 30]\n",
            "10\n"
          ]
        }
      ]
    },
    {
      "cell_type": "code",
      "source": [
        "a = [1, 2, 3, 4, 5]\n",
        "b = [6, 7, 8]\n",
        "\n",
        "print(a + b) # 출력: [1, 2, 3, 4, 5, 6, 7, 8]"
      ],
      "metadata": {
        "colab": {
          "base_uri": "https://localhost:8080/"
        },
        "id": "jcENyPN3KFrG",
        "outputId": "306a5036-6603-47ae-dbcd-86de5208a3ea"
      },
      "execution_count": 74,
      "outputs": [
        {
          "output_type": "stream",
          "name": "stdout",
          "text": [
            "[1, 2, 3, 4, 5, 6, 7, 8]\n"
          ]
        }
      ]
    },
    {
      "cell_type": "code",
      "source": [
        "a = [1, 2, 3, 4, 5]\n",
        "b = [1, 2, 3]\n",
        "\n",
        "print(a + b) # 출력: [1, 2, 3, 4, 5, 1, 2, 3]"
      ],
      "metadata": {
        "colab": {
          "base_uri": "https://localhost:8080/"
        },
        "id": "C1QB2MxLKHhV",
        "outputId": "9d3d4122-ad2c-484d-d100-cfb42ca0e358"
      },
      "execution_count": 75,
      "outputs": [
        {
          "output_type": "stream",
          "name": "stdout",
          "text": [
            "[1, 2, 3, 4, 5, 1, 2, 3]\n"
          ]
        }
      ]
    },
    {
      "cell_type": "code",
      "source": [
        "# 리스트의 덧셈\n",
        "import numpy as np\n",
        "\n",
        "l = [1, 2, 3]\n",
        "l = np.array(l)\n",
        "print(l)\n",
        "print(type(l))\n",
        "print(l * 3)\n",
        "print(l + l)\n",
        "# 너무 당연하게 요소를 붙이는 것이다라고 생각하지 않으셨으면 좋겠습니다."
      ],
      "metadata": {
        "colab": {
          "base_uri": "https://localhost:8080/"
        },
        "id": "WKpjAdqHH8Um",
        "outputId": "dbfaf7d5-9e14-4bd0-d54a-f41868d8039d"
      },
      "execution_count": 73,
      "outputs": [
        {
          "output_type": "stream",
          "name": "stdout",
          "text": [
            "[1 2 3]\n",
            "<class 'numpy.ndarray'>\n",
            "[3 6 9]\n",
            "[2 4 6]\n"
          ]
        }
      ]
    },
    {
      "cell_type": "code",
      "source": [
        "# 슬라이싱 실습!\n",
        "\n",
        "l = [1, 2, 3, 4, 5]\n",
        "\n",
        "print(l[:])     # 출력: [1, 2, 3, 4, 5]\n",
        "print(l[::-1])  # 출력: [5, 4, 3, 2, 1]\n",
        "print(l[::2])   # 출력: [1, 3, 5]\n",
        "print(l[0:4][::-1]) # 출력: [4, 3, 2, 1]"
      ],
      "metadata": {
        "colab": {
          "base_uri": "https://localhost:8080/"
        },
        "id": "AmRe4trUJPue",
        "outputId": "28af072d-facb-4d1a-c60a-3f11602693a1"
      },
      "execution_count": 80,
      "outputs": [
        {
          "output_type": "stream",
          "name": "stdout",
          "text": [
            "[1, 2, 3, 4, 5]\n",
            "[1, 2, 3, 4, 5]\n",
            "[5, 4, 3, 2, 1]\n",
            "[1, 3, 5]\n",
            "[4, 3, 2, 1]\n"
          ]
        }
      ]
    },
    {
      "cell_type": "code",
      "source": [
        "# 데이터가 크다. 내가 원하는대로 데이터를 추출하고 싶다.!\n",
        "# 1. 갬플링 -> 1억개 데이터 -> 천개! -> 리스트 슬라이싱! 매서드! -> 1억개의 데이터!"
      ],
      "metadata": {
        "id": "KLfkNT6pK3UF"
      },
      "execution_count": 81,
      "outputs": []
    },
    {
      "cell_type": "code",
      "source": [
        "l = [1, 2, 3, 4, 5]\n",
        "print(l[10:20]) # 출력: []"
      ],
      "metadata": {
        "colab": {
          "base_uri": "https://localhost:8080/"
        },
        "id": "4-G39YDsLwnk",
        "outputId": "4375e71c-ecac-4c9b-f949-ff78a744da90"
      },
      "execution_count": 82,
      "outputs": [
        {
          "output_type": "stream",
          "name": "stdout",
          "text": [
            "[]\n"
          ]
        }
      ]
    },
    {
      "cell_type": "code",
      "source": [],
      "metadata": {
        "id": "h-du1uOmMDEm"
      },
      "execution_count": null,
      "outputs": []
    }
  ]
}