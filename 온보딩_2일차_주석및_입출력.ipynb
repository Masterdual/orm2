{
  "nbformat": 4,
  "nbformat_minor": 0,
  "metadata": {
    "colab": {
      "provenance": [],
      "authorship_tag": "ABX9TyPw273UYPMRKZ6Uh1S5tMxg",
      "include_colab_link": true
    },
    "kernelspec": {
      "name": "python3",
      "display_name": "Python 3"
    },
    "language_info": {
      "name": "python"
    }
  },
  "cells": [
    {
      "cell_type": "markdown",
      "metadata": {
        "id": "view-in-github",
        "colab_type": "text"
      },
      "source": [
        "<a href=\"https://colab.research.google.com/github/Masterdual/orm2/blob/main/%EC%98%A8%EB%B3%B4%EB%94%A9_2%EC%9D%BC%EC%B0%A8_%EC%A3%BC%EC%84%9D%EB%B0%8F_%EC%9E%85%EC%B6%9C%EB%A0%A5.ipynb\" target=\"_parent\"><img src=\"https://colab.research.google.com/assets/colab-badge.svg\" alt=\"Open In Colab\"/></a>"
      ]
    },
    {
      "cell_type": "markdown",
      "source": [
        "# 1.1 한줄 주석\n",
        "\n",
        "한 줄 주석은 # 기호로 시작합니다"
      ],
      "metadata": {
        "id": "MIPITjqpDj4N"
      }
    },
    {
      "cell_type": "code",
      "source": [
        "'''\n",
        "이것은 주석입니다. (특이사항, 전체적인 것들, 업데이트 내용)\n",
        "주석은 # 기호로 시작됩니다.\n",
        "주석의 설명이 끝났습니다\n",
        "'''\n",
        "\n",
        "print('Hello, world 1!') # 이것도 주석입니다. (해당 코드의 설명)\n",
        "print('Hello, world 2!') # 코드의 에러  /  향후 수정! / 임시  주석!"
      ],
      "metadata": {
        "colab": {
          "base_uri": "https://localhost:8080/"
        },
        "id": "hRdsux9HDvZb",
        "outputId": "5e808204-eeda-419e-d57d-053e2c7a4630"
      },
      "execution_count": 7,
      "outputs": [
        {
          "output_type": "stream",
          "name": "stdout",
          "text": [
            "Hello, world 1!\n",
            "Hello, world 2!\n"
          ]
        }
      ]
    },
    {
      "cell_type": "markdown",
      "source": [
        "## 1.2 여러 줄 주석\n",
        "이번에는 여러 줄 주석을 사용하갰습니다 '''을 사용하여 표현하는 주석줄"
      ],
      "metadata": {
        "id": "3Iku6Bo2EwHo"
      }
    },
    {
      "cell_type": "code",
      "source": [
        "'''\n",
        "print('Hello, World 1!')\n",
        "print('Hello, world 2!')\n",
        "print('Hello, World 3!')\n",
        "'''\n",
        "print('Real Hello World')"
      ],
      "metadata": {
        "colab": {
          "base_uri": "https://localhost:8080/"
        },
        "id": "7JzkwoKNE9iQ",
        "outputId": "c2f4393b-8393-4ce5-8b82-b389a11e7f67"
      },
      "execution_count": 9,
      "outputs": [
        {
          "output_type": "stream",
          "name": "stdout",
          "text": [
            "Real Hello World\n"
          ]
        }
      ]
    },
    {
      "cell_type": "markdown",
      "source": [
        "# 2.1 입력 input"
      ],
      "metadata": {
        "id": "1Kfqc0KFMS4R"
      }
    },
    {
      "cell_type": "code",
      "source": [
        "name = input(\"이름을 입력하세요: \")\n",
        "print(\"Hello, \" + name + \"!\")"
      ],
      "metadata": {
        "colab": {
          "base_uri": "https://localhost:8080/"
        },
        "id": "DpHyPgxKLWCx",
        "outputId": "d8626d83-9be3-4dac-9b76-7aa36741477b"
      },
      "execution_count": 12,
      "outputs": [
        {
          "output_type": "stream",
          "name": "stdout",
          "text": [
            "이름을 입력하세요: 펜리르\n",
            "Hello, 펜리르!\n"
          ]
        }
      ]
    },
    {
      "cell_type": "code",
      "source": [
        "input('입력해주세요')"
      ],
      "metadata": {
        "colab": {
          "base_uri": "https://localhost:8080/",
          "height": 54
        },
        "id": "_NnCy49-L6C_",
        "outputId": "4d309a5b-b613-43d2-f7b6-935768fa27f7"
      },
      "execution_count": 14,
      "outputs": [
        {
          "name": "stdout",
          "output_type": "stream",
          "text": [
            "입력해주세요sss\n"
          ]
        },
        {
          "output_type": "execute_result",
          "data": {
            "text/plain": [
              "'sss'"
            ],
            "application/vnd.google.colaboratory.intrinsic+json": {
              "type": "string"
            }
          },
          "metadata": {},
          "execution_count": 14
        }
      ]
    },
    {
      "cell_type": "code",
      "source": [
        "int(input('입력해주세요'))"
      ],
      "metadata": {
        "colab": {
          "base_uri": "https://localhost:8080/"
        },
        "id": "Sd5yVfHEMDtv",
        "outputId": "f3e7f463-95bb-4c74-bc4b-b77f84f5872b"
      },
      "execution_count": 15,
      "outputs": [
        {
          "name": "stdout",
          "output_type": "stream",
          "text": [
            "입력해주세요100\n"
          ]
        },
        {
          "output_type": "execute_result",
          "data": {
            "text/plain": [
              "100"
            ]
          },
          "metadata": {},
          "execution_count": 15
        }
      ]
    },
    {
      "cell_type": "markdown",
      "source": [
        "# 2.2 input 실습 - 2\n",
        "input으로 받은 값을 변수에 할당"
      ],
      "metadata": {
        "id": "K9FDvK1oMOB2"
      }
    },
    {
      "cell_type": "code",
      "source": [
        "name = input(\"이름을 입력해주세요\")"
      ],
      "metadata": {
        "colab": {
          "base_uri": "https://localhost:8080/"
        },
        "id": "ltEq3llVMhJA",
        "outputId": "71248840-0ad1-4860-959a-b275517c19a0"
      },
      "execution_count": 16,
      "outputs": [
        {
          "name": "stdout",
          "output_type": "stream",
          "text": [
            "이름을 입력해주세요박경민\n"
          ]
        }
      ]
    },
    {
      "cell_type": "code",
      "source": [
        "print(\"Hello,\" + name + \"!\")"
      ],
      "metadata": {
        "colab": {
          "base_uri": "https://localhost:8080/"
        },
        "id": "CgYPV8NAMoDv",
        "outputId": "671d6f8a-1742-456e-b545-9520e827209f"
      },
      "execution_count": 17,
      "outputs": [
        {
          "output_type": "stream",
          "name": "stdout",
          "text": [
            "Hello,박경민!\n"
          ]
        }
      ]
    },
    {
      "cell_type": "code",
      "source": [
        "# input을 활용한 덧셈 - 문자열인 경우\n",
        "a = input(\"첫번째 숫자를 입력해주세여\")\n",
        "b = input(\"두번째 숫자를 입력해주세요\")\n",
        "\n",
        "print(\"a + b = \", a+b, \"  입니다. \")"
      ],
      "metadata": {
        "colab": {
          "base_uri": "https://localhost:8080/"
        },
        "id": "MaTAxIOlM0a3",
        "outputId": "0d578216-e347-48dc-ee7d-0d7c90d30ed9"
      },
      "execution_count": 18,
      "outputs": [
        {
          "output_type": "stream",
          "name": "stdout",
          "text": [
            "첫번째 숫자를 입력해주세여10\n",
            "두번째 숫자를 입력해주세요20\n",
            "a + b =  1020   입니다. \n"
          ]
        }
      ]
    },
    {
      "cell_type": "code",
      "source": [
        "# input을 활용한 덧셈 -숫자열인 경우\n",
        "a = int(input(\"첫번째 숫자를 입력해주세여\"))\n",
        "b = int(input(\"두번째 숫자를 입력해주세요\"))\n",
        "\n",
        "print(\"a + b = \", a+b, \"  입니다. \")"
      ],
      "metadata": {
        "colab": {
          "base_uri": "https://localhost:8080/"
        },
        "id": "0FRr-Cp5NRyH",
        "outputId": "0583081a-bbde-487b-c596-f85ef315e0af"
      },
      "execution_count": 19,
      "outputs": [
        {
          "output_type": "stream",
          "name": "stdout",
          "text": [
            "첫번째 숫자를 입력해주세여10\n",
            "두번째 숫자를 입력해주세요20\n",
            "a + b =  30   입니다. \n"
          ]
        }
      ]
    },
    {
      "cell_type": "markdown",
      "source": [
        "# 3. 출력함수 Print"
      ],
      "metadata": {
        "id": "_kMyRNE4NhyH"
      }
    },
    {
      "cell_type": "code",
      "source": [
        "# 1. 여러줄 출력\n",
        "'출력합니다.'\n",
        "'출력합니다.'"
      ],
      "metadata": {
        "colab": {
          "base_uri": "https://localhost:8080/",
          "height": 35
        },
        "id": "IoB9OOE9Nwdn",
        "outputId": "239bf8e1-baf0-4caa-fc0b-46a89d0f3f45"
      },
      "execution_count": 34,
      "outputs": [
        {
          "output_type": "execute_result",
          "data": {
            "text/plain": [
              "'출력합니다.'"
            ],
            "application/vnd.google.colaboratory.intrinsic+json": {
              "type": "string"
            }
          },
          "metadata": {},
          "execution_count": 34
        }
      ]
    },
    {
      "cell_type": "code",
      "source": [
        "# 2. 여러값 출력\n",
        "\n",
        "print(\"Hello\", \"world\", \"!\")"
      ],
      "metadata": {
        "colab": {
          "base_uri": "https://localhost:8080/"
        },
        "id": "5qKapniMPADe",
        "outputId": "40308572-f1fc-4d7b-e21a-80d227650a1a"
      },
      "execution_count": 29,
      "outputs": [
        {
          "output_type": "stream",
          "name": "stdout",
          "text": [
            "Hello world !\n"
          ]
        }
      ]
    },
    {
      "cell_type": "code",
      "source": [
        "# 3. sep 구분자 / end 구분자\n",
        "\n",
        "print(\"hello\",\"world\",\"!\", sep = \"-\", end = \"!!!\")"
      ],
      "metadata": {
        "colab": {
          "base_uri": "https://localhost:8080/"
        },
        "id": "bw8_iRfvP1cG",
        "outputId": "7186a150-326c-4c73-d9cc-5c43977c7ca0"
      },
      "execution_count": 33,
      "outputs": [
        {
          "output_type": "stream",
          "name": "stdout",
          "text": [
            "hello-world-!!!!"
          ]
        }
      ]
    },
    {
      "cell_type": "code",
      "source": [
        "print(\"010\",\"5570\",\"2771\", sep=\"-\")\n",
        "print(\"***\",\"0000\",\"0000\", sep=\"!\")"
      ],
      "metadata": {
        "colab": {
          "base_uri": "https://localhost:8080/"
        },
        "id": "Na06osARQEK-",
        "outputId": "71117298-34c4-4ae3-81d6-f97492bbe464"
      },
      "execution_count": 35,
      "outputs": [
        {
          "output_type": "stream",
          "name": "stdout",
          "text": [
            "010-5570-2771\n",
            "***!0000!0000\n"
          ]
        }
      ]
    },
    {
      "cell_type": "code",
      "source": [
        "# 4. f-string에서 f가 없을때\n",
        "name = 'licat'\n",
        "age = 10\n",
        "print('제이름은 {name}, 나이는 {age} 입니다')"
      ],
      "metadata": {
        "colab": {
          "base_uri": "https://localhost:8080/"
        },
        "id": "mdvLB0aTRJ8O",
        "outputId": "49d7e671-7963-4cac-ddf8-ecff8bdb1642"
      },
      "execution_count": 51,
      "outputs": [
        {
          "output_type": "stream",
          "name": "stdout",
          "text": [
            "제이름은 {name}, 나이는 {age} 입니다\n"
          ]
        }
      ]
    },
    {
      "cell_type": "code",
      "source": [
        "# 4. f-string에서 중괄호가 없을때\n",
        "name = 'licat'\n",
        "age = 10\n",
        "print(f'제이름은 name, 나이는 age 입니다')"
      ],
      "metadata": {
        "colab": {
          "base_uri": "https://localhost:8080/"
        },
        "id": "zw8rjZQJRqiQ",
        "outputId": "36145fc7-8e93-4b1d-a5e4-30b2ee3ff79a"
      },
      "execution_count": 50,
      "outputs": [
        {
          "output_type": "stream",
          "name": "stdout",
          "text": [
            "제이름은 name, 나이는 age 입니다\n"
          ]
        }
      ]
    },
    {
      "cell_type": "code",
      "source": [
        "# 4. f-string을 제대로 입력할때\n",
        "name = 'licat'\n",
        "age = 10\n",
        "print(f'제 이름은 {name}, 나이는 {age} 입니다')"
      ],
      "metadata": {
        "colab": {
          "base_uri": "https://localhost:8080/"
        },
        "id": "ibkp9DlVR3l2",
        "outputId": "6222a81b-5157-4549-f1aa-50473aa8ed3a"
      },
      "execution_count": 48,
      "outputs": [
        {
          "output_type": "stream",
          "name": "stdout",
          "text": [
            "제 이름은 licat, 나이는 10 입니다\n"
          ]
        }
      ]
    },
    {
      "cell_type": "code",
      "source": [
        "#  input을 활용한 f-string 실습\n",
        "name = input('이름을 입력해주세요')\n",
        "age = int(input('나이를 입력해주세요'))\n",
        "\n",
        "print(f'제 이름은 {name}, 나이는 {age} 입니다')"
      ],
      "metadata": {
        "id": "yFEuqNE-Sem2",
        "colab": {
          "base_uri": "https://localhost:8080/"
        },
        "outputId": "f015bc1f-b1af-4a8e-e323-746a9d12dd04"
      },
      "execution_count": 58,
      "outputs": [
        {
          "output_type": "stream",
          "name": "stdout",
          "text": [
            "이름을 입력해주세요 박경민\n",
            "나이를 입력해주세요 25\n",
            "제 이름은  박경민, 나이는 25 입니다\n"
          ]
        }
      ]
    },
    {
      "cell_type": "code",
      "source": [
        "#  5. None\n",
        "\n",
        "a = None"
      ],
      "metadata": {
        "id": "tNGwyjGQTOj1"
      },
      "execution_count": 54,
      "outputs": []
    },
    {
      "cell_type": "code",
      "source": [
        "a"
      ],
      "metadata": {
        "id": "Oe7rVwUGUFhG"
      },
      "execution_count": 55,
      "outputs": []
    },
    {
      "cell_type": "code",
      "source": [
        "print(a)"
      ],
      "metadata": {
        "colab": {
          "base_uri": "https://localhost:8080/"
        },
        "id": "GgwPeqJbUG1d",
        "outputId": "d1bd2dd1-ce5f-4e64-d732-7dbf75e4db11"
      },
      "execution_count": 57,
      "outputs": [
        {
          "output_type": "stream",
          "name": "stdout",
          "text": [
            "None\n"
          ]
        }
      ]
    },
    {
      "cell_type": "code",
      "source": [],
      "metadata": {
        "id": "kTkiBfc3UKIl"
      },
      "execution_count": null,
      "outputs": []
    }
  ]
}