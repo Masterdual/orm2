{
  "nbformat": 4,
  "nbformat_minor": 0,
  "metadata": {
    "colab": {
      "provenance": [],
      "authorship_tag": "ABX9TyOKazIViKmcdZL+oTdrmcVH",
      "include_colab_link": true
    },
    "kernelspec": {
      "name": "python3",
      "display_name": "Python 3"
    },
    "language_info": {
      "name": "python"
    }
  },
  "cells": [
    {
      "cell_type": "markdown",
      "metadata": {
        "id": "view-in-github",
        "colab_type": "text"
      },
      "source": [
        "<a href=\"https://colab.research.google.com/github/Masterdual/orm2/blob/main/%EC%98%A8%EB%B3%B4%EB%94%A9_2%EC%9D%BC%EC%B0%A8_%EC%A3%BC%EC%84%9D_%EC%98%A4%ED%9B%84.ipynb\" target=\"_parent\"><img src=\"https://colab.research.google.com/assets/colab-badge.svg\" alt=\"Open In Colab\"/></a>"
      ]
    },
    {
      "cell_type": "markdown",
      "source": [
        "# 1.1 한줄 주석\n",
        "\n",
        "한 줄 주석은 # 기호로 시작합니다"
      ],
      "metadata": {
        "id": "MIPITjqpDj4N"
      }
    },
    {
      "cell_type": "code",
      "source": [
        "'''\n",
        "이것은 주석입니다. (특이사항, 전체적인 것들, 업데이트 내용)\n",
        "주석은 # 기호로 시작됩니다.\n",
        "주석의 설명이 끝났습니다\n",
        "'''\n",
        "\n",
        "print('Hello, world 1!') # 이것도 주석입니다. (해당 코드의 설명)\n",
        "print('Hello, world 2!') # 코드의 에러  /  향후 수정! / 임시  주석!"
      ],
      "metadata": {
        "colab": {
          "base_uri": "https://localhost:8080/"
        },
        "id": "hRdsux9HDvZb",
        "outputId": "5e808204-eeda-419e-d57d-053e2c7a4630"
      },
      "execution_count": 7,
      "outputs": [
        {
          "output_type": "stream",
          "name": "stdout",
          "text": [
            "Hello, world 1!\n",
            "Hello, world 2!\n"
          ]
        }
      ]
    },
    {
      "cell_type": "markdown",
      "source": [
        "## 1.2 여러 줄 주석\n",
        "이번에는 여러 줄 주석을 사용하갰습니다 '''을 사용하여 표현하는 주석줄"
      ],
      "metadata": {
        "id": "3Iku6Bo2EwHo"
      }
    },
    {
      "cell_type": "code",
      "source": [
        "'''\n",
        "print('Hello, World 1!')\n",
        "print('Hello, world 2!')\n",
        "print('Hello, World 3!')\n",
        "'''\n",
        "print('Real Hello World')"
      ],
      "metadata": {
        "colab": {
          "base_uri": "https://localhost:8080/"
        },
        "id": "7JzkwoKNE9iQ",
        "outputId": "099f5503-f12d-4706-affd-e1ab83f6a074"
      },
      "execution_count": 5,
      "outputs": [
        {
          "output_type": "stream",
          "name": "stdout",
          "text": [
            "Real Hello World\n"
          ]
        }
      ]
    }
  ]
}