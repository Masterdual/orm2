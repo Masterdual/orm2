{
  "nbformat": 4,
  "nbformat_minor": 0,
  "metadata": {
    "colab": {
      "provenance": [],
      "authorship_tag": "ABX9TyOp7zFN07IKiSVRoPWCnqwN",
      "include_colab_link": true
    },
    "kernelspec": {
      "name": "python3",
      "display_name": "Python 3"
    },
    "language_info": {
      "name": "python"
    }
  },
  "cells": [
    {
      "cell_type": "markdown",
      "metadata": {
        "id": "view-in-github",
        "colab_type": "text"
      },
      "source": [
        "<a href=\"https://colab.research.google.com/github/Masterdual/orm2/blob/main/%EB%AA%A8%EB%91%90%EC%97%B03%EC%A3%BC%EC%B0%A8_%ED%81%B4%EB%9E%98%EC%8A%A4%EB%B0%8F_%ED%83%80%ED%95%A8%EC%88%98%EC%9D%91%EC%9A%A9.ipynb\" target=\"_parent\"><img src=\"https://colab.research.google.com/assets/colab-badge.svg\" alt=\"Open In Colab\"/></a>"
      ]
    },
    {
      "cell_type": "code",
      "execution_count": 1,
      "metadata": {
        "id": "GHZpQX824wND"
      },
      "outputs": [],
      "source": [
        "def hello():\n",
        "    '''\n",
        "    DocString\n",
        "    주석은 여기 답니다.\n",
        "    '''\n",
        "    pass"
      ]
    },
    {
      "cell_type": "code",
      "source": [
        "print(type(hello)) # 함수도 class입니다!?"
      ],
      "metadata": {
        "colab": {
          "base_uri": "https://localhost:8080/"
        },
        "id": "1Pa-LL_h5yjG",
        "outputId": "18a999e2-0f57-484c-b89c-6a3b0cb52d4a"
      },
      "execution_count": 2,
      "outputs": [
        {
          "output_type": "stream",
          "name": "stdout",
          "text": [
            "<class 'function'>\n"
          ]
        }
      ]
    },
    {
      "cell_type": "code",
      "source": [
        "a = 10\n",
        "# a는 무엇인가?\n",
        "# a는 int 인스턴스"
      ],
      "metadata": {
        "id": "154GH8xU55ib"
      },
      "execution_count": 3,
      "outputs": []
    },
    {
      "cell_type": "code",
      "source": [
        "i = [a, a, a]\n",
        "i"
      ],
      "metadata": {
        "colab": {
          "base_uri": "https://localhost:8080/"
        },
        "id": "YXV64Tqf6TWc",
        "outputId": "17fe39e3-24d6-4c8f-9462-f59210a2aef6"
      },
      "execution_count": 4,
      "outputs": [
        {
          "output_type": "execute_result",
          "data": {
            "text/plain": [
              "[10, 10, 10]"
            ]
          },
          "metadata": {},
          "execution_count": 4
        }
      ]
    },
    {
      "cell_type": "code",
      "source": [
        "print('hello world') # built-in function"
      ],
      "metadata": {
        "colab": {
          "base_uri": "https://localhost:8080/"
        },
        "id": "Oj-gbo7i6YW1",
        "outputId": "ed0baf66-1fa0-4ccf-c199-e8ba61b93a88"
      },
      "execution_count": 5,
      "outputs": [
        {
          "output_type": "stream",
          "name": "stdout",
          "text": [
            "hello world\n"
          ]
        }
      ]
    },
    {
      "cell_type": "code",
      "source": [
        "a = 10\n",
        "# a는 무엇이죠?\n",
        "# a는 int에 인스턴스\n",
        "\n",
        "l = [a, a, a]\n",
        "l[2]\n",
        "\n",
        "print('hello world') # built-in function\n",
        "\n",
        "l = [print, print, print]\n",
        "l[2]('hello world')\n",
        "\n",
        "hojun = print\n",
        "hojun('hello world')"
      ],
      "metadata": {
        "colab": {
          "base_uri": "https://localhost:8080/"
        },
        "id": "lbSj5tLe6gYN",
        "outputId": "c8057f99-f22c-4989-c67b-fe06757a71c2"
      },
      "execution_count": 14,
      "outputs": [
        {
          "output_type": "stream",
          "name": "stdout",
          "text": [
            "hello world\n",
            "hello world\n",
            "hello world\n"
          ]
        }
      ]
    },
    {
      "cell_type": "code",
      "source": [
        "id(hojun), id(print)"
      ],
      "metadata": {
        "colab": {
          "base_uri": "https://localhost:8080/"
        },
        "id": "I7NaqYcb9X39",
        "outputId": "0b2b0099-45d5-4591-9c7c-2aa1990c424a"
      },
      "execution_count": 15,
      "outputs": [
        {
          "output_type": "execute_result",
          "data": {
            "text/plain": [
              "(137956434744624, 137956434744624)"
            ]
          },
          "metadata": {},
          "execution_count": 15
        }
      ]
    },
    {
      "cell_type": "code",
      "source": [
        "hojun = print"
      ],
      "metadata": {
        "id": "iTz_91Kt9g7r"
      },
      "execution_count": 16,
      "outputs": []
    },
    {
      "cell_type": "code",
      "source": [
        "add = lambda x, y: x+ y\n",
        "add(10,5)"
      ],
      "metadata": {
        "colab": {
          "base_uri": "https://localhost:8080/"
        },
        "id": "iF83Zwzv6pUi",
        "outputId": "e1ae66e2-06f1-4e81-866e-37389de22b64"
      },
      "execution_count": 9,
      "outputs": [
        {
          "output_type": "execute_result",
          "data": {
            "text/plain": [
              "15"
            ]
          },
          "metadata": {},
          "execution_count": 9
        }
      ]
    },
    {
      "cell_type": "code",
      "source": [
        "print(add)"
      ],
      "metadata": {
        "colab": {
          "base_uri": "https://localhost:8080/"
        },
        "id": "58rZ_Dk_7lcr",
        "outputId": "bee05a5f-e050-430d-e669-4294360b7e34"
      },
      "execution_count": 10,
      "outputs": [
        {
          "output_type": "stream",
          "name": "stdout",
          "text": [
            "<function <lambda> at 0x7d7845c8f9a0>\n"
          ]
        }
      ]
    },
    {
      "cell_type": "markdown",
      "source": [
        "# lambda의 응용"
      ],
      "metadata": {
        "id": "f4AhcXviIZhb"
      }
    },
    {
      "cell_type": "code",
      "source": [
        "홀수 = lambda x,y : x + y\n",
        "add(3, 5)"
      ],
      "metadata": {
        "colab": {
          "base_uri": "https://localhost:8080/"
        },
        "id": "2Qq1vJw9J9rC",
        "outputId": "9e950b5e-e403-4042-f157-514235770fbb"
      },
      "execution_count": 38,
      "outputs": [
        {
          "output_type": "execute_result",
          "data": {
            "text/plain": [
              "8"
            ]
          },
          "metadata": {},
          "execution_count": 38
        }
      ]
    },
    {
      "cell_type": "markdown",
      "source": [
        "## Top3-1 map"
      ],
      "metadata": {
        "id": "UuHx3oaTIem5"
      }
    },
    {
      "cell_type": "code",
      "source": [
        "# 코드가 이해가 안된다 => 이해할려고 노력하는 것 보다는\n",
        "# 예제를 30개 정도 만들어보는것 권장\n",
        "# Djangi 어려우면 30개 만들기 어려우면 더 만들기\n",
        "# 모든 어려우면 일단 예제를 30개 정도 만들어서 이해하기 그래도 모르면 더 만들기\n",
        "\n",
        "# lambda + 3항 연산자 많이 사용한다\n",
        "\n",
        "x = 10\n",
        "y = True if x % 2 == 0 else False\n",
        "\n",
        "print(y)"
      ],
      "metadata": {
        "colab": {
          "base_uri": "https://localhost:8080/"
        },
        "id": "EEKTcsEy7m30",
        "outputId": "fa8cf978-0f93-4cd7-daf1-6bb53b205ff8"
      },
      "execution_count": 13,
      "outputs": [
        {
          "output_type": "stream",
          "name": "stdout",
          "text": [
            "True\n"
          ]
        }
      ]
    },
    {
      "cell_type": "code",
      "source": [
        "def 제곱(x): # 재사용시 함수 추천\n",
        "    return x ** 2\n",
        "\n",
        "list(map(제곱,[1, 2, 3, 4]))"
      ],
      "metadata": {
        "colab": {
          "base_uri": "https://localhost:8080/"
        },
        "id": "RDmZ8p4I8pcr",
        "outputId": "88229feb-6541-4dd0-a535-90c9e17568ca"
      },
      "execution_count": 17,
      "outputs": [
        {
          "output_type": "execute_result",
          "data": {
            "text/plain": [
              "[1, 4, 9, 16]"
            ]
          },
          "metadata": {},
          "execution_count": 17
        }
      ]
    },
    {
      "cell_type": "code",
      "source": [
        "# 재사용 하지 않을 것이먄 lambda\n",
        "# lambda가 실무에서 좀 더 많이 사용됩니다.\n",
        "# 수식이 복잡해지면 재사용과 별개로 lambda로 했을 경우 가독성이 떨어지는 경우도 발생한다\n",
        "# 이럴 때에는 함수로 빼기도 한다\n",
        "\n",
        "list(map(lambda x: x**2, [1, 2, 3, 4]))"
      ],
      "metadata": {
        "colab": {
          "base_uri": "https://localhost:8080/"
        },
        "id": "sIyPrCtb-Pj0",
        "outputId": "9a7aa3df-464a-45c8-e8c6-ce0f1f42ee84"
      },
      "execution_count": 18,
      "outputs": [
        {
          "output_type": "execute_result",
          "data": {
            "text/plain": [
              "[1, 4, 9, 16]"
            ]
          },
          "metadata": {},
          "execution_count": 18
        }
      ]
    },
    {
      "cell_type": "code",
      "source": [
        "list(map(lambda x: True if x % 2 == 0 else False , [1, 2, 3, 4])) # 마스킹"
      ],
      "metadata": {
        "colab": {
          "base_uri": "https://localhost:8080/"
        },
        "id": "0YgC7ut9-wtd",
        "outputId": "556ea7c6-5c87-4291-fc9e-4fd0b43f34af"
      },
      "execution_count": 20,
      "outputs": [
        {
          "output_type": "execute_result",
          "data": {
            "text/plain": [
              "[False, True, False, True]"
            ]
          },
          "metadata": {},
          "execution_count": 20
        }
      ]
    },
    {
      "cell_type": "code",
      "source": [
        "# 알고리즘 문제에서\n",
        "# [True, False, False, False, True]"
      ],
      "metadata": {
        "id": "MNH9zv73_A2M"
      },
      "execution_count": null,
      "outputs": []
    },
    {
      "cell_type": "code",
      "source": [
        "# 101은 소수인가\n",
        "\n",
        "for i in range(2, 31):\n",
        "    if 101 % i == 0:\n",
        "        print('소수아님!')\n",
        "        break\n",
        "else: # else 대신 then으로 하자라는 논의가 활발했다. => 그러나 else가 이긴다\n",
        "    print('소수임')"
      ],
      "metadata": {
        "colab": {
          "base_uri": "https://localhost:8080/"
        },
        "id": "4VSwFLaS_cxq",
        "outputId": "a98d06f2-6912-4c21-a304-bbb329268a6d"
      },
      "execution_count": 28,
      "outputs": [
        {
          "output_type": "stream",
          "name": "stdout",
          "text": [
            "소수임\n"
          ]
        }
      ]
    },
    {
      "cell_type": "markdown",
      "source": [
        "## Top3-2 filter"
      ],
      "metadata": {
        "id": "2ipCdTQaIoZp"
      }
    },
    {
      "cell_type": "code",
      "source": [
        "# filter\n",
        "list(filter(lambda x: x % 2 == 0, range(100)))"
      ],
      "metadata": {
        "id": "cCwTGoe6EnLJ"
      },
      "execution_count": null,
      "outputs": []
    },
    {
      "cell_type": "code",
      "source": [
        "list(filter(lambda x: x % 3 == 0, range(100)))"
      ],
      "metadata": {
        "id": "RN37nwc3GWuh"
      },
      "execution_count": null,
      "outputs": []
    },
    {
      "cell_type": "code",
      "source": [
        "list(filter(lambda x: x > 50, range(100)))"
      ],
      "metadata": {
        "id": "6BRqcCmaGop4"
      },
      "execution_count": null,
      "outputs": []
    },
    {
      "cell_type": "code",
      "source": [
        "list(filter(lambda x: x > 50 and x < 80, range(100)))"
      ],
      "metadata": {
        "id": "CaadNl9WGsOB"
      },
      "execution_count": null,
      "outputs": []
    },
    {
      "cell_type": "code",
      "source": [
        "list(filter(lambda x: True if x % 3 == 0 or x % 5 == 0 else False, range(100)))"
      ],
      "metadata": {
        "id": "ohWovHvCG0AJ"
      },
      "execution_count": null,
      "outputs": []
    },
    {
      "cell_type": "code",
      "source": [
        "# list(filter(lambda x: x % 2 == 0, range(100)))\n",
        "list(filter(lambda x: x % 2 == 0, range(100))) # 홀수를!?\n",
        "\n",
        "# [0, 1, 2, 3, 4, 5, 6, 7, 8, 9]\n",
        "# x == 0 => lambda x: x % 2 == 0 => False로 평가\n",
        "# x == 1 => lambda x: x % 2 == 1 => True로 평가\n",
        "# x == 2 => lambda x: x % 2 == 0 => False로 평가\n",
        "# x == 3 => lambda x: x % 2 == 1 => True로 평가\n",
        "# x == 4 => lambda x: x % 2 == 0 => False로 평가\n",
        "# x == 5 => lambda x: x % 2 == 1 => True로 평가\n",
        "# x == 6 => lambda x: x % 2 == 0 => False로 평가\n",
        "# x == 7 => lambda x: x % 2 == 1 => True로 평가"
      ],
      "metadata": {
        "id": "GefoWA5jHB_y"
      },
      "execution_count": null,
      "outputs": []
    },
    {
      "cell_type": "code",
      "source": [
        "test=lambda i:i % 2 == 0\n",
        "[test(i) for i in range(10)]"
      ],
      "metadata": {
        "colab": {
          "base_uri": "https://localhost:8080/"
        },
        "id": "CPtQs2ibKdaq",
        "outputId": "8892c567-df88-47ed-e3bc-64f24094b21f"
      },
      "execution_count": 39,
      "outputs": [
        {
          "output_type": "execute_result",
          "data": {
            "text/plain": [
              "[True, False, True, False, True, False, True, False, True, False]"
            ]
          },
          "metadata": {},
          "execution_count": 39
        }
      ]
    },
    {
      "cell_type": "markdown",
      "source": [
        "## Top3-3 sorted에서 사용!"
      ],
      "metadata": {
        "id": "F5SWDF6dIU0J"
      }
    },
    {
      "cell_type": "code",
      "source": [
        "i = [10, 20, 5, 4, 22, 32, 5, 9, 11]\n",
        "i.sort() # sort를 자주 사용하진 않음 원본변형 우려\n",
        "i"
      ],
      "metadata": {
        "colab": {
          "base_uri": "https://localhost:8080/"
        },
        "id": "suRcv7AaIyzg",
        "outputId": "03b33d9c-2755-44d8-e267-5616f61cbf06"
      },
      "execution_count": 36,
      "outputs": [
        {
          "output_type": "execute_result",
          "data": {
            "text/plain": [
              "[4, 5, 5, 9, 10, 11, 20, 22, 32]"
            ]
          },
          "metadata": {},
          "execution_count": 36
        }
      ]
    },
    {
      "cell_type": "code",
      "source": [
        "i = [10, 20, 5, 4, 22, 32, 5, 9, 11]\n",
        "sorted(i) #sorted의 return값이 정렬된 값이죠!\n",
        "i # i은 그대로 이며 그래서 자주 사용"
      ],
      "metadata": {
        "colab": {
          "base_uri": "https://localhost:8080/"
        },
        "id": "yUrllAEUJAFn",
        "outputId": "f72e1610-1f7b-456a-fd1c-9d8ea0230848"
      },
      "execution_count": 37,
      "outputs": [
        {
          "output_type": "execute_result",
          "data": {
            "text/plain": [
              "[10, 20, 5, 4, 22, 32, 5, 9, 11]"
            ]
          },
          "metadata": {},
          "execution_count": 37
        }
      ]
    },
    {
      "cell_type": "code",
      "source": [
        "sorted() # key, reverse 옵션을 정말 정말 많이 사용합니다!\n",
        "# 알고리즘 문제에서 단골 문제이고, sorted 문제는 1문제는 거의 출제된다고 보시면 됩니다.\n",
        "# 최댓값\n",
        "# 최솟값\n",
        "# https://codingdojang.com/scode/408?answer_mode=hide 이것도 최솟값!\n",
        "# https://school.programmers.co.kr/learn/courses/30/lessons/120835 이것도 정렬 문제입니다!"
      ],
      "metadata": {
        "id": "pgZaEPMGJTyq"
      },
      "execution_count": null,
      "outputs": []
    },
    {
      "cell_type": "code",
      "source": [
        "반별점수 = [\n",
        "    ['길동','30','56','22'],\n",
        "    ['춘향','55','60','73'],\n",
        "    ['몽주','32','65','68'],\n",
        "    ['철수','92','11','95'],\n",
        "]"
      ],
      "metadata": {
        "id": "qv-Kn_JWLDYh"
      },
      "execution_count": 42,
      "outputs": []
    },
    {
      "cell_type": "code",
      "source": [
        "sorted(반별점수) # 값이나 0번째 값 기준으로 정렬한다"
      ],
      "metadata": {
        "colab": {
          "base_uri": "https://localhost:8080/"
        },
        "id": "8P-rkFRKMC1I",
        "outputId": "fd8387ba-2108-4038-9271-5ea9729c06b6"
      },
      "execution_count": 43,
      "outputs": [
        {
          "output_type": "execute_result",
          "data": {
            "text/plain": [
              "[['길동', '30', '56', '22'],\n",
              " ['몽주', '32', '65', '68'],\n",
              " ['철수', '92', '11', '95'],\n",
              " ['춘향', '55', '60', '73']]"
            ]
          },
          "metadata": {},
          "execution_count": 43
        }
      ]
    },
    {
      "cell_type": "code",
      "source": [
        "def 함수(x):\n",
        "    return x[3] # 가장 중요한것은 이 key함수의 return 값대로 정렬한다는 것!\n",
        "\n",
        "sorted(반별점수, key=함수)"
      ],
      "metadata": {
        "colab": {
          "base_uri": "https://localhost:8080/"
        },
        "id": "0DHcuI4qMLky",
        "outputId": "91c2821e-3880-4ea4-9ef0-3dba5c074a3c"
      },
      "execution_count": 44,
      "outputs": [
        {
          "output_type": "execute_result",
          "data": {
            "text/plain": [
              "[['길동', '30', '56', '22'],\n",
              " ['몽주', '32', '65', '68'],\n",
              " ['춘향', '55', '60', '73'],\n",
              " ['철수', '92', '11', '95']]"
            ]
          },
          "metadata": {},
          "execution_count": 44
        }
      ]
    },
    {
      "cell_type": "code",
      "source": [
        "# [['길동', '30', '56', '22'], => 22\n",
        "#  ['몽주', '32', '65', '68'], => 68\n",
        "#  ['춘향', '55', '60', '73'], => 73 # 맨 엎으로 감\n",
        "#  ['철수', '92', '11', '95']] => 95"
      ],
      "metadata": {
        "id": "amJ41XQQMjOo"
      },
      "execution_count": null,
      "outputs": []
    },
    {
      "cell_type": "code",
      "source": [
        "# def 함수(x):\n",
        "#     return x[3]\n",
        "\n",
        "sorted(반별점수, key=lambda)"
      ],
      "metadata": {
        "id": "jAg0JPohNf0Q"
      },
      "execution_count": null,
      "outputs": []
    },
    {
      "cell_type": "code",
      "source": [
        "sorted(반별점수, key=lambda x: x[1] + x[2] + x[3])"
      ],
      "metadata": {
        "colab": {
          "base_uri": "https://localhost:8080/"
        },
        "id": "cD8iCVXiRI__",
        "outputId": "6756508f-8e3f-4d09-f8d7-dadce8f7559e"
      },
      "execution_count": 47,
      "outputs": [
        {
          "output_type": "execute_result",
          "data": {
            "text/plain": [
              "[['길동', '30', '56', '22'],\n",
              " ['몽주', '32', '65', '68'],\n",
              " ['춘향', '55', '60', '73'],\n",
              " ['철수', '92', '11', '95']]"
            ]
          },
          "metadata": {},
          "execution_count": 47
        }
      ]
    },
    {
      "cell_type": "code",
      "source": [
        "# 문제가 살짝 어려워짐\n",
        "반별점수 = [\n",
        "    ['홍길동', 50, 50, 50],\n",
        "    ['이철수', 45, 50, 55],\n",
        "    ['홍춘향', 60, 35, 75],\n",
        "    ['이호준', 92, 11, 95]\n",
        "]\n",
        "\n",
        "# 문제: 국, 영, 수 평균 점수대로 출력해주세요!\n",
        "# 정답:\n",
        "sorted(반별점수, key=lambda x: x[1] + x[2] + x[3]) # 나눌 필요 없다.\n",
        "\n",
        "# 2\n",
        "# sorted(반별점수, key=lambda x: x[1] + x[2] + x[3], reverse=True) # 철수가 수학 점수가 높은데 뒤에 있다?\n",
        "# 의도는 수학 점수가 높으니 앞에 두겠다는 애기\n",
        "#[['홍길동', 30, 55, 22], => (50, 50)\n",
        "# ['이철수', 32, 65, 68], => (50, 55)\n",
        "# ['홍춘향', 55, 60, 73], => ??\n",
        "# ['이호준', 92, 11, 95]] => ??\n",
        "# 내림차순으로 정렬합니다!\n",
        "# 평균 점수가 높은게 앞으로 옵니다.\n",
        "sorted(반별점수, key=lambda x: (x[1] + x[2] + x[3], x[3]), reverse=True) # 철수랑 길동이 바뀌었다"
      ],
      "metadata": {
        "colab": {
          "base_uri": "https://localhost:8080/"
        },
        "id": "3BpkIxKPRWfo",
        "outputId": "78d9fe61-54d1-4201-90b5-adf09f0bb675"
      },
      "execution_count": 52,
      "outputs": [
        {
          "output_type": "execute_result",
          "data": {
            "text/plain": [
              "[['이호준', 92, 11, 95],\n",
              " ['홍춘향', 60, 35, 75],\n",
              " ['이철수', 45, 50, 55],\n",
              " ['홍길동', 50, 50, 50]]"
            ]
          },
          "metadata": {},
          "execution_count": 52
        }
      ]
    },
    {
      "cell_type": "code",
      "source": [
        "우편번호 = [\n",
        "    {\n",
        "        '주소': '경기도 용인시',\n",
        "        '우편번호': 321\n",
        "    },\n",
        "    {\n",
        "        '주소': '경기도 수원시',\n",
        "        '우편번호': 355\n",
        "    },\n",
        "    {\n",
        "        '주소': '제주특별자치도 제주시',\n",
        "        '우편번호': 333\n",
        "    }\n",
        "]\n",
        "\n",
        "# sorted(우편번호) #error, 비교를 할 수 없다!?\n",
        "sorted(우편번호, key=lambda x: x['우편번호'])\n",
        "\n",
        "# 우편번호 = [\n",
        "#     {\n",
        "#         '주소': '경기도 용인시',\n",
        "#         '우편번호': 321\n",
        "#     }, => 321\n",
        "#     {\n",
        "#         '주소': '경기도 수원시',\n",
        "#         '우편번호': 355\n",
        "#     }, => 355\n",
        "#     {\n",
        "#         '주소': '제주특별자치도 제주시',\n",
        "#         '우편번호': 333\n",
        "#     } => 333\n",
        "# ]"
      ],
      "metadata": {
        "colab": {
          "base_uri": "https://localhost:8080/"
        },
        "id": "4-K6Os-dUGF9",
        "outputId": "603b8c94-b420-4e2b-c654-9e8384b9fce4"
      },
      "execution_count": 55,
      "outputs": [
        {
          "output_type": "execute_result",
          "data": {
            "text/plain": [
              "[{'주소': '경기도 용인시', '우편번호': 321},\n",
              " {'주소': '제주특별자치도 제주시', '우편번호': 333},\n",
              " {'주소': '경기도 수원시', '우편번호': 355}]"
            ]
          },
          "metadata": {},
          "execution_count": 55
        }
      ]
    },
    {
      "cell_type": "code",
      "source": [
        "# 다음 입사문제\n",
        "# 직건에 있는 점의 좌표입니다\n",
        "# 점과 점 사이가 가장 짧은 점의 쌍을 출력하세요\n",
        "\n",
        "s = [1, 3, 4, 8, 13, 17, 20]\n",
        "# 입력값 : S = [1, 3, 4, 8, 13, 17, 20]\n",
        "# 출력값 : (3, 4)\n",
        "\n",
        "s = [1, 3, 4, 8, 13, 17, 20]\n",
        "s[1:]"
      ],
      "metadata": {
        "colab": {
          "base_uri": "https://localhost:8080/"
        },
        "id": "DL_WuSMwUSqv",
        "outputId": "2daaa2fc-e926-45e5-f222-18b3ee35ff81"
      },
      "execution_count": 57,
      "outputs": [
        {
          "output_type": "execute_result",
          "data": {
            "text/plain": [
              "[3, 4, 8, 13, 17, 20]"
            ]
          },
          "metadata": {},
          "execution_count": 57
        }
      ]
    },
    {
      "cell_type": "code",
      "source": [
        "list(zip(s, s[1:]))\n",
        "x = list(zip(s, s[1:]))\n",
        "x"
      ],
      "metadata": {
        "colab": {
          "base_uri": "https://localhost:8080/"
        },
        "id": "RUfGAksfUSzu",
        "outputId": "73138894-4f21-4685-bb01-cf2ea332c6ce"
      },
      "execution_count": 80,
      "outputs": [
        {
          "output_type": "execute_result",
          "data": {
            "text/plain": [
              "[(1, 3), (3, 4), (4, 8), (8, 13), (13, 17), (17, 20)]"
            ]
          },
          "metadata": {},
          "execution_count": 80
        }
      ]
    },
    {
      "cell_type": "code",
      "source": [
        "print(list(zip('hello', 'world')))\n",
        "list(enumerate(zip('hello','world')))"
      ],
      "metadata": {
        "colab": {
          "base_uri": "https://localhost:8080/"
        },
        "id": "AtS41F9_US93",
        "outputId": "155dadbf-244a-4c03-f4f1-30e84c72a91f"
      },
      "execution_count": 72,
      "outputs": [
        {
          "output_type": "stream",
          "name": "stdout",
          "text": [
            "[('h', 'w'), ('e', 'o'), ('l', 'r'), ('l', 'l'), ('o', 'd')]\n"
          ]
        },
        {
          "output_type": "execute_result",
          "data": {
            "text/plain": [
              "[(0, ('h', 'w')),\n",
              " (1, ('e', 'o')),\n",
              " (2, ('l', 'r')),\n",
              " (3, ('l', 'l')),\n",
              " (4, ('o', 'd'))]"
            ]
          },
          "metadata": {},
          "execution_count": 72
        }
      ]
    },
    {
      "cell_type": "code",
      "source": [
        "sorted(x, key = lambda x: (x[1] - x[0]))"
      ],
      "metadata": {
        "colab": {
          "base_uri": "https://localhost:8080/"
        },
        "id": "SbPEYWUjWluc",
        "outputId": "501150e4-8577-45fc-c859-ea39ef603daf"
      },
      "execution_count": 86,
      "outputs": [
        {
          "output_type": "execute_result",
          "data": {
            "text/plain": [
              "[(3, 4), (1, 3), (17, 20), (4, 8), (13, 17), (8, 13)]"
            ]
          },
          "metadata": {},
          "execution_count": 86
        }
      ]
    },
    {
      "cell_type": "markdown",
      "source": [
        "![이미지](https://media.discordapp.net/attachments/1173449925393121361/1194833702572806215/image.png?ex=65b1ca99&is=659f5599&hm=46004c8e8ea30d5f778deb3105e67550049ac4d80eb5a8e613cb7edae9f1f973&=&format=webp&quality=lossless&width=720&height=283)"
      ],
      "metadata": {
        "id": "ajLfPRCGYNxU"
      }
    },
    {
      "cell_type": "code",
      "source": [
        "sum([10, 20, 30])\n",
        "sum([10, 20, 30], 100)\n",
        "sum([[1, 2, 3], [4, 5, 6]], [])"
      ],
      "metadata": {
        "colab": {
          "base_uri": "https://localhost:8080/"
        },
        "id": "59PdCd5yZw7T",
        "outputId": "90c81416-1e8c-4816-d173-72504157f0ac"
      },
      "execution_count": 89,
      "outputs": [
        {
          "output_type": "execute_result",
          "data": {
            "text/plain": [
              "[1, 2, 3, 4, 5, 6]"
            ]
          },
          "metadata": {},
          "execution_count": 89
        }
      ]
    },
    {
      "cell_type": "code",
      "source": [
        "sum([[1, 2, 3], [4, 5, 6]], [])\n",
        "\n",
        "[] + [1, 2, 3] == [1, 2, 3]\n",
        "[1, 2, 3] + [4, 5, 6] == [1, 2, 3, 4, 5, 6]"
      ],
      "metadata": {
        "colab": {
          "base_uri": "https://localhost:8080/"
        },
        "id": "ALpbypRgbaaW",
        "outputId": "f1f15abf-1cc6-441e-82be-214362cf6a1a"
      },
      "execution_count": 90,
      "outputs": [
        {
          "output_type": "execute_result",
          "data": {
            "text/plain": [
              "True"
            ]
          },
          "metadata": {},
          "execution_count": 90
        }
      ]
    },
    {
      "cell_type": "code",
      "source": [
        "# 어디까지 이해하고 어디까지 암기해야하나?\n",
        "# 책 => 이런 내용이 안나옴 실무에서 빈도가 많은지에 대해 나오지 않음\n",
        "# 암기할건 하고 버릴건 버린다\n",
        "# 충분히 4 ~ 5개월 안에 원하는 수준으로 올라갈수 있다 (파이썬)"
      ],
      "metadata": {
        "id": "g3Qv0quDbcMM"
      },
      "execution_count": null,
      "outputs": []
    },
    {
      "cell_type": "code",
      "source": [
        "# 다른 값이 출력될 수도 있다는 것을 기억해야 한다\n",
        "a = 10\n",
        "print(a) #a._str_\n",
        "a # a._repr\n",
        "repr(a) # a._repe_"
      ],
      "metadata": {
        "colab": {
          "base_uri": "https://localhost:8080/",
          "height": 54
        },
        "id": "dYQRGDkiefLb",
        "outputId": "2d138dc3-48d4-44cf-b3dc-5c9fbc045159"
      },
      "execution_count": 91,
      "outputs": [
        {
          "output_type": "stream",
          "name": "stdout",
          "text": [
            "10\n"
          ]
        },
        {
          "output_type": "execute_result",
          "data": {
            "text/plain": [
              "'10'"
            ],
            "application/vnd.google.colaboratory.intrinsic+json": {
              "type": "string"
            }
          },
          "metadata": {},
          "execution_count": 91
        }
      ]
    },
    {
      "cell_type": "code",
      "source": [
        "class Notice:\n",
        "    '''\n",
        "    게시물 클래스\n",
        "    '''\n",
        "    def __init__(self, title, contents):\n",
        "        self.title = title\n",
        "        self.contents = contents\n",
        "\n",
        "    def __str__(self):\n",
        "        return self.title\n",
        "\n",
        "    def __repr__(self):\n",
        "        '''\n",
        "        repe이라는 값은 임의로 만든 값이 아님\n",
        "        정해져 있는 이름\n",
        "        '''\n",
        "        return f'{self.title}, {self.contents}'\n",
        "\n",
        "게시물1 = Notice('파이썬 이렇게 어려운줄 몰랐다!','내가 알던 파이썬이 아니야...')\n",
        "게시물2 = Notice('Django는 이렇게 재미있을 줄 몰랐다!', '파이썬을 잘 못해서 내가 할 수 있을까 생각이 들었는데')\n",
        "\n",
        "\n",
        "print(게시물1)"
      ],
      "metadata": {
        "colab": {
          "base_uri": "https://localhost:8080/"
        },
        "id": "0wYT-22ZfEwT",
        "outputId": "e58880b7-04a4-4c4a-e85d-b197b8b3800f"
      },
      "execution_count": 92,
      "outputs": [
        {
          "output_type": "stream",
          "name": "stdout",
          "text": [
            "파이썬 이렇게 어려운줄 몰랐다!\n"
          ]
        }
      ]
    },
    {
      "cell_type": "code",
      "source": [
        "class Notice:\n",
        "    '''\n",
        "    게시물 클래스\n",
        "    '''\n",
        "    def __init__(self, title, contents):\n",
        "        self.title = title\n",
        "        self.contents = contents\n",
        "\n",
        "    def __str__(self):\n",
        "        return self.title\n",
        "\n",
        "    def __repr__(self):\n",
        "        '''\n",
        "        repe이라는 값은 임의로 만든 값이 아님\n",
        "        정해져 있는 이름\n",
        "        '''\n",
        "        return f'{self.title}, {self.contents}'\n",
        "    def __len__(self):\n",
        "        '''\n",
        "        len이라는 값도 임의로 만든 값이 아님\n",
        "        정해져 있는 이름'''\n",
        "        return f'{self.title}, {self.contents}'\n"
      ],
      "metadata": {
        "id": "ntZ3WsZBkBky"
      },
      "execution_count": null,
      "outputs": []
    },
    {
      "cell_type": "code",
      "source": [
        "# print(게시물1) #로그로 출력할때\n",
        "# 게시물1\n",
        "repr(게시물1) # 그 자료형을 대표하는 문자열 취급"
      ],
      "metadata": {
        "colab": {
          "base_uri": "https://localhost:8080/",
          "height": 35
        },
        "id": "kXe7sp9PgOdj",
        "outputId": "08d2a3a4-8a00-458e-c6bd-1e72a2f4c947"
      },
      "execution_count": 94,
      "outputs": [
        {
          "output_type": "execute_result",
          "data": {
            "text/plain": [
              "'파이썬 이렇게 어려운줄 몰랐다!, 내가 알던 파이썬이 아니야...'"
            ],
            "application/vnd.google.colaboratory.intrinsic+json": {
              "type": "string"
            }
          },
          "metadata": {},
          "execution_count": 94
        }
      ]
    },
    {
      "cell_type": "code",
      "source": [
        "# 현업에서 3.6 이상을 사용하면 참 다행\n",
        "# 예를 들어 서비스를 만든지 조금 오랜딘 기업들 다른기업들은\n",
        "# Django를 2.x, 1.x\n",
        "# 실우에 갈때 2.x 어느정도 알고 있어야 함\n",
        "# match같은 문법은 아직 사용하지 못함 2 ~ 3년뒤에 사용가능"
      ],
      "metadata": {
        "id": "J8t57p3qhkoe"
      },
      "execution_count": null,
      "outputs": []
    },
    {
      "cell_type": "code",
      "source": [
        "type(range(10)) # range라는 타입"
      ],
      "metadata": {
        "id": "yqQMlzoAhCnj"
      },
      "execution_count": null,
      "outputs": []
    },
    {
      "cell_type": "code",
      "source": [
        "# 2.x\n",
        "# range(10) => [0, 1, 2, 3, 4, 5, 6, 7, 8, 9]\n",
        "# type(range(10)) => <type'list'>\n",
        "\n",
        "# 문제: range(100000000) => 메모리를 100000000 갯수 만큼 한 번에 생성을 해야한다\n",
        "# 이것을 개선하자는 얘기가 끊임없이 나온다\n",
        "# 2.x에서 나온 것이 xrange()이다 이것은 특이하게 현재값과 다음값만 가지고 있다\n",
        "# 현재값, 다음값\n",
        "\n",
        "# 3.x에서 range(100000000)\n",
        "# class range로 바뀌게 된 것\n",
        "# for i in range(1000): # 1000개의 메모리를 할당하는 것이 아님\n",
        "#    pass"
      ],
      "metadata": {
        "id": "2nNAmUz4icsD"
      },
      "execution_count": null,
      "outputs": []
    },
    {
      "cell_type": "code",
      "source": [
        "list(range(1000)) # 메모리 큰 부하를 준다!"
      ],
      "metadata": {
        "id": "izlNHIsTjahl"
      },
      "execution_count": null,
      "outputs": []
    },
    {
      "cell_type": "code",
      "source": [
        "sum(range(1000))"
      ],
      "metadata": {
        "colab": {
          "base_uri": "https://localhost:8080/"
        },
        "id": "X4kt6EJNjh-a",
        "outputId": "deb053c5-1238-4535-d8f3-c8b98b79f875"
      },
      "execution_count": 95,
      "outputs": [
        {
          "output_type": "execute_result",
          "data": {
            "text/plain": [
              "499500"
            ]
          },
          "metadata": {},
          "execution_count": 95
        }
      ]
    },
    {
      "cell_type": "code",
      "source": [
        "sum(list(range(1000))) # 메모리가 1000개 할당 되었다가 더해야 하나 비효율적인 코드"
      ],
      "metadata": {
        "colab": {
          "base_uri": "https://localhost:8080/"
        },
        "id": "xfzkaCoRjjo6",
        "outputId": "c9ad4c8c-56e8-4c41-e69c-f27ca4b8cfa9"
      },
      "execution_count": 96,
      "outputs": [
        {
          "output_type": "execute_result",
          "data": {
            "text/plain": [
              "499500"
            ]
          },
          "metadata": {},
          "execution_count": 96
        }
      ]
    },
    {
      "cell_type": "code",
      "source": [
        "values = ['A','B','C','D']\n",
        "print(list(enumerate(values)))\n",
        "print(list(enumerate(values,1))) # 시작값 넣는 것 많이 사용한다 기억할것"
      ],
      "metadata": {
        "colab": {
          "base_uri": "https://localhost:8080/"
        },
        "id": "SIw-J6FakaXd",
        "outputId": "ed320386-1f76-4652-d17f-e5bcdbfc1b4f"
      },
      "execution_count": 98,
      "outputs": [
        {
          "output_type": "stream",
          "name": "stdout",
          "text": [
            "[(0, 'A'), (1, 'B'), (2, 'C'), (3, 'D')]\n",
            "[(1, 'A'), (2, 'B'), (3, 'C'), (4, 'D')]\n"
          ]
        }
      ]
    },
    {
      "cell_type": "code",
      "source": [
        "list(reversed([1,2,3,4,5,]))"
      ],
      "metadata": {
        "colab": {
          "base_uri": "https://localhost:8080/"
        },
        "id": "tw7DQx-dk32m",
        "outputId": "bfac68b5-da71-4b4b-e21d-68f974909740"
      },
      "execution_count": 99,
      "outputs": [
        {
          "output_type": "execute_result",
          "data": {
            "text/plain": [
              "[5, 4, 3, 2, 1]"
            ]
          },
          "metadata": {},
          "execution_count": 99
        }
      ]
    },
    {
      "cell_type": "code",
      "source": [
        "reversed([1,2,3,4,5,])"
      ],
      "metadata": {
        "colab": {
          "base_uri": "https://localhost:8080/"
        },
        "id": "_LGPFHDYk_t7",
        "outputId": "641063d8-6248-4726-8882-a1343038c5dc"
      },
      "execution_count": 100,
      "outputs": [
        {
          "output_type": "execute_result",
          "data": {
            "text/plain": [
              "<list_reverseiterator at 0x7d783093add0>"
            ]
          },
          "metadata": {},
          "execution_count": 100
        }
      ]
    },
    {
      "cell_type": "code",
      "source": [
        "sorted([1,2,3,4,5])\n",
        "# 왜 sorted만 자료형으로 주나\n",
        "# recersed나 map, filter나 이런건 모두 메모리 주소를 가리키는데!?\n",
        "# 정답: (추후애 심화 과정에서 강의) 메모리 효율성 때문\n",
        "# sorted만 비효율 감수하고 사용자가 보기 편한 자료형으로 반환"
      ],
      "metadata": {
        "colab": {
          "base_uri": "https://localhost:8080/"
        },
        "id": "pNhv7GHOlD7i",
        "outputId": "6c25f28b-d03a-4695-9bd2-f8c60273551a"
      },
      "execution_count": 101,
      "outputs": [
        {
          "output_type": "execute_result",
          "data": {
            "text/plain": [
              "[1, 2, 3, 4, 5]"
            ]
          },
          "metadata": {},
          "execution_count": 101
        }
      ]
    },
    {
      "cell_type": "code",
      "source": [
        "sorted((1,2,3,4,5))"
      ],
      "metadata": {
        "colab": {
          "base_uri": "https://localhost:8080/"
        },
        "id": "XG6aSHPJlG_x",
        "outputId": "bc2c3cd3-b67e-43f2-ce76-32c9dafb1151"
      },
      "execution_count": 102,
      "outputs": [
        {
          "output_type": "execute_result",
          "data": {
            "text/plain": [
              "[1, 2, 3, 4, 5]"
            ]
          },
          "metadata": {},
          "execution_count": 102
        }
      ]
    },
    {
      "cell_type": "markdown",
      "source": [
        "# match\n",
        "* 3.10버전에서 나온 문법이기 때문에 현업에서 거의 사용 못한다\n",
        "* 예를 들어 속도가 매우 빨라야 하는 프로젝트를 여러분이 하게 될때 pythin 최신 버전을 사용한다 그러면 match 문법을 사용가능한데 권고하기가 어렵고 match 문법이 동료들이 익숙하지 않기 때문\n",
        "* 2024년에는 중요도가 많이 떨어짐 별 0.5개정도\n",
        "* 2~3년후에는 중요도가 3 ~ 4개정도로 올라갈것으로 보인다"
      ],
      "metadata": {
        "id": "EQRb8bTTloi5"
      }
    },
    {
      "cell_type": "code",
      "source": [
        "# 제가 반대하는 이유\n",
        "# 타 언어에 비해서 불편한 점\n",
        "요일 = 3\n",
        "match 요일:\n",
        "    case 0:\n",
        "        print('일요일')\n",
        "    case 1:\n",
        "        print('월요일')\n",
        "    case 2:\n",
        "        print('화요일')\n",
        "    case 3: # 해당 부분이 비어져 있을때 다른언어에서는 이 문법이 가용가능\n",
        "        print('수요일')\n",
        "    case 4:\n",
        "        print('목요일')\n",
        "    case 5:\n",
        "        print('금요일')\n",
        "    case 6:\n",
        "        print('토요일')"
      ],
      "metadata": {
        "colab": {
          "base_uri": "https://localhost:8080/"
        },
        "id": "ZVNm_i0wn5ii",
        "outputId": "b96d94f0-b22a-473d-c529-15f2441bc57e"
      },
      "execution_count": 103,
      "outputs": [
        {
          "output_type": "stream",
          "name": "stdout",
          "text": [
            "수요일\n"
          ]
        }
      ]
    },
    {
      "cell_type": "code",
      "source": [
        "# 제가 반대하는 이유\n",
        "# 타 언어에 비해서 불편한 점\n",
        "요일 = 4\n",
        "match 요일:\n",
        "    case 0:\n",
        "        print('일요일')\n",
        "    case 1:\n",
        "        print('월요일')\n",
        "    case 2:\n",
        "        print('화요일')\n",
        "    case 3:\n",
        "        print('수요일')\n",
        "    case 4:\n",
        "        print('목요일')\n",
        "    case 5:\n",
        "        print('금요일')\n",
        "    case 6:\n",
        "        print('토요일')\n",
        "    case _:\n",
        "        print('요일없음!')"
      ],
      "metadata": {
        "colab": {
          "base_uri": "https://localhost:8080/"
        },
        "id": "5AZXrsY-n6GS",
        "outputId": "bdf2b21c-b3c0-4d83-e4f2-8b507f1b94fa"
      },
      "execution_count": 109,
      "outputs": [
        {
          "output_type": "stream",
          "name": "stdout",
          "text": [
            "목요일\n"
          ]
        }
      ]
    },
    {
      "cell_type": "code",
      "source": [
        "text = '1'\n",
        "match text:\n",
        "    case '1' | '2':\n",
        "        print('1, 2')\n",
        "    case _:\n",
        "        print('No Match')"
      ],
      "metadata": {
        "colab": {
          "base_uri": "https://localhost:8080/"
        },
        "id": "7Tw9k7ukoUvp",
        "outputId": "fe160598-a200-4cba-d7c3-886550b65d1c"
      },
      "execution_count": 110,
      "outputs": [
        {
          "output_type": "stream",
          "name": "stdout",
          "text": [
            "1, 2\n"
          ]
        }
      ]
    },
    {
      "cell_type": "code",
      "source": [
        "# 이런 코드보다 아래 코드를 많이 만날 것이다\n",
        "def 요일반환(요일):\n",
        "    return {\n",
        "        0:'일요일',\n",
        "        1:'월요일',\n",
        "        2:'화요일',\n",
        "        3:'수요일',\n",
        "    }.get(요일, '요일없음')\n",
        "\n",
        "print(요일반환(2))\n",
        "print(요일반환(100))"
      ],
      "metadata": {
        "colab": {
          "base_uri": "https://localhost:8080/"
        },
        "id": "-6NJ9QThojMz",
        "outputId": "e676f873-ef2f-437c-9bcc-5112988ce1cb"
      },
      "execution_count": 111,
      "outputs": [
        {
          "output_type": "stream",
          "name": "stdout",
          "text": [
            "화요일\n",
            "요일없음\n"
          ]
        }
      ]
    },
    {
      "cell_type": "markdown",
      "source": [
        "# class\n",
        "* class 이론을 여러권 + ChatGPT + 유튜브를 보시는 것 보다는\n",
        "* 여러개를 만들어보세요. ChatGPT에게 여러개의 클래스를 추천받고, ChatGPT에게 짜달라고 해서 그것을 타이핑 해보는게 많은 도움이 된다\n",
        "* 결론: 많은 것을 만들어 봐야 한다"
      ],
      "metadata": {
        "id": "pEgECKan6m32"
      }
    },
    {
      "cell_type": "markdown",
      "source": [
        "* class 클래스이름 => 인스턴스\n",
        "* class Blog => 게시물1, 게시물2, 게시물3...\n",
        "* class Dot => 점1, 점2, 점3...\n",
        "* class Matrix => 행렬1, 행렬2, 행렬3...\n",
        "* class Use => 유저1, 유저2, 유저3...\n",
        "* class cart(장바구니) => Cart1, Cart2, Cart3...\n",
        "* class Commnet(댓글) => 댓글1, 댓글2, 댓글3...\n",
        "* class Character => Licar(주인공), Lion(빌런), Mpb1(몬스터)\n",
        "* class Prouduct => 상품1, 상품2, 상품3\n",
        "* class class => 강의1, 강의2, 강의3\n",
        "* class Teacher => 강사1, 강사2, 강사3"
      ],
      "metadata": {
        "id": "wtE45ErL8ze_"
      }
    },
    {
      "cell_type": "code",
      "source": [
        "# 0번: 기초 상식\n",
        "# 0.0 __init__ 매직메서드는 없어도 되나?\n",
        "# 실제로 이런 코드를 짤 일이 생김\n",
        "class 우편번호:\n",
        "    제주도 = 100\n",
        "    경기도 = 101\n",
        "    전라북도 = 102\n",
        "    전라남도 = 103\n",
        "\n",
        "우편번호.제주도\n",
        "# 왜 이걸 딕셔너리로 만들지 않고 class로 만들었을까?\n",
        "# 재사용성 + 확장성\n",
        "\n",
        "# 아래와 같이 저장한다고 해서 문제가 생기는가?\n",
        "# 데이터의 양(속도)\n",
        "\n",
        "# 제목: python 기초\n",
        "# 저자: 이호준\n",
        "\n",
        "{'제목': 'python 기초', '저자': '이호준'}\n",
        "\n",
        "# 제목: html 기초\n",
        "# 저자: 한재현\n",
        "\n",
        "{'제목': 'html 기초', '저자': '한재현'}\n",
        "\n",
        "[{'제목': 'python 기초', '저자': '이호준'},{'제목': 'html 기초', '저자': '한재현'}]"
      ],
      "metadata": {
        "colab": {
          "base_uri": "https://localhost:8080/"
        },
        "id": "dPXfJORj82G9",
        "outputId": "e3bdadb2-dd64-4d86-abd4-dbdca242c724"
      },
      "execution_count": 121,
      "outputs": [
        {
          "output_type": "execute_result",
          "data": {
            "text/plain": [
              "[{'제목': 'python 기초', '저자': '이호준'}, {'제목': 'html 기초', '저자': '한재현'}]"
            ]
          },
          "metadata": {},
          "execution_count": 121
        }
      ]
    },
    {
      "cell_type": "code",
      "source": [
        "# 1번\n",
        "# 클래스를 설계하실때\n",
        "# 첫 번째로 - 모든 인스턴스에서 공유해야랗 변수(클래스 변수)나 메서드 설정\n",
        "# 두 번째로 - 인스턴스 고유의 영역\n",
        "# in_crerate_at(스네이크 표기법) - 파이썬 권고사항\n",
        "# inCreatedAt(카멜 표기법) - 파이썬에서는 잘 사용하지 않음(javaScript에서는 많이 사용)\n",
        "# inCrearedAt(파스칼 표기법) - 파이썬 클래스\n",
        "class Post:\n",
        "    def __init__(\n",
        "            self,\n",
        "            in_title='',\n",
        "            in_contents='',\n",
        "            in_count='',\n",
        "            in_crerated_at='',\n",
        "            in_updated_at='',\n",
        "            in_author=''\n",
        "            ):\n",
        "        self.title = in_title\n",
        "        self.contents = in_contents\n",
        "        self.created_at = in_crerated_at\n",
        "        self.count = in_count\n",
        "        self.updated_at = in_updated_at\n",
        "        self.author = in_author\n",
        "\n",
        "        def __add__(self):\n",
        "            pass\n",
        "        def __len__(self):\n",
        "            pass\n",
        "        def __str__(self):\n",
        "            pass\n",
        "        def update(self):\n",
        "            pass\n",
        "        def delete(self):\n",
        "            pass"
      ],
      "metadata": {
        "id": "RQuAnPSwAwMP"
      },
      "execution_count": 118,
      "outputs": []
    },
    {
      "cell_type": "code",
      "source": [
        "# 1번\n",
        "# 클래스를 설계하실 때\n",
        "# 첫 번째로 - 모든 인스턴스에서 공유해야할 변수(클래스 변수)나 메서드 설정\n",
        "# 두 번째로 - 인스턴스 고유의 영역\n",
        "# in_crerate_at(스네이크 표기법) - 파이썬 권고사항\n",
        "# inCreatedAt(카멜 표기법) - 파이썬에서는 잘 사용하지 않습니다.(JavaScript에서는 많이 사용합니다.)\n",
        "# InCreatedAt(파스칼 표기법) - 파이썬 클래스\n",
        "\n",
        "class Post:\n",
        "    def __init__(\n",
        "            self,\n",
        "            in_title='',\n",
        "            in_contents='',\n",
        "            in_count=0,\n",
        "            in_crerate_at='',\n",
        "            in_updated_at='',\n",
        "            in_author=''\n",
        "        ):\n",
        "        self.title = in_title\n",
        "        self.contents = in_contents\n",
        "        self.count = in_count\n",
        "        self.created_at = in_crerate_at\n",
        "        self.updated_at = in_updated_at\n",
        "        self.author = in_author\n",
        "\n",
        "    def __str__(self):\n",
        "        return self.title\n",
        "\n",
        "    def __repr__(self):\n",
        "        return self.title\n",
        "\n",
        "    def __add__(self, next):\n",
        "        #  return self.count + next.count\n",
        "        return self.title + next.title\n",
        "\n",
        "    def __len__(self):\n",
        "        pass\n",
        "\n",
        "    def update(self, in_contents):\n",
        "        '''\n",
        "        in_ 실무에서 사용하는 접두사가 아님\n",
        "        '''\n",
        "        self.contents = in_contents\n",
        "        return '게시물 수정에 성공했습니다! 200'\n",
        "\n",
        "    def __eq__(self, next):\n",
        "         return self.title == next.title\n",
        "\n",
        "    def delete(self):\n",
        "        pass\n",
        "\n",
        "게시물1 = Post(\n",
        "    '파이썬은 참 깊군요!',\n",
        "    '오늘은 파이썬 클래스를 배웠는데 너무 어렵기도 하고, 신기했습니다.',\n",
        "    0,\n",
        "    '2024-01-11',\n",
        "    '2024-01-11',\n",
        "    '이호준'\n",
        ")\n",
        "\n",
        "게시물2 = Post('2', '22', 0, '2024-01-11', '2024-01-11', '이호준')\n",
        "\n",
        "print(게시물1)\n",
        "print(게시물1.title)\n",
        "print(게시물1 + 게시물2) # +연산이 나오면 앞(게시물 1)의 __add__가 실행됩니다.\n",
        "게시물1.update('hello world')\n",
        "게시물1.contents\n",
        "\n",
        "게시물1 == 게시물2"
      ],
      "metadata": {
        "id": "UHyM8ZeHDqcz"
      },
      "execution_count": null,
      "outputs": []
    },
    {
      "cell_type": "code",
      "source": [
        "l = [10,20,30]\n",
        "len(dir(l))"
      ],
      "metadata": {
        "colab": {
          "base_uri": "https://localhost:8080/"
        },
        "id": "XlpQwC4WG8q8",
        "outputId": "ba415146-82e2-43cd-97c4-10f5b9732971"
      },
      "execution_count": 130,
      "outputs": [
        {
          "output_type": "execute_result",
          "data": {
            "text/plain": [
              "47"
            ]
          },
          "metadata": {},
          "execution_count": 130
        }
      ]
    },
    {
      "cell_type": "code",
      "source": [
        "len(dir(게시물2))"
      ],
      "metadata": {
        "colab": {
          "base_uri": "https://localhost:8080/"
        },
        "id": "8jC0fmWoLTla",
        "outputId": "f8cde142-242e-46fa-ad32-5192bacf455d"
      },
      "execution_count": 133,
      "outputs": [
        {
          "output_type": "execute_result",
          "data": {
            "text/plain": [
              "36"
            ]
          },
          "metadata": {},
          "execution_count": 133
        }
      ]
    },
    {
      "cell_type": "markdown",
      "source": [
        "# Dot"
      ],
      "metadata": {
        "id": "JMlJHb2dLcsj"
      }
    },
    {
      "cell_type": "code",
      "source": [
        "class Dot:\n",
        "    def __init__(self,x,y):\n",
        "        self.x = x\n",
        "        self.y = y\n",
        "\n",
        "    def __add__(self, next):\n",
        "        return (self.x + next.x, self.y + next.y)\n",
        "\n",
        "    def __mul__(self, next):\n",
        "        return (self.x * next.x, self.y * next.y)\n",
        "\n",
        "    def distance(self, next):\n",
        "        dx = self.x - next.x\n",
        "        dy = self.y - next.y\n",
        "        return (dx**2 + dy**2) ** 0.5 # root은 ** 0.5로 많이 사용한다\n",
        "\n",
        "dot1 = Dot(20, 10)\n",
        "dot2 = Dot(30, 5)\n",
        "\n",
        "dot1 + dot2\n",
        "dot1 * dot2\n",
        "dot1.distance(dot2)"
      ],
      "metadata": {
        "colab": {
          "base_uri": "https://localhost:8080/"
        },
        "id": "-Vb3g-c_NomY",
        "outputId": "b3ace56a-7ab4-4501-9bdc-694b007bbbe3"
      },
      "execution_count": 142,
      "outputs": [
        {
          "output_type": "execute_result",
          "data": {
            "text/plain": [
              "11.180339887498949"
            ]
          },
          "metadata": {},
          "execution_count": 142
        }
      ]
    },
    {
      "cell_type": "code",
      "source": [
        "class Dot:\n",
        "    def __init__(self, x, y):\n",
        "        self.x = x\n",
        "        self.y = y\n",
        "\n",
        "    def __add__(self, next):\n",
        "        return (self.x + next.x, self.y + next.y)\n",
        "\n",
        "    def __mul__(self, next):\n",
        "        return (self.x * next.x, self.y * next.y)\n",
        "\n",
        "    def distance(self, next):\n",
        "        dx = self.x - next.x\n",
        "        dy = self.y - next.y\n",
        "        return (dx**2 + dy**2) ** 0.5 # root은 ** 0.5로 많이 사용합니다.\n",
        "\n",
        "dot1 = Dot(20, 10)\n",
        "dot2 = Dot(30, 5)\n",
        "\n",
        "dot1 + dot2\n",
        "dot1 * dot2\n",
        "dot1.distance(dot2)"
      ],
      "metadata": {
        "colab": {
          "base_uri": "https://localhost:8080/"
        },
        "id": "2Bxp7yzbPmja",
        "outputId": "8ca5eb1d-3595-4780-99e0-1ac121241385"
      },
      "execution_count": 141,
      "outputs": [
        {
          "output_type": "execute_result",
          "data": {
            "text/plain": [
              "11.180339887498949"
            ]
          },
          "metadata": {},
          "execution_count": 141
        }
      ]
    },
    {
      "cell_type": "markdown",
      "source": [
        "# character"
      ],
      "metadata": {
        "id": "8dzxZ-CFQK0w"
      }
    },
    {
      "cell_type": "code",
      "source": [
        "class Character:\n",
        "    def __init__(self):\n",
        "        self.name = name\n",
        "        self.skill = skill\n",
        "        self.hp = hp\n",
        "        self.mp = mp\n",
        "        self.power = power\n",
        "        self.x = x\n",
        "\n",
        "    def move(self):\n",
        "        self.x += 100\n",
        "\n",
        "    def attact(self, next):\n",
        "        next.hp -= self.power\n",
        "\n",
        "scene, x, y, texture, animkey, initHp, dropRate, move"
      ],
      "metadata": {
        "id": "Y_87bzZhQP04"
      },
      "execution_count": null,
      "outputs": []
    }
  ]
}