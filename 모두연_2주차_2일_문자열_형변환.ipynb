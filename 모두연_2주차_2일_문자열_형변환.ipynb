{
  "nbformat": 4,
  "nbformat_minor": 0,
  "metadata": {
    "colab": {
      "provenance": [],
      "authorship_tag": "ABX9TyPZkt+hWP1KbldPzhYrlq7+",
      "include_colab_link": true
    },
    "kernelspec": {
      "name": "python3",
      "display_name": "Python 3"
    },
    "language_info": {
      "name": "python"
    }
  },
  "cells": [
    {
      "cell_type": "markdown",
      "metadata": {
        "id": "view-in-github",
        "colab_type": "text"
      },
      "source": [
        "<a href=\"https://colab.research.google.com/github/Masterdual/orm2/blob/main/%EB%AA%A8%EB%91%90%EC%97%B0_2%EC%A3%BC%EC%B0%A8_2%EC%9D%BC_%EB%AC%B8%EC%9E%90%EC%97%B4_%ED%98%95%EB%B3%80%ED%99%98.ipynb\" target=\"_parent\"><img src=\"https://colab.research.google.com/assets/colab-badge.svg\" alt=\"Open In Colab\"/></a>"
      ]
    },
    {
      "cell_type": "markdown",
      "source": [
        "#1. 문자열"
      ],
      "metadata": {
        "id": "KUp6x0EawxTB"
      }
    },
    {
      "cell_type": "code",
      "source": [
        "# 1.1 문자열 기초\n",
        "\n",
        "x = 'hello'\n",
        "y = \"python\""
      ],
      "metadata": {
        "id": "IzrDp3BmyM4s"
      },
      "execution_count": 3,
      "outputs": []
    },
    {
      "cell_type": "code",
      "source": [
        "print(x,y)"
      ],
      "metadata": {
        "colab": {
          "base_uri": "https://localhost:8080/"
        },
        "id": "SoLQenEUyVcQ",
        "outputId": "0d9ad8c6-3ebf-4b2a-ac28-4be1c2a7304c"
      },
      "execution_count": 4,
      "outputs": [
        {
          "output_type": "stream",
          "name": "stdout",
          "text": [
            "hello python\n"
          ]
        }
      ]
    },
    {
      "cell_type": "code",
      "source": [
        "print(type(x),type(y))"
      ],
      "metadata": {
        "colab": {
          "base_uri": "https://localhost:8080/"
        },
        "id": "Rj8xLZfpydSQ",
        "outputId": "c37f8301-426f-43db-e79b-ed0e331b0693"
      },
      "execution_count": 5,
      "outputs": [
        {
          "output_type": "stream",
          "name": "stdout",
          "text": [
            "<class 'str'> <class 'str'>\n"
          ]
        }
      ]
    },
    {
      "cell_type": "code",
      "source": [
        "i = '''안녕하세요\n",
        "저는 모두연의 강의를 듣는 학생입니다\n",
        "파이썬을 열심히 배워서 여러 코드를 제작 하고 싶습니다\n",
        "'''\n",
        "j = \"\"\" 안녕하세요\n",
        "저는 모두연의 강의를 듣는 학생입니다\n",
        "파이썬을 열심히 배워서 여러 코드를 제작 하고 싶습니다\n",
        "\"\"\""
      ],
      "metadata": {
        "id": "N_XHSzdbyhVh"
      },
      "execution_count": 6,
      "outputs": []
    },
    {
      "cell_type": "code",
      "source": [
        "i"
      ],
      "metadata": {
        "colab": {
          "base_uri": "https://localhost:8080/",
          "height": 35
        },
        "id": "SXsHRFUOy36j",
        "outputId": "e8f88ad0-c127-4b96-ae72-4a9965fdf8ad"
      },
      "execution_count": 7,
      "outputs": [
        {
          "output_type": "execute_result",
          "data": {
            "text/plain": [
              "'안녕하세요\\n저는 모두연의 강의를 듣는 학생입니다\\n파이썬을 열심히 배워서 여러 코드를 제작 하고 싶습니다\\n'"
            ],
            "application/vnd.google.colaboratory.intrinsic+json": {
              "type": "string"
            }
          },
          "metadata": {},
          "execution_count": 7
        }
      ]
    },
    {
      "cell_type": "code",
      "source": [
        "print(i)"
      ],
      "metadata": {
        "colab": {
          "base_uri": "https://localhost:8080/"
        },
        "id": "S8aDFBOby6Ln",
        "outputId": "7e7f17b2-3535-4b31-a61e-4b9dd0ec97d3"
      },
      "execution_count": 9,
      "outputs": [
        {
          "output_type": "stream",
          "name": "stdout",
          "text": [
            "안녕하세요\n",
            "저는 모두연의 강의를 듣는 학생입니다\n",
            "파이썬을 열심히 배워서 여러 코드를 제작 하고 싶습니다\n",
            "\n"
          ]
        }
      ]
    },
    {
      "cell_type": "code",
      "source": [
        "print(j)"
      ],
      "metadata": {
        "colab": {
          "base_uri": "https://localhost:8080/"
        },
        "id": "7xodPMt0y86w",
        "outputId": "26b5ddb0-1305-44d4-86ca-67540a9020b8"
      },
      "execution_count": 10,
      "outputs": [
        {
          "output_type": "stream",
          "name": "stdout",
          "text": [
            " 안녕하세요\n",
            "저는 모두연의 강의를 듣는 학생입니다\n",
            "파이썬을 열심히 배워서 여러 코드를 제작 하고 싶습니다\n",
            "\n"
          ]
        }
      ]
    },
    {
      "cell_type": "code",
      "source": [
        "# 1.2 문자열 덧셈 뻴셈\n",
        "\n",
        "# 문자열의 덧셈\n",
        "\n",
        "x = 'hello'\n",
        "y = 'world'\n",
        "\n",
        "print(x + y)\n",
        "\n",
        "# 문자열의 곱셉\n",
        "\n",
        "x = 'hello'\n",
        "print(x * 3)"
      ],
      "metadata": {
        "colab": {
          "base_uri": "https://localhost:8080/"
        },
        "id": "wKMDQianzBP4",
        "outputId": "5ae1f97d-7a2a-49bb-e8c6-89ea26ea1041"
      },
      "execution_count": 12,
      "outputs": [
        {
          "output_type": "stream",
          "name": "stdout",
          "text": [
            "helloworld\n",
            "hellohellohello\n"
          ]
        }
      ]
    },
    {
      "cell_type": "code",
      "source": [
        "# 1.3 문자열 인덱싱\n",
        "    #013 3 456\n",
        "s = '위니브 월드!'\n",
        "print(s[0]) # 출력 : '위'\n",
        "print(s[-1]) # 출력 : '!'\n",
        "print(s[6]) # 범위를 벋어나면 에러가 뜬다 지금 문자열은 7이상은 에러가 발생 , 출력 : '!'"
      ],
      "metadata": {
        "colab": {
          "base_uri": "https://localhost:8080/"
        },
        "id": "gVHk7TLc2jGe",
        "outputId": "931e8b59-4cc2-4291-869f-ebdf9979fca0"
      },
      "execution_count": 18,
      "outputs": [
        {
          "output_type": "stream",
          "name": "stdout",
          "text": [
            "위\n",
            "!\n",
            "!\n"
          ]
        }
      ]
    },
    {
      "cell_type": "code",
      "source": [
        "# 1.4 문자열 슬라이싱\n",
        "\n",
        "s = '위니브 월드 외곽'\n",
        "\n",
        "print(s[0:3]) #원하는 부분을 가져오고 싶으면 끝부분 지정 모르면 생략가능\n",
        "print(s[0:9:4]) # 다른 일부분만 끊어서 가져 올수도 있다 4칸씩 출력"
      ],
      "metadata": {
        "colab": {
          "base_uri": "https://localhost:8080/"
        },
        "id": "oX21rM_D25BO",
        "outputId": "36487fb4-f60d-484a-c946-d20cd0334e72"
      },
      "execution_count": 45,
      "outputs": [
        {
          "output_type": "stream",
          "name": "stdout",
          "text": [
            "위니브\n",
            "위월곽\n"
          ]
        }
      ]
    },
    {
      "cell_type": "code",
      "source": [
        "s = 'weniv CEO licat'\n",
        "# 시작점을 설정하고 끝까지 출력\n",
        "print(s[6:]) # 출력 : CEO licat\n",
        "# 전체 출력\n",
        "print(s[:]) # 출력 : weniv CEO licat\n",
        "# 거꾸로 출력\n",
        "print(s[::-1]) # 출력 : tacil OEC tacli\n",
        "# 2칸씩 출력\n",
        "print(s[::2]) # 출력 : wnvCOlct"
      ],
      "metadata": {
        "colab": {
          "base_uri": "https://localhost:8080/"
        },
        "id": "KDIfyBEK4VV-",
        "outputId": "4d624564-e5da-4029-ed5a-9fe6c0d1eeb4"
      },
      "execution_count": 49,
      "outputs": [
        {
          "output_type": "stream",
          "name": "stdout",
          "text": [
            "CEO licat\n",
            "weniv CEO licat\n",
            "tacil OEC vinew\n",
            "wnvCOlct\n"
          ]
        }
      ]
    },
    {
      "cell_type": "code",
      "source": [
        "s = 'weniv CEO licat'\n",
        "s[10:100] #출력 : licat"
      ],
      "metadata": {
        "colab": {
          "base_uri": "https://localhost:8080/",
          "height": 35
        },
        "id": "n6Q-5eLY6Pre",
        "outputId": "863bfd55-26bb-4bcd-870d-95c63fb9d5dc"
      },
      "execution_count": 50,
      "outputs": [
        {
          "output_type": "execute_result",
          "data": {
            "text/plain": [
              "'licat'"
            ],
            "application/vnd.google.colaboratory.intrinsic+json": {
              "type": "string"
            }
          },
          "metadata": {},
          "execution_count": 50
        }
      ]
    },
    {
      "cell_type": "code",
      "source": [
        "# 1.4 슬라이스 실습\n",
        "s = 'weniv_licat.png'\n",
        "# 1. 출력 weniv_licat 만 나오게\n",
        "print(s[0:11])\n",
        "# 2. 출력 png만 나오게\n",
        "print(s[-3:])"
      ],
      "metadata": {
        "colab": {
          "base_uri": "https://localhost:8080/"
        },
        "id": "kFNES--H6d8u",
        "outputId": "44e64d86-5266-42bd-8f84-25e5c9ccb18b"
      },
      "execution_count": 61,
      "outputs": [
        {
          "output_type": "stream",
          "name": "stdout",
          "text": [
            "weniv_licat\n",
            "png\n"
          ]
        }
      ]
    },
    {
      "cell_type": "code",
      "source": [
        "# 1.5 메서드 1 : 대문자 소문자\n",
        "\n",
        "s = 'weniv CEO licat'\n",
        "print(s.lower())\n",
        "print(s.upper())"
      ],
      "metadata": {
        "colab": {
          "base_uri": "https://localhost:8080/"
        },
        "id": "mJMrZTlb75KF",
        "outputId": "6bb6dc40-5242-46da-b69a-415c57accc64"
      },
      "execution_count": 73,
      "outputs": [
        {
          "output_type": "stream",
          "name": "stdout",
          "text": [
            "weniv ceo licat\n",
            "WENIV CEO LICAT\n"
          ]
        }
      ]
    },
    {
      "cell_type": "code",
      "source": [
        "s.index('CEO') # 해당하는 위치의 시작점"
      ],
      "metadata": {
        "colab": {
          "base_uri": "https://localhost:8080/"
        },
        "id": "920K-1cU9Rw9",
        "outputId": "67eef0f8-7fbf-4fb2-e9b0-38ba76a1b7c4"
      },
      "execution_count": 74,
      "outputs": [
        {
          "output_type": "execute_result",
          "data": {
            "text/plain": [
              "6"
            ]
          },
          "metadata": {},
          "execution_count": 74
        }
      ]
    },
    {
      "cell_type": "code",
      "source": [
        "s.find('CTO') # 문자열을 찾아주는 method\n",
        "# find는 안나오면 -1 index는 error가 뜬다"
      ],
      "metadata": {
        "colab": {
          "base_uri": "https://localhost:8080/"
        },
        "id": "knKq-eYv9XPd",
        "outputId": "d0448485-3437-47c9-b81f-d82314b76b39"
      },
      "execution_count": 76,
      "outputs": [
        {
          "output_type": "execute_result",
          "data": {
            "text/plain": [
              "-1"
            ]
          },
          "metadata": {},
          "execution_count": 76
        }
      ]
    },
    {
      "cell_type": "code",
      "source": [
        "#1.8 매서드 3 : count\n",
        "\n",
        "s = 'weniv CEO licat'\n",
        "s.count('CEO licat') #문자열이나 숫자를 셀 떄 사용\n",
        "\n",
        "# 공백\n",
        "# 대문자/고문자 구분\n",
        "# 일치만하면 다 찾아줌"
      ],
      "metadata": {
        "colab": {
          "base_uri": "https://localhost:8080/"
        },
        "id": "TwzfH-Tu9dDd",
        "outputId": "b371d803-b809-4808-b222-d2f4e4fb53ce"
      },
      "execution_count": 77,
      "outputs": [
        {
          "output_type": "execute_result",
          "data": {
            "text/plain": [
              "1"
            ]
          },
          "metadata": {},
          "execution_count": 77
        }
      ]
    },
    {
      "cell_type": "code",
      "source": [
        "# 1.9 매서드 4 : strip / excel - trim()\n",
        "# strip 함수를 너무 신뢰하지 말것\n",
        "s = '   weniv CEO licat   '\n",
        "s.strip() #양쪽 공백을 제거하는 method"
      ],
      "metadata": {
        "colab": {
          "base_uri": "https://localhost:8080/",
          "height": 35
        },
        "id": "y2pBxHol-B-I",
        "outputId": "edb16818-963b-4741-eaf7-42085597e8fe"
      },
      "execution_count": 79,
      "outputs": [
        {
          "output_type": "execute_result",
          "data": {
            "text/plain": [
              "'weniv CEO licat'"
            ],
            "application/vnd.google.colaboratory.intrinsic+json": {
              "type": "string"
            }
          },
          "metadata": {},
          "execution_count": 79
        }
      ]
    },
    {
      "cell_type": "code",
      "source": [
        "'       ,!!  hello world    '.strip(' ,!')\n",
        "#양쪽의 공백과 ',!'을 제거해주는 method"
      ],
      "metadata": {
        "colab": {
          "base_uri": "https://localhost:8080/",
          "height": 35
        },
        "id": "pEKjhwy5-edm",
        "outputId": "619b14c0-2e52-456f-d8f2-5cb74767aa04"
      },
      "execution_count": 80,
      "outputs": [
        {
          "output_type": "execute_result",
          "data": {
            "text/plain": [
              "'hello world'"
            ],
            "application/vnd.google.colaboratory.intrinsic+json": {
              "type": "string"
            }
          },
          "metadata": {},
          "execution_count": 80
        }
      ]
    },
    {
      "cell_type": "code",
      "source": [
        "# 1. 10 매서드 5 : repalce\n",
        "s = 'wneiv CEO licat'\n",
        "s.replace('ceo','CTO') # 대소문자를 구별하기에 정확히 입력해야 한다\n"
      ],
      "metadata": {
        "colab": {
          "base_uri": "https://localhost:8080/",
          "height": 35
        },
        "id": "97-X2VMF-2eN",
        "outputId": "3a2a7868-29b7-4e64-fbf0-4344aabf5931"
      },
      "execution_count": 84,
      "outputs": [
        {
          "output_type": "execute_result",
          "data": {
            "text/plain": [
              "'wneiv CEO licat'"
            ],
            "application/vnd.google.colaboratory.intrinsic+json": {
              "type": "string"
            }
          },
          "metadata": {},
          "execution_count": 84
        }
      ]
    },
    {
      "cell_type": "code",
      "source": [
        "s = 'wneiv CEO licat'\n",
        "s.replace('i','I') # 문자열 내에서 모든 i를 I로 대처할 떄 사용하는 method"
      ],
      "metadata": {
        "colab": {
          "base_uri": "https://localhost:8080/",
          "height": 35
        },
        "id": "Fk9S8AsX_Wvm",
        "outputId": "aa21d59a-3744-4184-af58-f387d2fadab2"
      },
      "execution_count": 86,
      "outputs": [
        {
          "output_type": "execute_result",
          "data": {
            "text/plain": [
              "'wneIv CEO lIcat'"
            ],
            "application/vnd.google.colaboratory.intrinsic+json": {
              "type": "string"
            }
          },
          "metadata": {},
          "execution_count": 86
        }
      ]
    },
    {
      "cell_type": "code",
      "source": [
        "s = 'wneiv CEO licat'\n",
        "ss = s.replace('i','I')\n",
        "ss, s # 출력: ('wneIv CEO lIcat', 'wneiv CEO licat')"
      ],
      "metadata": {
        "colab": {
          "base_uri": "https://localhost:8080/"
        },
        "id": "bxSSm-9I_0xE",
        "outputId": "668f6e04-c419-43ee-c5fb-7d6976d5501b"
      },
      "execution_count": 88,
      "outputs": [
        {
          "output_type": "execute_result",
          "data": {
            "text/plain": [
              "('wneIv CEO lIcat', 'wneiv CEO licat')"
            ]
          },
          "metadata": {},
          "execution_count": 88
        }
      ]
    },
    {
      "cell_type": "code",
      "source": [
        "# 1.11 매서드 split()\n",
        "\n",
        "s = 'wneiv CEO licat'\n",
        "s.split() #공백을 기준으로 문자열 나누기"
      ],
      "metadata": {
        "colab": {
          "base_uri": "https://localhost:8080/"
        },
        "id": "7YNlsAz7DyHs",
        "outputId": "2b197176-b68a-476e-c514-5493f293cbb3"
      },
      "execution_count": 91,
      "outputs": [
        {
          "output_type": "execute_result",
          "data": {
            "text/plain": [
              "['wneiv', 'CEO', 'licat']"
            ]
          },
          "metadata": {},
          "execution_count": 91
        }
      ]
    },
    {
      "cell_type": "code",
      "source": [
        "s = 'wneiv-CEO-licat'\n",
        "print(s.split('-')) # 입력시 해당 기호 기준으로 나눈다\n",
        "print(s.split()) # 공백 기준으로 하기에 공백없어서 그대로 나온다"
      ],
      "metadata": {
        "colab": {
          "base_uri": "https://localhost:8080/"
        },
        "id": "6rsu7k-VES6t",
        "outputId": "c391ec24-f8e9-418a-cc76-f66df7e3318d"
      },
      "execution_count": 96,
      "outputs": [
        {
          "output_type": "stream",
          "name": "stdout",
          "text": [
            "['wneiv', 'CEO', 'licat']\n",
            "['wneiv-CEO-licat']\n"
          ]
        }
      ]
    },
    {
      "cell_type": "code",
      "source": [
        "s = ['wneiv', 'CEO', 'licat']\n",
        "print('-'.join(s)) # 리스트를 하나의 문자열로 합치기\n",
        "print(' '.join(s)) # 공백 입력시 띄어쓰기 한 상태로 문자열이 합쳐진다"
      ],
      "metadata": {
        "colab": {
          "base_uri": "https://localhost:8080/"
        },
        "id": "GJg91HOmEkVE",
        "outputId": "9f745bd3-2fad-4cd1-fe9d-764b21d46004"
      },
      "execution_count": 100,
      "outputs": [
        {
          "output_type": "stream",
          "name": "stdout",
          "text": [
            "wneiv-CEO-licat\n",
            "wneiv CEO licat\n"
          ]
        }
      ]
    },
    {
      "cell_type": "code",
      "source": [
        "name = input('이름을 입력하라')\n",
        "age = input('나이를 입력하라')\n",
        "print('나의 이름은 {}이고 나이는 {}살입니다'.format(name,age))"
      ],
      "metadata": {
        "colab": {
          "base_uri": "https://localhost:8080/"
        },
        "id": "E6_k9zxPE3bV",
        "outputId": "b4081100-d7dc-40bc-c3a2-177bba872800"
      },
      "execution_count": 102,
      "outputs": [
        {
          "output_type": "stream",
          "name": "stdout",
          "text": [
            "이름을 입력하라sasao\n",
            "나이를 입력하라24\n",
            "나의 이름은 sasao이고 나이는 24살입니다\n"
          ]
        }
      ]
    },
    {
      "cell_type": "code",
      "source": [
        "# 1.12 isdigit / isalpha\n",
        "print('abcd1234'.isalpha()) # 출력: False\n",
        "print('안녕하세요'.isalpha()) # 출력: True\n",
        "print('hello'.isalpha()) # 출력: True\n",
        "print('hello world'.isalpha()) # 출력: False"
      ],
      "metadata": {
        "colab": {
          "base_uri": "https://localhost:8080/"
        },
        "id": "eR5slQl7IMcG",
        "outputId": "c2a5204a-6fda-4331-c6e5-303ebe836979"
      },
      "execution_count": 105,
      "outputs": [
        {
          "output_type": "stream",
          "name": "stdout",
          "text": [
            "False\n",
            "True\n",
            "True\n",
            "False\n"
          ]
        }
      ]
    },
    {
      "cell_type": "code",
      "source": [
        "# 1.13 rjust / ljust\n",
        "s = 'licat' # 5글자 - 10글자를 채워야하면 5글자가 공백! -> -으로 채우는\n",
        "s.rjust(10,'-') #문자열의 지정한 길이로 맞추고, 왼쪽을 '-'로 채우는 method"
      ],
      "metadata": {
        "colab": {
          "base_uri": "https://localhost:8080/",
          "height": 35
        },
        "id": "sfOqe4I7JDzT",
        "outputId": "10d76022-e3ec-42d5-f1c4-34a8c677b648"
      },
      "execution_count": 111,
      "outputs": [
        {
          "output_type": "execute_result",
          "data": {
            "text/plain": [
              "'-----licat'"
            ],
            "application/vnd.google.colaboratory.intrinsic+json": {
              "type": "string"
            }
          },
          "metadata": {},
          "execution_count": 111
        }
      ]
    },
    {
      "cell_type": "code",
      "source": [
        "s = 'licat' # 5글자 - 10글자를 채워야하면 5글자가 공백! -> -으로 채우는\n",
        "s.ljust(10,'-') #문자열의 지정한 길이로 맞추고, 오른쪽을 '-'로 채우는 method"
      ],
      "metadata": {
        "colab": {
          "base_uri": "https://localhost:8080/",
          "height": 35
        },
        "id": "g1xByK6sJTfb",
        "outputId": "aa24e32f-c0ac-4576-af38-383e528b9fd9"
      },
      "execution_count": 112,
      "outputs": [
        {
          "output_type": "execute_result",
          "data": {
            "text/plain": [
              "'licat-----'"
            ],
            "application/vnd.google.colaboratory.intrinsic+json": {
              "type": "string"
            }
          },
          "metadata": {},
          "execution_count": 112
        }
      ]
    },
    {
      "cell_type": "code",
      "source": [
        "s = '458934-1'\n",
        "s.ljust(14, '*')"
      ],
      "metadata": {
        "colab": {
          "base_uri": "https://localhost:8080/",
          "height": 35
        },
        "id": "yyunpd8CKHx7",
        "outputId": "b39d2825-f8e6-4329-c13d-95b82604bca0"
      },
      "execution_count": 114,
      "outputs": [
        {
          "output_type": "execute_result",
          "data": {
            "text/plain": [
              "'458934-1******'"
            ],
            "application/vnd.google.colaboratory.intrinsic+json": {
              "type": "string"
            }
          },
          "metadata": {},
          "execution_count": 114
        }
      ]
    },
    {
      "cell_type": "code",
      "source": [
        "s = 'licat'\n",
        "s.center(14, \"-\") # 짝이 맞을경우 양쪽 안 맞을 경우 오른쪽부터 채운다"
      ],
      "metadata": {
        "colab": {
          "base_uri": "https://localhost:8080/",
          "height": 35
        },
        "id": "ssOZhE1iMbdc",
        "outputId": "d9447a4d-5009-4b73-9c9e-8cc26ccf03c3"
      },
      "execution_count": 116,
      "outputs": [
        {
          "output_type": "execute_result",
          "data": {
            "text/plain": [
              "'----licat-----'"
            ],
            "application/vnd.google.colaboratory.intrinsic+json": {
              "type": "string"
            }
          },
          "metadata": {},
          "execution_count": 116
        }
      ]
    },
    {
      "cell_type": "code",
      "source": [
        "# 1. 14 zfill\n",
        "x = '42'\n",
        "result = x.zfill(5)\n",
        "print(result) # 00042"
      ],
      "metadata": {
        "colab": {
          "base_uri": "https://localhost:8080/"
        },
        "id": "ol0swYbnMg1a",
        "outputId": "c67dbf00-4f18-48ad-999c-c986e8c0fc68"
      },
      "execution_count": 124,
      "outputs": [
        {
          "output_type": "stream",
          "name": "stdout",
          "text": [
            "00042\n"
          ]
        }
      ]
    },
    {
      "cell_type": "code",
      "source": [
        "y = '-42'\n",
        "result = y.zfill(5)\n",
        "print(result) # -0042"
      ],
      "metadata": {
        "colab": {
          "base_uri": "https://localhost:8080/"
        },
        "id": "JcVvg3ufNmwF",
        "outputId": "dd055f0c-566a-4c46-d302-c64143bc12fb"
      },
      "execution_count": 125,
      "outputs": [
        {
          "output_type": "stream",
          "name": "stdout",
          "text": [
            "-0042\n"
          ]
        }
      ]
    },
    {
      "cell_type": "code",
      "source": [
        "# 문자열\n",
        "z = \"abc\"\n",
        "result = z.zfill(5)\n",
        "print(result) #00abc"
      ],
      "metadata": {
        "colab": {
          "base_uri": "https://localhost:8080/"
        },
        "id": "UiF-_qgANvqB",
        "outputId": "01722ee3-a494-4bef-b80f-5a715743703a"
      },
      "execution_count": 127,
      "outputs": [
        {
          "output_type": "stream",
          "name": "stdout",
          "text": [
            "00abc\n"
          ]
        }
      ]
    },
    {
      "cell_type": "code",
      "source": [
        "년 = \"23\"\n",
        "월 = \"9\"\n",
        "일 = \"8\"\n",
        "오늘날짜 =년 + 월 + 일\n",
        "print(오늘날짜)\n",
        "오늘날짜 = 년 + 월.zfill(2) + 일.zfill(2)\n",
        "print(오늘날짜)"
      ],
      "metadata": {
        "colab": {
          "base_uri": "https://localhost:8080/"
        },
        "id": "ufPUGVx0N5Wp",
        "outputId": "5185e9e1-a258-4cd2-e990-1476916fd38d"
      },
      "execution_count": 128,
      "outputs": [
        {
          "output_type": "stream",
          "name": "stdout",
          "text": [
            "2398\n",
            "230908\n"
          ]
        }
      ]
    },
    {
      "cell_type": "code",
      "source": [
        "# 1.14 translate\n",
        "\n",
        "#변환 테이블 사용\n",
        "table = str.maketrans('abc','123')"
      ],
      "metadata": {
        "id": "6n1S6-pyRdQz"
      },
      "execution_count": 133,
      "outputs": []
    },
    {
      "cell_type": "code",
      "source": [
        "text = 'abcde a b c abc'\n",
        "result = text.translate(table)\n",
        "print(result)"
      ],
      "metadata": {
        "colab": {
          "base_uri": "https://localhost:8080/"
        },
        "id": "vvTMwk20R0pa",
        "outputId": "9f8fd8d7-2532-43ee-d7ef-f68c42a279ef"
      },
      "execution_count": 134,
      "outputs": [
        {
          "output_type": "stream",
          "name": "stdout",
          "text": [
            "123de 1 2 3 123\n"
          ]
        }
      ]
    },
    {
      "cell_type": "code",
      "source": [
        "# 'd' 와 'e' 문자 제거하기\n",
        "table = str.maketrans('','','de')\n",
        "text = 'abcde     d     ede d ed '\n",
        "result = text.translate(table)\n",
        "print(result)"
      ],
      "metadata": {
        "colab": {
          "base_uri": "https://localhost:8080/"
        },
        "id": "d5UPlmHZR_oJ",
        "outputId": "6ae898d1-c5b0-4e17-8880-e1b7b5702aa2"
      },
      "execution_count": 135,
      "outputs": [
        {
          "output_type": "stream",
          "name": "stdout",
          "text": [
            "abc             \n"
          ]
        }
      ]
    },
    {
      "cell_type": "code",
      "source": [
        "# 1.15 이스케이프\n",
        "\n",
        "print(\"Hello\\nWorld!\") # Hello와 World! 사이에 줄바꿈이 일어납니다.\n",
        "print(\"Hello\\tWorld!\") # Hello와 World! 사이에 탭 간격이 생깁니다.\n",
        "print(\"She said, \\\"Hello World!\\\"\") # 큰따옴표 내부에 문자열을 출력합니다.\n",
        "print('She said, \\'Hello World!\\'') # 작은따옴표 내부에 문자열을 출력합니다.\n",
        "print(\"Backslash: \\\\\") # 백슬래시를 출력합니다."
      ],
      "metadata": {
        "colab": {
          "base_uri": "https://localhost:8080/"
        },
        "id": "x0NO8ZZvSs_o",
        "outputId": "59d244c2-ccbd-41df-8c2b-57e8ee3479c3"
      },
      "execution_count": 141,
      "outputs": [
        {
          "output_type": "stream",
          "name": "stdout",
          "text": [
            "Hello\n",
            "World!\n",
            "Hello\tWorld!\n",
            "She said, \"Hello World!\"\n",
            "She said, 'Hello World!'\n",
            "Backslash: \\\n"
          ]
        }
      ]
    },
    {
      "cell_type": "markdown",
      "source": [
        "#2. Bool"
      ],
      "metadata": {
        "id": "a19VOkGVXjUV"
      }
    },
    {
      "cell_type": "code",
      "source": [
        "x = True\n",
        "y = False\n",
        "z = 10 > 3\n",
        "print(x, y, z)"
      ],
      "metadata": {
        "colab": {
          "base_uri": "https://localhost:8080/"
        },
        "id": "rHrXTlkeXUb3",
        "outputId": "d5135e54-dfd2-4e59-814d-0838f7086524"
      },
      "execution_count": 142,
      "outputs": [
        {
          "output_type": "stream",
          "name": "stdout",
          "text": [
            "True False True\n"
          ]
        }
      ]
    },
    {
      "cell_type": "code",
      "source": [
        "print(True == 1) # 출력: True\n",
        "print(False == 0) # 출력: True"
      ],
      "metadata": {
        "colab": {
          "base_uri": "https://localhost:8080/"
        },
        "id": "3W5JwfOQXnHH",
        "outputId": "82d23ee1-6e50-4a94-9927-4b93beffa18a"
      },
      "execution_count": 143,
      "outputs": [
        {
          "output_type": "stream",
          "name": "stdout",
          "text": [
            "True\n",
            "True\n"
          ]
        }
      ]
    },
    {
      "cell_type": "code",
      "source": [
        "print(True + True) # 출력: 2\n",
        "print(False - True) # 출력: -1\n",
        "print(True / True) # 출력: 1.0\n",
        "print(True * False) # 출력: 0\n",
        "# print(True / False) # error"
      ],
      "metadata": {
        "colab": {
          "base_uri": "https://localhost:8080/"
        },
        "id": "qouIeLpkXqg_",
        "outputId": "96bf2d78-6b4d-4cb8-fe24-b1f46dc9fece"
      },
      "execution_count": 145,
      "outputs": [
        {
          "output_type": "stream",
          "name": "stdout",
          "text": [
            "2\n",
            "-1\n",
            "1.0\n",
            "0\n"
          ]
        }
      ]
    },
    {
      "cell_type": "markdown",
      "source": [
        "#3. None"
      ],
      "metadata": {
        "id": "TAYVDZlvXvzo"
      }
    },
    {
      "cell_type": "code",
      "source": [
        "월드 = None\n",
        "print(월드)"
      ],
      "metadata": {
        "colab": {
          "base_uri": "https://localhost:8080/"
        },
        "id": "U9UId9VQZTH-",
        "outputId": "7f093aa1-9d95-4aec-df95-543c1bbd49da"
      },
      "execution_count": 148,
      "outputs": [
        {
          "output_type": "stream",
          "name": "stdout",
          "text": [
            "None\n"
          ]
        }
      ]
    },
    {
      "cell_type": "code",
      "source": [
        "dir(None)"
      ],
      "metadata": {
        "colab": {
          "base_uri": "https://localhost:8080/"
        },
        "id": "6wsUWL_OZWp6",
        "outputId": "7f4920a8-e6f5-40a8-d05e-83f199e36b19"
      },
      "execution_count": 149,
      "outputs": [
        {
          "output_type": "execute_result",
          "data": {
            "text/plain": [
              "['__bool__',\n",
              " '__class__',\n",
              " '__delattr__',\n",
              " '__dir__',\n",
              " '__doc__',\n",
              " '__eq__',\n",
              " '__format__',\n",
              " '__ge__',\n",
              " '__getattribute__',\n",
              " '__gt__',\n",
              " '__hash__',\n",
              " '__init__',\n",
              " '__init_subclass__',\n",
              " '__le__',\n",
              " '__lt__',\n",
              " '__ne__',\n",
              " '__new__',\n",
              " '__reduce__',\n",
              " '__reduce_ex__',\n",
              " '__repr__',\n",
              " '__setattr__',\n",
              " '__sizeof__',\n",
              " '__str__',\n",
              " '__subclasshook__']"
            ]
          },
          "metadata": {},
          "execution_count": 149
        }
      ]
    },
    {
      "cell_type": "code",
      "source": [
        "x = None\n",
        "\n",
        "print(x == None)    # True, 하지만 이 방식은 권장되지 않습니다.\n",
        "print(x is None)    # True, 이 방식을 사용하여 None을 확인하는 것이 좋습니다."
      ],
      "metadata": {
        "colab": {
          "base_uri": "https://localhost:8080/"
        },
        "id": "BMLItwgiZjU2",
        "outputId": "ac9fa535-2f07-4f09-d597-f3be892b1e33"
      },
      "execution_count": 150,
      "outputs": [
        {
          "output_type": "stream",
          "name": "stdout",
          "text": [
            "True\n",
            "True\n"
          ]
        }
      ]
    },
    {
      "cell_type": "code",
      "source": [
        "'010-1000-2000'.replace('0', 'x').split('-')\n",
        "#split은 리스트로 정리하는데 이런경우 문자열이 아니라서 replace를 뒤에 사용하면 오류가 발생한다"
      ],
      "metadata": {
        "colab": {
          "base_uri": "https://localhost:8080/"
        },
        "id": "VlhnDTd2ZqMX",
        "outputId": "d0da2aaf-70f8-4afe-b3fb-afcb771cc906"
      },
      "execution_count": 153,
      "outputs": [
        {
          "output_type": "execute_result",
          "data": {
            "text/plain": [
              "['x1x', '1xxx', '2xxx']"
            ]
          },
          "metadata": {},
          "execution_count": 153
        }
      ]
    },
    {
      "cell_type": "code",
      "source": [
        "# 1. 형변환 기본 예제\n",
        "\n",
        "월급 = input(\"월급을 입력하세요:\")\n",
        "연봉 = int(월급) * 12 # 올바른 방식\n",
        "print(연봉)"
      ],
      "metadata": {
        "colab": {
          "base_uri": "https://localhost:8080/"
        },
        "id": "fGYLepLjavFi",
        "outputId": "007e0398-5c6c-42ad-9b7c-878a8a661a1d"
      },
      "execution_count": 157,
      "outputs": [
        {
          "output_type": "stream",
          "name": "stdout",
          "text": [
            "월급을 입력하세요:1000000000000\n",
            "12000000000000\n"
          ]
        }
      ]
    },
    {
      "cell_type": "code",
      "source": [
        "# 4.2 소수형 -> 정수형\n",
        "\n",
        "f = 3.14159\n",
        "number = int(f)\n",
        "print(number)  # 출력: 3"
      ],
      "metadata": {
        "colab": {
          "base_uri": "https://localhost:8080/"
        },
        "id": "f0zkGFJfvZIS",
        "outputId": "7781e093-fcef-4b9a-c93c-870cada00e87"
      },
      "execution_count": 160,
      "outputs": [
        {
          "output_type": "stream",
          "name": "stdout",
          "text": [
            "3\n"
          ]
        }
      ]
    },
    {
      "cell_type": "code",
      "source": [
        "# 4.3 불린 -> 정수형\n",
        "\n",
        "true_int = int(True)\n",
        "false_int = int(False)\n",
        "\n",
        "print(true_int)  # 출력: 1\n",
        "print(false_int)  # 출력: 0"
      ],
      "metadata": {
        "colab": {
          "base_uri": "https://localhost:8080/"
        },
        "id": "ahvW32gHwTLq",
        "outputId": "51948ab3-e3d4-4298-c982-d355458f80d5"
      },
      "execution_count": 162,
      "outputs": [
        {
          "output_type": "stream",
          "name": "stdout",
          "text": [
            "1\n",
            "0\n"
          ]
        }
      ]
    },
    {
      "cell_type": "code",
      "source": [
        "# 4.4 None 형변환\n",
        "# None은 int형으로 변환이 가능하지 않습니다."
      ],
      "metadata": {
        "id": "hzr0Q50KxPJ8"
      },
      "execution_count": null,
      "outputs": []
    },
    {
      "cell_type": "code",
      "source": [
        "# 4.5 str 형변환\n",
        "n = 123\n",
        "print(type(n))\n",
        "\n",
        "m = 123.4\n",
        "print(type(n))\n",
        "\n",
        "n = str(n)\n",
        "print(type(n))\n",
        "\n",
        "m = str(m)\n",
        "print(type(m))"
      ],
      "metadata": {
        "colab": {
          "base_uri": "https://localhost:8080/"
        },
        "id": "S2G5z8Lfwc2T",
        "outputId": "8a6534cb-e360-44a0-ff64-37aaafa2f89c"
      },
      "execution_count": 163,
      "outputs": [
        {
          "output_type": "stream",
          "name": "stdout",
          "text": [
            "<class 'int'>\n",
            "<class 'int'>\n",
            "<class 'str'>\n",
            "<class 'str'>\n"
          ]
        }
      ]
    },
    {
      "cell_type": "code",
      "source": [
        "print(\"bool('test'):\", bool('test'))\n",
        "print(\"bool(' '):\", bool(' '))\n",
        "print(\"bool(''):\", bool(''))\n",
        "print(\"bool(100):\", bool(100))\n",
        "print(\"bool(1):\", bool(1))\n",
        "print(\"bool(0):\", bool(0))\n",
        "print(\"bool(-1):\", bool(-1))\n",
        "print(\"bool(None):\", bool(None))\n",
        "print(\"bool([]):\", bool([]))\n",
        "print(\"bool(tuple()):\", bool(tuple()))\n",
        "print(\"bool({}):\", bool({}))\n",
        "print(\"bool(set()):\", bool(set()))"
      ],
      "metadata": {
        "colab": {
          "base_uri": "https://localhost:8080/"
        },
        "id": "b5m9JbldxYgf",
        "outputId": "7c69bce2-a635-445b-87ea-8a58543668a9"
      },
      "execution_count": 164,
      "outputs": [
        {
          "output_type": "stream",
          "name": "stdout",
          "text": [
            "bool('test'): True\n",
            "bool(' '): True\n",
            "bool(''): False\n",
            "bool(100): True\n",
            "bool(1): True\n",
            "bool(0): False\n",
            "bool(-1): True\n",
            "bool(None): False\n",
            "bool([]): False\n",
            "bool(tuple()): False\n",
            "bool({}): False\n",
            "bool(set()): False\n"
          ]
        }
      ]
    },
    {
      "cell_type": "code",
      "source": [
        "s = 10\n",
        "print(float(s))\n",
        "\n",
        "s = '10'\n",
        "print(float(s))\n",
        "\n",
        "s = '3.14'\n",
        "print(int(30.999))\n",
        "print(float(s))"
      ],
      "metadata": {
        "colab": {
          "base_uri": "https://localhost:8080/"
        },
        "id": "84sQSJtHyDXJ",
        "outputId": "083468f3-91b5-4dd4-cae8-835d3fb18cde"
      },
      "execution_count": 173,
      "outputs": [
        {
          "output_type": "stream",
          "name": "stdout",
          "text": [
            "10.0\n",
            "10.0\n",
            "30\n",
            "3.14\n"
          ]
        }
      ]
    },
    {
      "cell_type": "code",
      "source": [
        "infinity = float('inf')\n",
        "neg_infinity = float('-inf')\n",
        "not_a_number = float('nan')"
      ],
      "metadata": {
        "id": "A2NZ9nwfynoc"
      },
      "execution_count": 168,
      "outputs": []
    },
    {
      "cell_type": "code",
      "source": [
        "print(infinity)\n",
        "print(neg_infinity)\n",
        "print(not_a_number)"
      ],
      "metadata": {
        "colab": {
          "base_uri": "https://localhost:8080/"
        },
        "id": "5Y3jfed_y1mh",
        "outputId": "97f77166-129d-4a50-9c6d-8e1ecfea985b"
      },
      "execution_count": 169,
      "outputs": [
        {
          "output_type": "stream",
          "name": "stdout",
          "text": [
            "inf\n",
            "-inf\n",
            "nan\n"
          ]
        }
      ]
    },
    {
      "cell_type": "code",
      "source": [
        "# map\n",
        "\n",
        "list(map(int, ['10', '20', '30'])) # 출력: [10, 20, 30]"
      ],
      "metadata": {
        "colab": {
          "base_uri": "https://localhost:8080/"
        },
        "id": "92z3XBQMy-vJ",
        "outputId": "bc798d20-b8c5-4180-f8ae-931bce443248"
      },
      "execution_count": 170,
      "outputs": [
        {
          "output_type": "execute_result",
          "data": {
            "text/plain": [
              "[10, 20, 30]"
            ]
          },
          "metadata": {},
          "execution_count": 170
        }
      ]
    },
    {
      "cell_type": "code",
      "source": [
        "list(map(int, '12345')) # 출력: [1, 2, 3, 4, 5]"
      ],
      "metadata": {
        "colab": {
          "base_uri": "https://localhost:8080/"
        },
        "id": "3o4HjuzM1TE5",
        "outputId": "0d3e1684-68ea-459e-933c-c51d3d01df87"
      },
      "execution_count": 171,
      "outputs": [
        {
          "output_type": "execute_result",
          "data": {
            "text/plain": [
              "[1, 2, 3, 4, 5]"
            ]
          },
          "metadata": {},
          "execution_count": 171
        }
      ]
    },
    {
      "cell_type": "markdown",
      "source": [
        "# 4. 산술연산\n"
      ],
      "metadata": {
        "id": "VxDNp-9H-sZY"
      }
    },
    {
      "cell_type": "code",
      "source": [
        "a = 10\n",
        "b = 3\n",
        "divide = a / b\n",
        "print(f'{a} ÷ {b} = {divide:.2f}')  # 결과: 10 ÷ 3 = 3.33"
      ],
      "metadata": {
        "colab": {
          "base_uri": "https://localhost:8080/"
        },
        "id": "-Rm9K-Dh1Trk",
        "outputId": "bfcd756a-7711-4ab7-9296-488201baea6c"
      },
      "execution_count": 175,
      "outputs": [
        {
          "output_type": "stream",
          "name": "stdout",
          "text": [
            "10 ÷ 3 = 3.33\n"
          ]
        }
      ]
    },
    {
      "cell_type": "code",
      "source": [
        "print(divide)"
      ],
      "metadata": {
        "colab": {
          "base_uri": "https://localhost:8080/"
        },
        "id": "f_qZh9ZQ-07H",
        "outputId": "54731a35-8cbd-4571-cf05-827b9093a3c9"
      },
      "execution_count": 177,
      "outputs": [
        {
          "output_type": "stream",
          "name": "stdout",
          "text": [
            "3.3333333333333335\n"
          ]
        }
      ]
    },
    {
      "cell_type": "code",
      "source": [
        "# 1.2 나머지\n",
        "print(10/3) # 소수 몫\n",
        "print(10//3) # 정수 몫\n",
        "print(10 % 3) # 결과: 1"
      ],
      "metadata": {
        "colab": {
          "base_uri": "https://localhost:8080/"
        },
        "id": "nTlPIZk3-422",
        "outputId": "fe9cee88-809c-4bfc-c9ff-2fb7b2d791ab"
      },
      "execution_count": 183,
      "outputs": [
        {
          "output_type": "stream",
          "name": "stdout",
          "text": [
            "3.3333333333333335\n",
            "3\n",
            "1\n"
          ]
        }
      ]
    },
    {
      "cell_type": "code",
      "source": [
        "print(-2 ** 2)"
      ],
      "metadata": {
        "colab": {
          "base_uri": "https://localhost:8080/"
        },
        "id": "q049WS0B_MH2",
        "outputId": "30c796b1-10c0-42e7-e914-cb77813ac920"
      },
      "execution_count": 190,
      "outputs": [
        {
          "output_type": "stream",
          "name": "stdout",
          "text": [
            "-4\n"
          ]
        }
      ]
    },
    {
      "cell_type": "code",
      "source": [
        "list('Hi' * 3)"
      ],
      "metadata": {
        "colab": {
          "base_uri": "https://localhost:8080/"
        },
        "id": "8Ge44GXXA0Dr",
        "outputId": "212b124d-58fe-4714-924c-6f4c8c178dc8"
      },
      "execution_count": 199,
      "outputs": [
        {
          "output_type": "execute_result",
          "data": {
            "text/plain": [
              "['H', 'i', 'H', 'i', 'H', 'i']"
            ]
          },
          "metadata": {},
          "execution_count": 199
        }
      ]
    },
    {
      "cell_type": "code",
      "source": [
        "# 비교 연산자\n",
        "print(5 != 3) # 결과: True"
      ],
      "metadata": {
        "colab": {
          "base_uri": "https://localhost:8080/"
        },
        "id": "5feqfrIwDh49",
        "outputId": "365ad867-bcc4-480e-8b8b-f53a9aa4da7d"
      },
      "execution_count": 200,
      "outputs": [
        {
          "output_type": "stream",
          "name": "stdout",
          "text": [
            "True\n"
          ]
        }
      ]
    },
    {
      "cell_type": "code",
      "source": [
        "import math\n",
        "\n",
        "result = 0.1 + 0.2\n",
        "print(result == 0.3)              # False\n",
        "print(math.isclose(result, 0.3))  # True\n",
        "print(math.isclose(result, 0.29)) # False\n",
        "print(math.isclose(result, 0.31)) # False\n",
        "print(math.isclose(result, 0.30000001)) # False"
      ],
      "metadata": {
        "colab": {
          "base_uri": "https://localhost:8080/"
        },
        "id": "kJ6dzQbWD3DG",
        "outputId": "46372cf8-bd6f-4d73-dd92-8c7a8307822b"
      },
      "execution_count": 201,
      "outputs": [
        {
          "output_type": "stream",
          "name": "stdout",
          "text": [
            "False\n",
            "True\n",
            "False\n",
            "False\n",
            "False\n"
          ]
        }
      ]
    },
    {
      "cell_type": "code",
      "source": [],
      "metadata": {
        "id": "chVKyeg2EG9O"
      },
      "execution_count": null,
      "outputs": []
    }
  ]
}